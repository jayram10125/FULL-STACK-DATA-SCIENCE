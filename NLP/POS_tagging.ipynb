{
 "cells": [
  {
   "cell_type": "markdown",
   "id": "6b7ffecc",
   "metadata": {},
   "source": [
    "### POS_tagging"
   ]
  },
  {
   "cell_type": "code",
   "execution_count": 13,
   "id": "42b5e9a4",
   "metadata": {},
   "outputs": [],
   "source": [
    "import nltk\n",
    "from nltk.tokenize import word_tokenize\n",
    "from nltk import pos_tag\n",
    "from nltk.stem import WordNetLemmatizer"
   ]
  },
  {
   "cell_type": "code",
   "execution_count": 21,
   "id": "c0e18743",
   "metadata": {},
   "outputs": [
    {
     "name": "stderr",
     "output_type": "stream",
     "text": [
      "[nltk_data] Downloading package punkt to\n",
      "[nltk_data]     C:\\Users\\jayra\\AppData\\Roaming\\nltk_data...\n",
      "[nltk_data]   Package punkt is already up-to-date!\n",
      "[nltk_data] Downloading package averaged_perceptron_tagger to\n",
      "[nltk_data]     C:\\Users\\jayra\\AppData\\Roaming\\nltk_data...\n",
      "[nltk_data]   Package averaged_perceptron_tagger is already up-to-\n",
      "[nltk_data]       date!\n",
      "[nltk_data] Downloading package wordnet to\n",
      "[nltk_data]     C:\\Users\\jayra\\AppData\\Roaming\\nltk_data...\n",
      "[nltk_data]   Package wordnet is already up-to-date!\n",
      "[nltk_data] Downloading package averaged_perceptron_tagger_eng to\n",
      "[nltk_data]     C:\\Users\\jayra\\AppData\\Roaming\\nltk_data...\n",
      "[nltk_data]   Package averaged_perceptron_tagger_eng is already up-to-\n",
      "[nltk_data]       date!\n",
      "[nltk_data] Downloading package omw-1.4 to\n",
      "[nltk_data]     C:\\Users\\jayra\\AppData\\Roaming\\nltk_data...\n"
     ]
    },
    {
     "data": {
      "text/plain": [
       "True"
      ]
     },
     "execution_count": 21,
     "metadata": {},
     "output_type": "execute_result"
    }
   ],
   "source": [
    "nltk.download(\"punkt\")\n",
    "nltk.download('averaged_perceptron_tagger') # for pos_tag\n",
    "nltk.download('wordnet')\n",
    "nltk.download('averaged_perceptron_tagger_eng')\n",
    "nltk.download('omw-1.4') "
   ]
  },
  {
   "cell_type": "code",
   "execution_count": 22,
   "id": "093d4f62",
   "metadata": {},
   "outputs": [
    {
     "name": "stdout",
     "output_type": "stream",
     "text": [
      "['the', 'cats', 'are', 'running', 'faster', 'then', 'the', 'dog']\n"
     ]
    },
    {
     "data": {
      "text/plain": [
       "[('the', 'DT'),\n",
       " ('cats', 'NNS'),\n",
       " ('are', 'VBP'),\n",
       " ('running', 'VBG'),\n",
       " ('faster', 'RBR'),\n",
       " ('then', 'RB'),\n",
       " ('the', 'DT'),\n",
       " ('dog', 'NN')]"
      ]
     },
     "execution_count": 22,
     "metadata": {},
     "output_type": "execute_result"
    }
   ],
   "source": [
    "sentence = \"the cats are running faster then the dog\"\n",
    "tokens = word_tokenize(sentence)\n",
    "print(tokens)\n",
    "tagged_tokens=nltk.pos_tag(tokens)\n",
    "tagged_tokens"
   ]
  },
  {
   "cell_type": "code",
   "execution_count": 27,
   "id": "805dc474",
   "metadata": {},
   "outputs": [
    {
     "name": "stdout",
     "output_type": "stream",
     "text": [
      "['the', 'cats', 'are', 'running', 'faster', 'then', 'the', 'dog']\n",
      "[('the', 'DT'), ('cats', 'NNS'), ('are', 'VBP'), ('running', 'VBG'), ('faster', 'RBR'), ('then', 'RB'), ('the', 'DT'), ('dog', 'NN')]\n",
      "\n",
      "['the', 'cat', 'be', 'run', 'faster', 'then', 'the', 'dog']\n"
     ]
    }
   ],
   "source": [
    "sentence = \"the cats are running faster  then the dog\"\n",
    "tokens = word_tokenize(sentence)\n",
    "print(tokens, end='\\n')\n",
    "tagged_tokens=nltk.pos_tag(tokens)\n",
    "print(tagged_tokens)\n",
    "print()\n",
    "\n",
    "\n",
    "def get_wordnet_pos(tag):\n",
    "    if tag.startswith('J'):\n",
    "        return wordnet.ADJ\n",
    "    elif tag.startswith('V'):\n",
    "        return wordnet.VERB\n",
    "    elif tag.startswith('N'):\n",
    "        return wordnet.NOUN\n",
    "    elif tag.startswith('R'):\n",
    "        return wordnet.ADV\n",
    "    elif tag.startswith('P'):\n",
    "        return wordnet.PRONOUN\n",
    "    elif tag.startswith('I'):\n",
    "        return wordnet.PREPOSITION\n",
    "    elif tag.startswith('A'):\n",
    "        return wordnet.ADJECTIVE\n",
    "    else:\n",
    "        return wordnet.NOUN\n",
    "\n",
    "\n",
    "\n",
    "\n",
    "\n",
    "lemmatizer  = WordNetLemmatizer()\n",
    "lemma_word=[]\n",
    "for word,tag in tagged_tokens:\n",
    "    lemma_word.append(lemmatizer.lemmatize(word,get_wordnet_pos(tag)))\n",
    "\n",
    "print(lemma_word)"
   ]
  },
  {
   "cell_type": "code",
   "execution_count": null,
   "id": "e6c6a16b",
   "metadata": {},
   "outputs": [],
   "source": []
  }
 ],
 "metadata": {
  "kernelspec": {
   "display_name": ".venv",
   "language": "python",
   "name": "python3"
  },
  "language_info": {
   "codemirror_mode": {
    "name": "ipython",
    "version": 3
   },
   "file_extension": ".py",
   "mimetype": "text/x-python",
   "name": "python",
   "nbconvert_exporter": "python",
   "pygments_lexer": "ipython3",
   "version": "3.12.5"
  }
 },
 "nbformat": 4,
 "nbformat_minor": 5
}
