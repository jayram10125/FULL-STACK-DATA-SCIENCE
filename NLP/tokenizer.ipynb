{
 "cells": [
  {
   "cell_type": "code",
   "execution_count": 6,
   "id": "4dbf5cee",
   "metadata": {},
   "outputs": [
    {
     "name": "stdout",
     "output_type": "stream",
     "text": [
      "Collecting nltk\n",
      "  Downloading nltk-3.9.1-py3-none-any.whl.metadata (2.9 kB)\n",
      "Collecting click (from nltk)\n",
      "  Downloading click-8.3.0-py3-none-any.whl.metadata (2.6 kB)\n",
      "Collecting joblib (from nltk)\n",
      "  Downloading joblib-1.5.2-py3-none-any.whl.metadata (5.6 kB)\n",
      "Collecting regex>=2021.8.3 (from nltk)\n",
      "  Downloading regex-2025.9.18-cp312-cp312-win_amd64.whl.metadata (41 kB)\n",
      "Collecting tqdm (from nltk)\n",
      "  Downloading tqdm-4.67.1-py3-none-any.whl.metadata (57 kB)\n",
      "Requirement already satisfied: colorama in c:\\users\\jayra\\onedrive\\desktop\\full stack data science\\.venv\\lib\\site-packages (from click->nltk) (0.4.6)\n",
      "Downloading nltk-3.9.1-py3-none-any.whl (1.5 MB)\n",
      "   ---------------------------------------- 0.0/1.5 MB ? eta -:--:--\n",
      "   ---------------------------------------- 0.0/1.5 MB ? eta -:--:--\n",
      "   ---------------------------------------- 0.0/1.5 MB ? eta -:--:--\n",
      "   ---------------------------------------- 0.0/1.5 MB ? eta -:--:--\n",
      "   ---------------------------------------- 0.0/1.5 MB ? eta -:--:--\n",
      "   ---------------------------------------- 0.0/1.5 MB ? eta -:--:--\n",
      "   ---------------------------------------- 0.0/1.5 MB ? eta -:--:--\n",
      "   ------ --------------------------------- 0.3/1.5 MB ? eta -:--:--\n",
      "   ------ --------------------------------- 0.3/1.5 MB ? eta -:--:--\n",
      "   ------ --------------------------------- 0.3/1.5 MB ? eta -:--:--\n",
      "   ------ --------------------------------- 0.3/1.5 MB ? eta -:--:--\n",
      "   ------ --------------------------------- 0.3/1.5 MB ? eta -:--:--\n",
      "   ------------- -------------------------- 0.5/1.5 MB 258.3 kB/s eta 0:00:04\n",
      "   ------------- -------------------------- 0.5/1.5 MB 258.3 kB/s eta 0:00:04\n",
      "   ------------- -------------------------- 0.5/1.5 MB 258.3 kB/s eta 0:00:04\n",
      "   ------------- -------------------------- 0.5/1.5 MB 258.3 kB/s eta 0:00:04\n",
      "   ------------- -------------------------- 0.5/1.5 MB 258.3 kB/s eta 0:00:04\n",
      "   ------------- -------------------------- 0.5/1.5 MB 258.3 kB/s eta 0:00:04\n",
      "   ------------- -------------------------- 0.5/1.5 MB 258.3 kB/s eta 0:00:04\n",
      "   ------------- -------------------------- 0.5/1.5 MB 258.3 kB/s eta 0:00:04\n",
      "   ------------- -------------------------- 0.5/1.5 MB 258.3 kB/s eta 0:00:04\n",
      "   ------------- -------------------------- 0.5/1.5 MB 258.3 kB/s eta 0:00:04\n",
      "   ------------- -------------------------- 0.5/1.5 MB 258.3 kB/s eta 0:00:04\n",
      "   ------------- -------------------------- 0.5/1.5 MB 258.3 kB/s eta 0:00:04\n",
      "   -------------------- ------------------- 0.8/1.5 MB 141.6 kB/s eta 0:00:06\n",
      "   -------------------- ------------------- 0.8/1.5 MB 141.6 kB/s eta 0:00:06\n",
      "   -------------------- ------------------- 0.8/1.5 MB 141.6 kB/s eta 0:00:06\n",
      "   -------------------- ------------------- 0.8/1.5 MB 141.6 kB/s eta 0:00:06\n",
      "   -------------------- ------------------- 0.8/1.5 MB 141.6 kB/s eta 0:00:06\n",
      "   -------------------- ------------------- 0.8/1.5 MB 141.6 kB/s eta 0:00:06\n",
      "   -------------------- ------------------- 0.8/1.5 MB 141.6 kB/s eta 0:00:06\n",
      "   --------------------------- ------------ 1.0/1.5 MB 154.4 kB/s eta 0:00:03\n",
      "   --------------------------- ------------ 1.0/1.5 MB 154.4 kB/s eta 0:00:03\n",
      "   --------------------------- ------------ 1.0/1.5 MB 154.4 kB/s eta 0:00:03\n",
      "   --------------------------- ------------ 1.0/1.5 MB 154.4 kB/s eta 0:00:03\n",
      "   --------------------------- ------------ 1.0/1.5 MB 154.4 kB/s eta 0:00:03\n",
      "   --------------------------- ------------ 1.0/1.5 MB 154.4 kB/s eta 0:00:03\n",
      "   ---------------------------------- ----- 1.3/1.5 MB 168.2 kB/s eta 0:00:02\n",
      "   ---------------------------------- ----- 1.3/1.5 MB 168.2 kB/s eta 0:00:02\n",
      "   ---------------------------------------- 1.5/1.5 MB 181.3 kB/s  0:00:08\n",
      "Downloading regex-2025.9.18-cp312-cp312-win_amd64.whl (275 kB)\n",
      "Downloading click-8.3.0-py3-none-any.whl (107 kB)\n",
      "Downloading joblib-1.5.2-py3-none-any.whl (308 kB)\n",
      "Downloading tqdm-4.67.1-py3-none-any.whl (78 kB)\n",
      "Installing collected packages: tqdm, regex, joblib, click, nltk\n",
      "\n",
      "   -------- ------------------------------- 1/5 [regex]\n",
      "   ---------------- ----------------------- 2/5 [joblib]\n",
      "   ---------------- ----------------------- 2/5 [joblib]\n",
      "   ---------------- ----------------------- 2/5 [joblib]\n",
      "   ------------------------ --------------- 3/5 [click]\n",
      "   -------------------------------- ------- 4/5 [nltk]\n",
      "   -------------------------------- ------- 4/5 [nltk]\n",
      "   -------------------------------- ------- 4/5 [nltk]\n",
      "   -------------------------------- ------- 4/5 [nltk]\n",
      "   -------------------------------- ------- 4/5 [nltk]\n",
      "   -------------------------------- ------- 4/5 [nltk]\n",
      "   -------------------------------- ------- 4/5 [nltk]\n",
      "   -------------------------------- ------- 4/5 [nltk]\n",
      "   -------------------------------- ------- 4/5 [nltk]\n",
      "   -------------------------------- ------- 4/5 [nltk]\n",
      "   -------------------------------- ------- 4/5 [nltk]\n",
      "   -------------------------------- ------- 4/5 [nltk]\n",
      "   ---------------------------------------- 5/5 [nltk]\n",
      "\n",
      "Successfully installed click-8.3.0 joblib-1.5.2 nltk-3.9.1 regex-2025.9.18 tqdm-4.67.1\n"
     ]
    }
   ],
   "source": [
    "!pip install nltk"
   ]
  },
  {
   "cell_type": "code",
   "execution_count": 11,
   "id": "b4560990",
   "metadata": {},
   "outputs": [],
   "source": [
    "import nltk\n",
    "from nltk.tokenize import word_tokenize,sent_tokenize\n"
   ]
  },
  {
   "cell_type": "code",
   "execution_count": 13,
   "id": "05858c52",
   "metadata": {},
   "outputs": [
    {
     "name": "stderr",
     "output_type": "stream",
     "text": [
      "[nltk_data] Downloading package punkt to\n",
      "[nltk_data]     C:\\Users\\jayra\\AppData\\Roaming\\nltk_data...\n",
      "[nltk_data]   Package punkt is already up-to-date!\n"
     ]
    },
    {
     "data": {
      "text/plain": [
       "True"
      ]
     },
     "execution_count": 13,
     "metadata": {},
     "output_type": "execute_result"
    }
   ],
   "source": [
    "nltk.download(\"punkt\")"
   ]
  },
  {
   "cell_type": "markdown",
   "id": "d8afabc0",
   "metadata": {},
   "source": [
    "### word tokenization"
   ]
  },
  {
   "cell_type": "code",
   "execution_count": 17,
   "id": "f65304c4",
   "metadata": {},
   "outputs": [
    {
     "data": {
      "text/plain": [
       "['hello', 'everyone', ',', 'i', \"'m\", 'jay', 'a', 'data', 'scientist']"
      ]
     },
     "execution_count": 17,
     "metadata": {},
     "output_type": "execute_result"
    }
   ],
   "source": [
    "text = \"hello everyone, i'm jay a data scientist\"\n",
    "word_tokens = word_tokenize(text)\n",
    "word_tokens"
   ]
  },
  {
   "cell_type": "markdown",
   "id": "6f84b9ea",
   "metadata": {},
   "source": [
    "### Sentence tokenization"
   ]
  },
  {
   "cell_type": "code",
   "execution_count": 18,
   "id": "98f5127d",
   "metadata": {},
   "outputs": [
    {
     "data": {
      "text/plain": [
       "[\"hello everyone, i'm jay a data scientist\"]"
      ]
     },
     "execution_count": 18,
     "metadata": {},
     "output_type": "execute_result"
    }
   ],
   "source": [
    "sent_tokens = sent_tokenize(text)\n",
    "sent_tokens"
   ]
  },
  {
   "cell_type": "markdown",
   "id": "7614eaf3",
   "metadata": {},
   "source": [
    "### sub_words tokenization"
   ]
  },
  {
   "cell_type": "code",
   "execution_count": null,
   "id": "713d1c3c",
   "metadata": {},
   "outputs": [],
   "source": []
  },
  {
   "cell_type": "markdown",
   "id": "11093cfa",
   "metadata": {},
   "source": [
    "### n_gram tokenization"
   ]
  },
  {
   "cell_type": "code",
   "execution_count": 21,
   "id": "16e7648b",
   "metadata": {},
   "outputs": [
    {
     "name": "stdout",
     "output_type": "stream",
     "text": [
      "[('hello', 'everyone,'), ('everyone,', \"i'm\"), (\"i'm\", 'jay'), ('jay', 'a'), ('a', 'data'), ('data', 'scientist')]\n"
     ]
    }
   ],
   "source": [
    "from nltk import ngrams\n",
    "\n",
    "tokens = text.split()\n",
    "\n",
    "# n=2\n",
    "biGrams = list(ngrams(tokens,2))\n",
    "print(biGrams)\n"
   ]
  },
  {
   "cell_type": "code",
   "execution_count": null,
   "id": "801dd617",
   "metadata": {},
   "outputs": [],
   "source": []
  }
 ],
 "metadata": {
  "kernelspec": {
   "display_name": ".venv",
   "language": "python",
   "name": "python3"
  },
  "language_info": {
   "codemirror_mode": {
    "name": "ipython",
    "version": 3
   },
   "file_extension": ".py",
   "mimetype": "text/x-python",
   "name": "python",
   "nbconvert_exporter": "python",
   "pygments_lexer": "ipython3",
   "version": "3.12.5"
  }
 },
 "nbformat": 4,
 "nbformat_minor": 5
}
