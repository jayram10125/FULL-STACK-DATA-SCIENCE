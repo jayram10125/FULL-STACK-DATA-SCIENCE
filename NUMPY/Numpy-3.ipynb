{
 "cells": [
  {
   "cell_type": "markdown",
   "id": "0b006f95-8a8e-433f-a728-933de16d260a",
   "metadata": {},
   "source": [
    "### np.sort\n",
    "\n",
    "Return a sorted copy of an array.\n",
    "But normal sorted function ek list return karta hai lekin np.sort ek numpy array return karta hai\n",
    "\n",
    "https://numpy.org/doc/stable/reference/generated/numpy.sort.html"
   ]
  },
  {
   "cell_type": "code",
   "execution_count": 5,
   "id": "6d9a37b9-0466-4979-a8ab-01b71ed5ded0",
   "metadata": {},
   "outputs": [
    {
     "data": {
      "text/plain": [
       "array([74, 22, 23, 61, 32,  6, 90, 49,  1, 42, 38, 34, 59, 98, 20])"
      ]
     },
     "execution_count": 5,
     "metadata": {},
     "output_type": "execute_result"
    }
   ],
   "source": [
    "# code\n",
    "import numpy as np\n",
    "a = np.random.randint(1,100,15)\n",
    "a"
   ]
  },
  {
   "cell_type": "code",
   "execution_count": 7,
   "id": "e173343f-7e2f-43f3-9708-5e5177515c79",
   "metadata": {},
   "outputs": [
    {
     "data": {
      "text/plain": [
       "array([[55, 58,  8, 61],\n",
       "       [74, 94, 56, 99],\n",
       "       [95, 43, 47, 92],\n",
       "       [40, 91, 38, 96],\n",
       "       [85, 79, 11, 54],\n",
       "       [19, 52, 84, 68]])"
      ]
     },
     "execution_count": 7,
     "metadata": {},
     "output_type": "execute_result"
    }
   ],
   "source": [
    "b =np.random.randint(1,100,24).reshape(6,4)\n",
    "b"
   ]
  },
  {
   "cell_type": "code",
   "execution_count": 6,
   "id": "2f2326ea-9fe5-4c26-b0ef-6e2875093b60",
   "metadata": {},
   "outputs": [
    {
     "data": {
      "text/plain": [
       "array([12, 17, 28, 33, 33, 35, 37, 48, 53, 54, 63, 64, 82, 85, 88])"
      ]
     },
     "execution_count": 6,
     "metadata": {},
     "output_type": "execute_result"
    }
   ],
   "source": [
    "np.sort(a)"
   ]
  },
  {
   "cell_type": "code",
   "execution_count": 8,
   "id": "90170388-4a46-422a-8307-278ec06160ce",
   "metadata": {},
   "outputs": [
    {
     "data": {
      "text/plain": [
       "array([88, 85, 82, 64, 63, 54, 53, 48, 37, 35, 33, 33, 28, 17, 12])"
      ]
     },
     "execution_count": 8,
     "metadata": {},
     "output_type": "execute_result"
    }
   ],
   "source": [
    "np.sort(a)[::-1]  # abb reverse order me sort kar dega"
   ]
  },
  {
   "cell_type": "code",
   "execution_count": 9,
   "id": "57ffa583-be34-48ba-aefe-4b80b2d7bd39",
   "metadata": {},
   "outputs": [
    {
     "data": {
      "text/plain": [
       "array([[ 8, 55, 58, 61],\n",
       "       [56, 74, 94, 99],\n",
       "       [43, 47, 92, 95],\n",
       "       [38, 40, 91, 96],\n",
       "       [11, 54, 79, 85],\n",
       "       [19, 52, 68, 84]])"
      ]
     },
     "execution_count": 9,
     "metadata": {},
     "output_type": "execute_result"
    }
   ],
   "source": [
    "np.sort(b)  #row wise sorting ho jata hai and ye by default hota hai agar aap explicitely karna chahate ho to axis=1 kar do and if aap column wise karna chahate ho to axis=0 de do"
   ]
  },
  {
   "cell_type": "code",
   "execution_count": 11,
   "id": "7f817905-c957-4467-b930-6186a13d9a63",
   "metadata": {},
   "outputs": [
    {
     "data": {
      "text/plain": [
       "array([[ 8, 55, 58, 61],\n",
       "       [56, 74, 94, 99],\n",
       "       [43, 47, 92, 95],\n",
       "       [38, 40, 91, 96],\n",
       "       [11, 54, 79, 85],\n",
       "       [19, 52, 68, 84]])"
      ]
     },
     "execution_count": 11,
     "metadata": {},
     "output_type": "execute_result"
    }
   ],
   "source": [
    "np.sort(b,axis=1)  # row wise sorting"
   ]
  },
  {
   "cell_type": "code",
   "execution_count": 13,
   "id": "df216922-1d2f-4cd2-ae0a-549b6d42c8e5",
   "metadata": {},
   "outputs": [
    {
     "data": {
      "text/plain": [
       "array([[19, 43,  8, 54],\n",
       "       [40, 52, 11, 61],\n",
       "       [55, 58, 38, 68],\n",
       "       [74, 79, 47, 92],\n",
       "       [85, 91, 56, 96],\n",
       "       [95, 94, 84, 99]])"
      ]
     },
     "execution_count": 13,
     "metadata": {},
     "output_type": "execute_result"
    }
   ],
   "source": [
    "np.sort(b,axis=0)  #column  wise sorting"
   ]
  },
  {
   "cell_type": "markdown",
   "id": "2122232a-ba43-4555-9cd9-53ca8b788457",
   "metadata": {},
   "source": [
    "### np.append\n",
    "\n",
    "The numpy.append() appends values along the mentioned axis at the end of the array\n",
    "\n",
    "https://numpy.org/doc/stable/reference/generated/numpy.append.html"
   ]
  },
  {
   "cell_type": "code",
   "execution_count": 17,
   "id": "8a53037d-5678-4bf4-8703-8825be20563a",
   "metadata": {},
   "outputs": [
    {
     "data": {
      "text/plain": [
       "array([37, 88, 64, 35, 12, 54, 33, 28, 85, 33, 53, 17, 48, 63, 82])"
      ]
     },
     "execution_count": 17,
     "metadata": {},
     "output_type": "execute_result"
    }
   ],
   "source": [
    "a"
   ]
  },
  {
   "cell_type": "code",
   "execution_count": 19,
   "id": "5ea3ccb6-0706-4393-b96c-c0cf48c11c6b",
   "metadata": {},
   "outputs": [
    {
     "data": {
      "text/plain": [
       "array([ 37,  88,  64,  35,  12,  54,  33,  28,  85,  33,  53,  17,  48,\n",
       "        63,  82, 100])"
      ]
     },
     "execution_count": 19,
     "metadata": {},
     "output_type": "execute_result"
    }
   ],
   "source": [
    "np.append(a,100)  # a ke end me 100 append kar dega"
   ]
  },
  {
   "cell_type": "code",
   "execution_count": 15,
   "id": "735e2e12-9c65-4706-8284-6976bdb01107",
   "metadata": {},
   "outputs": [
    {
     "data": {
      "text/plain": [
       "array([[55, 58,  8, 61],\n",
       "       [74, 94, 56, 99],\n",
       "       [95, 43, 47, 92],\n",
       "       [40, 91, 38, 96],\n",
       "       [85, 79, 11, 54],\n",
       "       [19, 52, 84, 68]])"
      ]
     },
     "execution_count": 15,
     "metadata": {},
     "output_type": "execute_result"
    }
   ],
   "source": [
    "b"
   ]
  },
  {
   "cell_type": "code",
   "execution_count": 26,
   "id": "d20ef991-3db0-46a7-b738-8d05f9d3a91b",
   "metadata": {},
   "outputs": [
    {
     "data": {
      "text/plain": [
       "array([[55.        , 58.        ,  8.        , 61.        ,  0.39240412],\n",
       "       [74.        , 94.        , 56.        , 99.        ,  0.77475189],\n",
       "       [95.        , 43.        , 47.        , 92.        ,  0.46240936],\n",
       "       [40.        , 91.        , 38.        , 96.        ,  0.17029471],\n",
       "       [85.        , 79.        , 11.        , 54.        ,  0.89727728],\n",
       "       [19.        , 52.        , 84.        , 68.        ,  0.10238452]])"
      ]
     },
     "execution_count": 26,
     "metadata": {},
     "output_type": "execute_result"
    }
   ],
   "source": [
    "np.append(b,np.random.random((b.shape[0],1)),axis=1) # last me ek aur column add ho jayegan  \n",
    "# ((b.shape[0],1)),axis=1)   b ka jo shape hai uska zeroth item"
   ]
  },
  {
   "cell_type": "code",
   "execution_count": 28,
   "id": "5746e6f3-0d05-4283-8840-da51c2832491",
   "metadata": {},
   "outputs": [
    {
     "data": {
      "text/plain": [
       "(6, 4)"
      ]
     },
     "execution_count": 28,
     "metadata": {},
     "output_type": "execute_result"
    }
   ],
   "source": [
    "b.shape"
   ]
  },
  {
   "cell_type": "code",
   "execution_count": 38,
   "id": "07d485a5-3949-4e42-9e2c-a720d0911e79",
   "metadata": {},
   "outputs": [
    {
     "data": {
      "text/plain": [
       "array([[0.78742815],\n",
       "       [0.27419816],\n",
       "       [0.52906191],\n",
       "       [0.61490119],\n",
       "       [0.32660564],\n",
       "       [0.41783763]])"
      ]
     },
     "execution_count": 38,
     "metadata": {},
     "output_type": "execute_result"
    }
   ],
   "source": [
    "np.random.random((6,1))  # 6 rows and 1 column"
   ]
  },
  {
   "cell_type": "markdown",
   "id": "f467d5b2-8fad-4242-8a43-6b059e168189",
   "metadata": {},
   "source": [
    "### np.concatenate\n",
    "\n",
    "---\n",
    "\n",
    "\n",
    "\n",
    "numpy.concatenate() function concatenate a sequence of arrays along an existing axis.\n",
    " generally 2D (tabular data) array ke sath use karte hain\n",
    "\n",
    "https://numpy.org/doc/stable/reference/generated/numpy.concatenate.html"
   ]
  },
  {
   "cell_type": "code",
   "execution_count": 18,
   "id": "a7a179c1-ba1b-4843-b65a-d4723f9f2c55",
   "metadata": {},
   "outputs": [
    {
     "name": "stdout",
     "output_type": "stream",
     "text": [
      "[[0 1 2]\n",
      " [3 4 5]]\n",
      "\n",
      "[[ 6  7  8]\n",
      " [ 9 10 11]]\n"
     ]
    }
   ],
   "source": [
    "c = np.arange(6).reshape(2,3)\n",
    "d = np.arange(6,12).reshape(2,3)\n",
    "\n",
    "print(c)\n",
    "print()\n",
    "print(d)"
   ]
  },
  {
   "cell_type": "code",
   "execution_count": 33,
   "id": "2d36adfb-7c7e-4f36-bcaa-faff35b89bc4",
   "metadata": {},
   "outputs": [
    {
     "data": {
      "text/plain": [
       "array([[ 0,  1,  2],\n",
       "       [ 3,  4,  5],\n",
       "       [ 6,  7,  8],\n",
       "       [ 9, 10, 11]])"
      ]
     },
     "execution_count": 33,
     "metadata": {},
     "output_type": "execute_result"
    }
   ],
   "source": [
    "np.concatenate((c,d),axis=0)   # vertically concatinate ho gya similar hstack se bhi kar sakte the"
   ]
  },
  {
   "cell_type": "code",
   "execution_count": 35,
   "id": "1fd9e8c3-6bf1-463f-9b9e-b16a2d5f2586",
   "metadata": {},
   "outputs": [
    {
     "data": {
      "text/plain": [
       "array([[ 0,  1,  2,  6,  7,  8],\n",
       "       [ 3,  4,  5,  9, 10, 11]])"
      ]
     },
     "execution_count": 35,
     "metadata": {},
     "output_type": "execute_result"
    }
   ],
   "source": [
    "np.concatenate((c,d),axis=1)  # horizontally concatinate"
   ]
  },
  {
   "cell_type": "markdown",
   "id": "6b4a58eb-2e61-4d96-849f-48b8db66ef36",
   "metadata": {},
   "source": [
    "### np.unique\n",
    "\n",
    "With the help of np.unique() method, we can get the unique values from an array given as parameter in np.unique() method.\n",
    "\n",
    "https://numpy.org/doc/stable/reference/generated/numpy.unique.html/"
   ]
  },
  {
   "cell_type": "code",
   "execution_count": 40,
   "id": "3d54c3c4-e96b-43bc-b035-a3ecfbd0f559",
   "metadata": {},
   "outputs": [],
   "source": [
    "e = np.array([1,1,2,2,3,3,4,4,5,5,6,6])"
   ]
  },
  {
   "cell_type": "code",
   "execution_count": 42,
   "id": "d6f0b01e-a82f-4f15-bb1a-8a014287b6b5",
   "metadata": {},
   "outputs": [
    {
     "data": {
      "text/plain": [
       "array([1, 2, 3, 4, 5, 6])"
      ]
     },
     "execution_count": 42,
     "metadata": {},
     "output_type": "execute_result"
    }
   ],
   "source": [
    "np.unique(e)"
   ]
  },
  {
   "cell_type": "code",
   "execution_count": 1,
   "id": "caa03b35-3373-4b27-b83d-0bd104409f56",
   "metadata": {},
   "outputs": [],
   "source": [
    "import numpy as np"
   ]
  },
  {
   "cell_type": "code",
   "execution_count": 7,
   "id": "8790a340-0153-4c50-8e3e-ece60fccc4e5",
   "metadata": {},
   "outputs": [
    {
     "data": {
      "text/plain": [
       "array([1, 2, 3, 4, 5, 6])"
      ]
     },
     "execution_count": 7,
     "metadata": {},
     "output_type": "execute_result"
    }
   ],
   "source": [
    "np.unique(np.array([1,1,2,2,3,3,4,4,5,5,6,6]))"
   ]
  },
  {
   "cell_type": "markdown",
   "id": "a3b81ce5-6981-4762-9d94-6e4de745161a",
   "metadata": {},
   "source": [
    "### np.expand_dims   (expand dimensions)\n",
    "\n",
    "With the help of Numpy.expand_dims() method, we can get the expanded dimensions of an array\n",
    "\n",
    "https://numpy.org/doc/stable/reference/generated/numpy.expand_dims.html"
   ]
  },
  {
   "cell_type": "code",
   "execution_count": 46,
   "id": "84005329-ed08-4639-9373-e138f22fe0fa",
   "metadata": {},
   "outputs": [],
   "source": [
    "# koi array 1D me hai to usse 2D me kar sakte ha , 2D me hai to 3D me kar sakte ho and so on"
   ]
  },
  {
   "cell_type": "code",
   "execution_count": 48,
   "id": "d2e34817-805b-443a-81d8-179d43c6da06",
   "metadata": {},
   "outputs": [
    {
     "data": {
      "text/plain": [
       "array([37, 88, 64, 35, 12, 54, 33, 28, 85, 33, 53, 17, 48, 63, 82])"
      ]
     },
     "execution_count": 48,
     "metadata": {},
     "output_type": "execute_result"
    }
   ],
   "source": [
    "a"
   ]
  },
  {
   "cell_type": "code",
   "execution_count": 52,
   "id": "c6b5eda0-499b-40be-9b97-b707293290e6",
   "metadata": {},
   "outputs": [
    {
     "data": {
      "text/plain": [
       "(15,)"
      ]
     },
     "execution_count": 52,
     "metadata": {},
     "output_type": "execute_result"
    }
   ],
   "source": [
    "a.shape"
   ]
  },
  {
   "cell_type": "code",
   "execution_count": 50,
   "id": "45ec35df-1999-49a3-bfa9-21ae4ee8a14d",
   "metadata": {},
   "outputs": [
    {
     "data": {
      "text/plain": [
       "array([[37, 88, 64, 35, 12, 54, 33, 28, 85, 33, 53, 17, 48, 63, 82]])"
      ]
     },
     "execution_count": 50,
     "metadata": {},
     "output_type": "execute_result"
    }
   ],
   "source": [
    "np.expand_dims(a,axis=0)  # ye 2D array hai with 1 row"
   ]
  },
  {
   "cell_type": "code",
   "execution_count": 54,
   "id": "3b99837e-c279-404c-9918-47e29de278e8",
   "metadata": {},
   "outputs": [
    {
     "data": {
      "text/plain": [
       "(1, 15)"
      ]
     },
     "execution_count": 54,
     "metadata": {},
     "output_type": "execute_result"
    }
   ],
   "source": [
    "np.expand_dims(a,axis=0).shape"
   ]
  },
  {
   "cell_type": "code",
   "execution_count": 56,
   "id": "4d734dc9-609a-4590-a5ea-b742b073f7b8",
   "metadata": {},
   "outputs": [
    {
     "data": {
      "text/plain": [
       "array([[37],\n",
       "       [88],\n",
       "       [64],\n",
       "       [35],\n",
       "       [12],\n",
       "       [54],\n",
       "       [33],\n",
       "       [28],\n",
       "       [85],\n",
       "       [33],\n",
       "       [53],\n",
       "       [17],\n",
       "       [48],\n",
       "       [63],\n",
       "       [82]])"
      ]
     },
     "execution_count": 56,
     "metadata": {},
     "output_type": "execute_result"
    }
   ],
   "source": [
    "np.expand_dims(a,axis=1)  # 2D array with 1 column"
   ]
  },
  {
   "cell_type": "code",
   "execution_count": 58,
   "id": "4fe34e1b-3e83-40ef-a4fe-dbb0ab8543e4",
   "metadata": {},
   "outputs": [
    {
     "data": {
      "text/plain": [
       "(15, 1)"
      ]
     },
     "execution_count": 58,
     "metadata": {},
     "output_type": "execute_result"
    }
   ],
   "source": [
    "np.expand_dims(a,axis=1).shape"
   ]
  },
  {
   "cell_type": "code",
   "execution_count": 5,
   "id": "43a2e311-5729-4fb1-955f-0f801eb6feeb",
   "metadata": {},
   "outputs": [],
   "source": [
    "a=np.random.random(12).reshape(3,4)"
   ]
  },
  {
   "cell_type": "code",
   "execution_count": 11,
   "id": "c922ca3c-711a-4644-942a-e1a1db870828",
   "metadata": {},
   "outputs": [
    {
     "data": {
      "text/plain": [
       "array([[[0.74341105, 0.83835426, 0.71238377, 0.26219494]],\n",
       "\n",
       "       [[0.85230941, 0.60018366, 0.80066845, 0.67357243]],\n",
       "\n",
       "       [[0.51288441, 0.48025588, 0.72591866, 0.43070943]]])"
      ]
     },
     "execution_count": 11,
     "metadata": {},
     "output_type": "execute_result"
    }
   ],
   "source": [
    "np.expand_dims(a,axis=1)"
   ]
  },
  {
   "cell_type": "markdown",
   "id": "a2c152b4-cd4b-4821-814e-a15b0333cad2",
   "metadata": {},
   "source": [
    "### np.where\n",
    "\n",
    "The numpy.where() function returns the indices of elements in an input array where the given condition is satisfied.\n",
    "\n",
    "https://numpy.org/doc/stable/reference/generated/numpy.where.html"
   ]
  },
  {
   "cell_type": "code",
   "execution_count": 61,
   "id": "8638df18-fea1-4452-85ef-792d8bd16691",
   "metadata": {},
   "outputs": [
    {
     "data": {
      "text/plain": [
       "array([37, 88, 64, 35, 12, 54, 33, 28, 85, 33, 53, 17, 48, 63, 82])"
      ]
     },
     "execution_count": 61,
     "metadata": {},
     "output_type": "execute_result"
    }
   ],
   "source": [
    "a"
   ]
  },
  {
   "cell_type": "code",
   "execution_count": 63,
   "id": "18569e3c-97f2-4c29-b778-1c48f5932e16",
   "metadata": {},
   "outputs": [
    {
     "data": {
      "text/plain": [
       "(array([ 1,  2,  5,  8, 10, 13, 14], dtype=int64),)"
      ]
     },
     "execution_count": 63,
     "metadata": {},
     "output_type": "execute_result"
    }
   ],
   "source": [
    "# find all indices with value grater than 50\n",
    "np.where(a>50)"
   ]
  },
  {
   "cell_type": "code",
   "execution_count": 67,
   "id": "6a83559c-5611-4671-a27f-217a086769cb",
   "metadata": {},
   "outputs": [
    {
     "data": {
      "text/plain": [
       "array([37,  0,  0, 35, 12,  0, 33, 28,  0, 33,  0, 17, 48,  0,  0])"
      ]
     },
     "execution_count": 67,
     "metadata": {},
     "output_type": "execute_result"
    }
   ],
   "source": [
    "# replace all values > 50 with 0\n",
    "# np.where(condition,true,false)\n",
    "np.where(a>50,0,a)  # jaha jaha a>50 hai usko replace karo zero se and baki sab jagah jo hai wahi rahne do"
   ]
  },
  {
   "cell_type": "code",
   "execution_count": 69,
   "id": "f7409512-a6c4-4dd5-88df-756aa84a27bd",
   "metadata": {},
   "outputs": [
    {
     "data": {
      "text/plain": [
       "array([37,  0,  0, 35,  0,  0, 33,  0, 85, 33, 53, 17,  0, 63,  0])"
      ]
     },
     "execution_count": 69,
     "metadata": {},
     "output_type": "execute_result"
    }
   ],
   "source": [
    "#replace  all the even number with zero\n",
    "np.where(a%2==0,0,a)\n"
   ]
  },
  {
   "cell_type": "markdown",
   "id": "8ff3bd87-5562-4b84-abce-f0482be178fe",
   "metadata": {},
   "source": [
    "### np.argmax\n",
    "\n",
    "The numpy.argmax() function returns indices of the max element of the array in a particular axis.\n",
    "\n",
    "https://numpy.org/doc/stable/reference/generated/numpy.argmax.html"
   ]
  },
  {
   "cell_type": "code",
   "execution_count": 72,
   "id": "7009dd5c-1f45-428b-9eec-41489f9b063c",
   "metadata": {},
   "outputs": [
    {
     "data": {
      "text/plain": [
       "array([37, 88, 64, 35, 12, 54, 33, 28, 85, 33, 53, 17, 48, 63, 82])"
      ]
     },
     "execution_count": 72,
     "metadata": {},
     "output_type": "execute_result"
    }
   ],
   "source": [
    "a"
   ]
  },
  {
   "cell_type": "code",
   "execution_count": 78,
   "id": "182c08a3-a239-4967-932e-4ff08a8bdb1e",
   "metadata": {},
   "outputs": [
    {
     "data": {
      "text/plain": [
       "1"
      ]
     },
     "execution_count": 78,
     "metadata": {},
     "output_type": "execute_result"
    }
   ],
   "source": [
    "np.argmax(a)  #kon se index pe maximum number hai"
   ]
  },
  {
   "cell_type": "code",
   "execution_count": 92,
   "id": "866491b3-be5a-4716-8941-087b7e6cfcc2",
   "metadata": {},
   "outputs": [
    {
     "data": {
      "text/plain": [
       "array([[47, 78, 10, 59],\n",
       "       [78, 52, 78, 60],\n",
       "       [71, 51, 14, 34],\n",
       "       [17, 80, 89, 75],\n",
       "       [88, 96, 61, 36],\n",
       "       [35, 46, 40, 93]])"
      ]
     },
     "execution_count": 92,
     "metadata": {},
     "output_type": "execute_result"
    }
   ],
   "source": [
    "b"
   ]
  },
  {
   "cell_type": "code",
   "execution_count": 94,
   "id": "69b2c62b-d572-42d0-b22a-76d0c8f315a4",
   "metadata": {},
   "outputs": [
    {
     "data": {
      "text/plain": [
       "17"
      ]
     },
     "execution_count": 94,
     "metadata": {},
     "output_type": "execute_result"
    }
   ],
   "source": [
    "np.argmax(b)"
   ]
  },
  {
   "cell_type": "code",
   "execution_count": 98,
   "id": "779a80fc-fce0-4648-bca2-d9d3480aebd8",
   "metadata": {},
   "outputs": [
    {
     "data": {
      "text/plain": [
       "array([4, 4, 3, 5], dtype=int64)"
      ]
     },
     "execution_count": 98,
     "metadata": {},
     "output_type": "execute_result"
    }
   ],
   "source": [
    "np.argmax(b,axis=0)  # har column me se maximum elemet index bata dega"
   ]
  },
  {
   "cell_type": "code",
   "execution_count": 100,
   "id": "cc8ad58b-e44e-4cb1-93e7-f0b69cd04306",
   "metadata": {},
   "outputs": [
    {
     "data": {
      "text/plain": [
       "array([1, 0, 0, 2, 1, 3], dtype=int64)"
      ]
     },
     "execution_count": 100,
     "metadata": {},
     "output_type": "execute_result"
    }
   ],
   "source": [
    "np.argmax(b,axis=1)   # har row  me se maximum elemet index bata dega"
   ]
  },
  {
   "cell_type": "markdown",
   "id": "fdb14069-70b1-4f01-a5dd-97394a67c306",
   "metadata": {},
   "source": [
    "### np.argmin\n",
    "\n",
    "The numpy.argmin() function returns indices of the min element of the array in a particular axis.\n",
    "\n",
    "https://numpy.org/doc/stable/reference/generated/numpy.argmix.html"
   ]
  },
  {
   "cell_type": "code",
   "execution_count": 106,
   "id": "f18e489e-16e9-4dbc-a63c-ba2f0a21d4fc",
   "metadata": {},
   "outputs": [
    {
     "data": {
      "text/plain": [
       "array([37, 88, 64, 35, 12, 54, 33, 28, 85, 33, 53, 17, 48, 63, 82])"
      ]
     },
     "execution_count": 106,
     "metadata": {},
     "output_type": "execute_result"
    }
   ],
   "source": [
    "a\n"
   ]
  },
  {
   "cell_type": "code",
   "execution_count": 108,
   "id": "cc6ada1e-28be-48f6-b73f-e016896cfb72",
   "metadata": {},
   "outputs": [
    {
     "data": {
      "text/plain": [
       "4"
      ]
     },
     "execution_count": 108,
     "metadata": {},
     "output_type": "execute_result"
    }
   ],
   "source": [
    "np.argmin(a)"
   ]
  },
  {
   "cell_type": "code",
   "execution_count": 110,
   "id": "f780bb46-5137-437e-94de-211ab05a9876",
   "metadata": {},
   "outputs": [
    {
     "data": {
      "text/plain": [
       "array([[47, 78, 10, 59],\n",
       "       [78, 52, 78, 60],\n",
       "       [71, 51, 14, 34],\n",
       "       [17, 80, 89, 75],\n",
       "       [88, 96, 61, 36],\n",
       "       [35, 46, 40, 93]])"
      ]
     },
     "execution_count": 110,
     "metadata": {},
     "output_type": "execute_result"
    }
   ],
   "source": [
    "b"
   ]
  },
  {
   "cell_type": "code",
   "execution_count": 112,
   "id": "8ced96e2-e0ab-4fa6-95a7-ab1cf80cb5a1",
   "metadata": {},
   "outputs": [
    {
     "data": {
      "text/plain": [
       "2"
      ]
     },
     "execution_count": 112,
     "metadata": {},
     "output_type": "execute_result"
    }
   ],
   "source": [
    "np.argmin(b)"
   ]
  },
  {
   "cell_type": "code",
   "execution_count": 114,
   "id": "0479b4a3-2f58-4b19-b590-f389a89a8291",
   "metadata": {},
   "outputs": [
    {
     "data": {
      "text/plain": [
       "array([3, 5, 0, 2], dtype=int64)"
      ]
     },
     "execution_count": 114,
     "metadata": {},
     "output_type": "execute_result"
    }
   ],
   "source": [
    "np.argmin(b,axis=0)"
   ]
  },
  {
   "cell_type": "code",
   "execution_count": 116,
   "id": "5a79b86a-04a7-42c1-91e1-b0b5cc82f643",
   "metadata": {},
   "outputs": [
    {
     "data": {
      "text/plain": [
       "array([2, 1, 2, 0, 3, 0], dtype=int64)"
      ]
     },
     "execution_count": 116,
     "metadata": {},
     "output_type": "execute_result"
    }
   ],
   "source": [
    "np.argmin(b,axis=1)"
   ]
  },
  {
   "cell_type": "markdown",
   "id": "b311c271-fae9-4489-8494-20d2c6c9c9d6",
   "metadata": {},
   "source": [
    "### np.cumsum\n",
    "numpy.cumsum() function is used when we want to compute the cumulative sum of array elements over a given axis.\n",
    "\n",
    "https://numpy.org/doc/stable/reference/generated/numpy.cumsum.html"
   ]
  },
  {
   "attachments": {
    "9b76610f-c146-464e-a7af-b3c97eafd3b9.png": {
     "image/png": "[encoded data removed]"
    }
   },
   "cell_type": "markdown",
   "id": "4dee143e-556d-485b-bc1e-365b1b488268",
   "metadata": {},
   "source": [
    "![image.png](attachment:9b76610f-c146-464e-a7af-b3c97eafd3b9.png)"
   ]
  },
  {
   "cell_type": "code",
   "execution_count": 120,
   "id": "8ffe185c-127b-4cdf-929d-86e08cbd8167",
   "metadata": {},
   "outputs": [
    {
     "data": {
      "text/plain": [
       "array([37, 88, 64, 35, 12, 54, 33, 28, 85, 33, 53, 17, 48, 63, 82])"
      ]
     },
     "execution_count": 120,
     "metadata": {},
     "output_type": "execute_result"
    }
   ],
   "source": [
    "a"
   ]
  },
  {
   "cell_type": "code",
   "execution_count": 122,
   "id": "923cc1d3-6843-4bad-a15b-a5f6dae0276e",
   "metadata": {},
   "outputs": [
    {
     "data": {
      "text/plain": [
       "array([ 37, 125, 189, 224, 236, 290, 323, 351, 436, 469, 522, 539, 587,\n",
       "       650, 732])"
      ]
     },
     "execution_count": 122,
     "metadata": {},
     "output_type": "execute_result"
    }
   ],
   "source": [
    "np.cumsum(a)"
   ]
  },
  {
   "cell_type": "code",
   "execution_count": 124,
   "id": "df309be4-1300-41a3-be61-2e1e4cde8d63",
   "metadata": {},
   "outputs": [
    {
     "data": {
      "text/plain": [
       "array([[47, 78, 10, 59],\n",
       "       [78, 52, 78, 60],\n",
       "       [71, 51, 14, 34],\n",
       "       [17, 80, 89, 75],\n",
       "       [88, 96, 61, 36],\n",
       "       [35, 46, 40, 93]])"
      ]
     },
     "execution_count": 124,
     "metadata": {},
     "output_type": "execute_result"
    }
   ],
   "source": [
    "b"
   ]
  },
  {
   "cell_type": "code",
   "execution_count": 126,
   "id": "e101b376-e0c4-4245-b908-9002a9d2c329",
   "metadata": {},
   "outputs": [
    {
     "data": {
      "text/plain": [
       "array([  47,  125,  135,  194,  272,  324,  402,  462,  533,  584,  598,\n",
       "        632,  649,  729,  818,  893,  981, 1077, 1138, 1174, 1209, 1255,\n",
       "       1295, 1388])"
      ]
     },
     "execution_count": 126,
     "metadata": {},
     "output_type": "execute_result"
    }
   ],
   "source": [
    "np.cumsum(b)  # yadi koi axis provide nahi klarenge to ye !D me convert kar dega"
   ]
  },
  {
   "cell_type": "code",
   "execution_count": 128,
   "id": "f44cf266-a3b7-47d7-8119-5ee1d046f134",
   "metadata": {},
   "outputs": [
    {
     "data": {
      "text/plain": [
       "array([[ 47,  78,  10,  59],\n",
       "       [125, 130,  88, 119],\n",
       "       [196, 181, 102, 153],\n",
       "       [213, 261, 191, 228],\n",
       "       [301, 357, 252, 264],\n",
       "       [336, 403, 292, 357]])"
      ]
     },
     "execution_count": 128,
     "metadata": {},
     "output_type": "execute_result"
    }
   ],
   "source": [
    "np.cumsum(b,axis=0)"
   ]
  },
  {
   "cell_type": "code",
   "execution_count": 130,
   "id": "69caf6ff-ed37-4a63-8b29-b8a83e74f63f",
   "metadata": {},
   "outputs": [
    {
     "data": {
      "text/plain": [
       "array([[ 47, 125, 135, 194],\n",
       "       [ 78, 130, 208, 268],\n",
       "       [ 71, 122, 136, 170],\n",
       "       [ 17,  97, 186, 261],\n",
       "       [ 88, 184, 245, 281],\n",
       "       [ 35,  81, 121, 214]])"
      ]
     },
     "execution_count": 130,
     "metadata": {},
     "output_type": "execute_result"
    }
   ],
   "source": [
    "np.cumsum(b,axis=1)"
   ]
  },
  {
   "cell_type": "code",
   "execution_count": 132,
   "id": "4c1cd74c-8195-422b-94c2-50ca59009fa2",
   "metadata": {},
   "outputs": [],
   "source": [
    "# cumprod (cumulative product ) :similar as cumsum but ye product kar deta hai"
   ]
  },
  {
   "cell_type": "code",
   "execution_count": 134,
   "id": "173f2134-4a92-4055-8497-48d4762cbd97",
   "metadata": {},
   "outputs": [
    {
     "data": {
      "text/plain": [
       "array([37, 88, 64, 35, 12, 54, 33, 28, 85, 33, 53, 17, 48, 63, 82])"
      ]
     },
     "execution_count": 134,
     "metadata": {},
     "output_type": "execute_result"
    }
   ],
   "source": [
    "a"
   ]
  },
  {
   "cell_type": "code",
   "execution_count": 136,
   "id": "d63a50db-ccbb-4fbd-9a09-ad8e58cd2e5d",
   "metadata": {},
   "outputs": [
    {
     "data": {
      "text/plain": [
       "array([         37,        3256,      208384,     7293440,    87521280,\n",
       "         431181824,  1344098304, -1019953152,  -796672000,  -520372224,\n",
       "       -1809924096,  -703938560,   570687488,  1593573376,  1823997952])"
      ]
     },
     "execution_count": 136,
     "metadata": {},
     "output_type": "execute_result"
    }
   ],
   "source": [
    "np.cumprod(a)"
   ]
  },
  {
   "cell_type": "code",
   "execution_count": 138,
   "id": "a2cffb31-b2da-4c87-b3fe-82d9e718d21a",
   "metadata": {},
   "outputs": [
    {
     "data": {
      "text/plain": [
       "array([[47, 78, 10, 59],\n",
       "       [78, 52, 78, 60],\n",
       "       [71, 51, 14, 34],\n",
       "       [17, 80, 89, 75],\n",
       "       [88, 96, 61, 36],\n",
       "       [35, 46, 40, 93]])"
      ]
     },
     "execution_count": 138,
     "metadata": {},
     "output_type": "execute_result"
    }
   ],
   "source": [
    "b"
   ]
  },
  {
   "cell_type": "code",
   "execution_count": 140,
   "id": "11cb29d8-bac8-4ebd-ac3f-ebff3715ea19",
   "metadata": {},
   "outputs": [
    {
     "data": {
      "text/plain": [
       "array([         47,        3666,       36660,     2162940,   168709320,\n",
       "         182950048,  1385201856,  1507732736,  -325158144,   596803840,\n",
       "        -234680832,   610786304,  1793432576,  1740685312,   302170112,\n",
       "        1187921920,  1457913856, -1774190592,  -851443712,  -587202560,\n",
       "         922746880,  -503316480,  1342177280,   268435456])"
      ]
     },
     "execution_count": 140,
     "metadata": {},
     "output_type": "execute_result"
    }
   ],
   "source": [
    "np.cumprod(b)"
   ]
  },
  {
   "cell_type": "code",
   "execution_count": 142,
   "id": "c670bd0c-5abb-40ad-be98-83d5cb14c4ad",
   "metadata": {},
   "outputs": [
    {
     "data": {
      "text/plain": [
       "array([[         47,          78,          10,          59],\n",
       "       [       3666,        4056,         780,        3540],\n",
       "       [     260286,      206856,       10920,      120360],\n",
       "       [    4424862,    16548480,      971880,     9027000],\n",
       "       [  389387856,  1588654080,    59284680,   324972000],\n",
       "       [  743673072,    63643648, -1923580096,   157624928]])"
      ]
     },
     "execution_count": 142,
     "metadata": {},
     "output_type": "execute_result"
    }
   ],
   "source": [
    "np.cumprod(b,axis=0)"
   ]
  },
  {
   "cell_type": "code",
   "execution_count": 144,
   "id": "41828433-bd98-4492-99e4-d3eb23a9330d",
   "metadata": {},
   "outputs": [
    {
     "data": {
      "text/plain": [
       "array([[      47,     3666,    36660,  2162940],\n",
       "       [      78,     4056,   316368, 18982080],\n",
       "       [      71,     3621,    50694,  1723596],\n",
       "       [      17,     1360,   121040,  9078000],\n",
       "       [      88,     8448,   515328, 18551808],\n",
       "       [      35,     1610,    64400,  5989200]])"
      ]
     },
     "execution_count": 144,
     "metadata": {},
     "output_type": "execute_result"
    }
   ],
   "source": [
    "np.cumprod(b,axis=1)"
   ]
  },
  {
   "cell_type": "markdown",
   "id": "f5b435f8-42e6-4262-9051-34fd41cc7b5f",
   "metadata": {},
   "source": [
    "### np.percentile\n",
    "\n",
    "numpy.percentile()function used to compute the nth percentile of the given data (array elements) along the specified axis. \n",
    "\n",
    "https://numpy.org/doc/stable/reference/generated/numpy.percentile.html"
   ]
  },
  {
   "cell_type": "code",
   "execution_count": 147,
   "id": "989ed18e-cf7c-4ec9-a9de-7a8d8e8c5521",
   "metadata": {},
   "outputs": [
    {
     "data": {
      "text/plain": [
       "array([37, 88, 64, 35, 12, 54, 33, 28, 85, 33, 53, 17, 48, 63, 82])"
      ]
     },
     "execution_count": 147,
     "metadata": {},
     "output_type": "execute_result"
    }
   ],
   "source": [
    "a"
   ]
  },
  {
   "cell_type": "code",
   "execution_count": 151,
   "id": "20b27e8c-2ecd-4ddd-883b-6933d45b3d1f",
   "metadata": {},
   "outputs": [
    {
     "data": {
      "text/plain": [
       "88.0"
      ]
     },
     "execution_count": 151,
     "metadata": {},
     "output_type": "execute_result"
    }
   ],
   "source": [
    "np.percentile(a,100)   # 100 percentile dhund rahe hain to ofcourse  maximum number hoga"
   ]
  },
  {
   "cell_type": "code",
   "execution_count": 153,
   "id": "c3962e56-dd85-40b0-80bc-4838d7059910",
   "metadata": {},
   "outputs": [
    {
     "data": {
      "text/plain": [
       "48.0"
      ]
     },
     "execution_count": 153,
     "metadata": {},
     "output_type": "execute_result"
    }
   ],
   "source": [
    "np.percentile(a,50)  # aadhe log 48 se aage hain and aadhe log piche"
   ]
  },
  {
   "cell_type": "code",
   "execution_count": 155,
   "id": "9244a3e8-8b5e-4f44-b7d5-40f00fbf6d0a",
   "metadata": {},
   "outputs": [
    {
     "data": {
      "text/plain": [
       "12.0"
      ]
     },
     "execution_count": 155,
     "metadata": {},
     "output_type": "execute_result"
    }
   ],
   "source": [
    "np.percentile(a,0)"
   ]
  },
  {
   "cell_type": "markdown",
   "id": "99221a41-b495-4235-84f7-c9b4f5568119",
   "metadata": {},
   "source": [
    "### np.histogram\n",
    "\n",
    "Numpy has a built-in numpy.histogram() function which represents the frequency of data distribution in the graphical form.\n",
    "\n",
    "https://numpy.org/doc/stable/reference/generated/numpy.histogram.html"
   ]
  },
  {
   "attachments": {
    "481b88cc-5cb0-4120-ba88-dd5f2fd242f7.png": {
     "image/png": "[encoded data removed]"
    }
   },
   "cell_type": "markdown",
   "id": "c301830b-48ea-470c-a99f-b440618e06ef",
   "metadata": {},
   "source": [
    "![image.png](attachment:481b88cc-5cb0-4120-ba88-dd5f2fd242f7.png)"
   ]
  },
  {
   "cell_type": "code",
   "execution_count": 165,
   "id": "f11cfca4-409c-42d5-b65a-2fa6a62b206e",
   "metadata": {},
   "outputs": [
    {
     "data": {
      "text/plain": [
       "array([37, 88, 64, 35, 12, 54, 33, 28, 85, 33, 53, 17, 48, 63, 82])"
      ]
     },
     "execution_count": 165,
     "metadata": {},
     "output_type": "execute_result"
    }
   ],
   "source": [
    "a"
   ]
  },
  {
   "cell_type": "code",
   "execution_count": 169,
   "id": "5bb71150-6f1c-443b-8634-1a53d2abc165",
   "metadata": {},
   "outputs": [
    {
     "data": {
      "text/plain": [
       "(array([0, 2, 1, 4, 1, 2, 2, 0, 3], dtype=int64),\n",
       " array([ 0, 10, 20, 30, 40, 50, 60, 70, 80, 90]))"
      ]
     },
     "execution_count": 169,
     "metadata": {},
     "output_type": "execute_result"
    }
   ],
   "source": [
    "np.histogram(a,bins=[0,10,20,30,40,50,60,70,80,90])  # bins basically range batata hai ye return karega ki 0-10 ke bich me kitna data hai phir 10-20 ke \n",
    "                                                      #bich me kitna and so on"
   ]
  },
  {
   "cell_type": "code",
   "execution_count": 171,
   "id": "49055ef0-c5a8-4267-93e5-d21486ade040",
   "metadata": {},
   "outputs": [
    {
     "data": {
      "text/plain": [
       "(array([8, 7], dtype=int64), array([  0,  50, 100]))"
      ]
     },
     "execution_count": 171,
     "metadata": {},
     "output_type": "execute_result"
    }
   ],
   "source": [
    "np.histogram(a,bins=[0,50,100])"
   ]
  },
  {
   "cell_type": "markdown",
   "id": "6d0d9717-c87e-4bfe-b4ed-660d82400a67",
   "metadata": {},
   "source": [
    "### np.corrcoef\n",
    "\n",
    "Return Pearson product-moment correlation coefficients.\n",
    "\n",
    "https://numpy.org/doc/stable/reference/generated/numpy.corrcoef.html"
   ]
  },
  {
   "cell_type": "code",
   "execution_count": 175,
   "id": "c3223bda-b31b-4380-8e7d-4773eaf123fa",
   "metadata": {},
   "outputs": [
    {
     "data": {
      "text/plain": [
       "array([[1.        , 0.25344572],\n",
       "       [0.25344572, 1.        ]])"
      ]
     },
     "execution_count": 175,
     "metadata": {},
     "output_type": "execute_result"
    }
   ],
   "source": [
    "salary = np.array([20000,40000,25000,35000,60000])\n",
    "experience = np.array([1,3,2,4,2])\n",
    "\n",
    "np.corrcoef(salary,experience)"
   ]
  },
  {
   "cell_type": "markdown",
   "id": "682d8952-bcd4-4397-bdc6-2bb9fd3ad9d1",
   "metadata": {},
   "source": [
    "### np.isin\n",
    "\n",
    "With the help of numpy.isin() method, we can see that one array having values are checked in a different numpy array having different elements with different sizes.\n",
    "\n",
    "https://numpy.org/doc/stable/reference/generated/numpy.isin.html"
   ]
  },
  {
   "cell_type": "code",
   "execution_count": 178,
   "id": "43608758-4f09-4631-8ad9-82beb6049fed",
   "metadata": {},
   "outputs": [
    {
     "data": {
      "text/plain": [
       "array([37, 88, 64, 35, 12, 54, 33, 28, 85, 33, 53, 17, 48, 63, 82])"
      ]
     },
     "execution_count": 178,
     "metadata": {},
     "output_type": "execute_result"
    }
   ],
   "source": [
    "#isin multiple item ko ek sath search karne ke kaam aata hai\n",
    "a"
   ]
  },
  {
   "cell_type": "code",
   "execution_count": 182,
   "id": "c34017d3-265c-4ebb-8628-0452299f3711",
   "metadata": {},
   "outputs": [
    {
     "data": {
      "text/plain": [
       "array([35])"
      ]
     },
     "execution_count": 182,
     "metadata": {},
     "output_type": "execute_result"
    }
   ],
   "source": [
    "items=[10,20,30,35,40,45,50,60,70,80,90,100]\n",
    "\n",
    "a[np.isin(a,items)]"
   ]
  },
  {
   "cell_type": "code",
   "execution_count": 22,
   "id": "06d3ee12-0b89-45eb-bf8d-bb54070a9dc4",
   "metadata": {},
   "outputs": [
    {
     "data": {
      "text/plain": [
       "array([False, False, False,  True, False, False, False, False, False,\n",
       "       False, False, False, False, False, False])"
      ]
     },
     "execution_count": 22,
     "metadata": {},
     "output_type": "execute_result"
    }
   ],
   "source": [
    "a=np.array([37, 88, 64, 35, 12, 54, 33, 28, 85, 33, 53, 17, 48, 63, 82])\n",
    "\n",
    "items=[10,20,30,35,40,45,50,60,70,80,90,100]\n",
    "np.isin(a,items)"
   ]
  },
  {
   "cell_type": "markdown",
   "id": "75f125bf-2eca-4a12-8679-b7f72972f4d1",
   "metadata": {},
   "source": [
    "### np.flip\n",
    "\n",
    "The numpy.flip() function reverses the order of array elements along the specified axis, preserving the shape of the array.\n",
    "\n",
    "https://numpy.org/doc/stable/reference/generated/numpy.flip.html"
   ]
  },
  {
   "cell_type": "code",
   "execution_count": 6,
   "id": "e290524a-e4a8-4089-9d23-e4a0bd8da194",
   "metadata": {},
   "outputs": [
    {
     "data": {
      "text/plain": [
       "array([38, 11, 89, 98, 46, 84, 33, 26, 54,  2, 12, 78, 34, 47, 70])"
      ]
     },
     "execution_count": 6,
     "metadata": {},
     "output_type": "execute_result"
    }
   ],
   "source": [
    "a"
   ]
  },
  {
   "cell_type": "code",
   "execution_count": 8,
   "id": "e6ad3ed7-237f-4c76-ad67-ed82c0bb7520",
   "metadata": {},
   "outputs": [
    {
     "data": {
      "text/plain": [
       "array([70, 47, 34, 78, 12,  2, 54, 26, 33, 84, 46, 98, 89, 11, 38])"
      ]
     },
     "execution_count": 8,
     "metadata": {},
     "output_type": "execute_result"
    }
   ],
   "source": [
    "np.flip(a)  #just reverse kar dega"
   ]
  },
  {
   "cell_type": "code",
   "execution_count": 20,
   "id": "e25ff7c4-10ac-4572-b247-34ee727cc7f3",
   "metadata": {},
   "outputs": [
    {
     "data": {
      "text/plain": [
       "array([[10, 25, 95, 51],\n",
       "       [14, 24, 41, 66],\n",
       "       [47, 10, 71, 10],\n",
       "       [19, 90, 43, 40],\n",
       "       [77, 56,  1, 22],\n",
       "       [16, 10, 14, 54]])"
      ]
     },
     "execution_count": 20,
     "metadata": {},
     "output_type": "execute_result"
    }
   ],
   "source": [
    "b"
   ]
  },
  {
   "cell_type": "code",
   "execution_count": 22,
   "id": "1c99a1d1-9729-47e5-80b1-2ff4f0b37c87",
   "metadata": {},
   "outputs": [
    {
     "data": {
      "text/plain": [
       "array([[54, 14, 10, 16],\n",
       "       [22,  1, 56, 77],\n",
       "       [40, 43, 90, 19],\n",
       "       [10, 71, 10, 47],\n",
       "       [66, 41, 24, 14],\n",
       "       [51, 95, 25, 10]])"
      ]
     },
     "execution_count": 22,
     "metadata": {},
     "output_type": "execute_result"
    }
   ],
   "source": [
    "np.flip(b)  # complete flip ho gya aap axis laga ke row aur column ko sirf flip kar sakte ho"
   ]
  },
  {
   "cell_type": "code",
   "execution_count": 24,
   "id": "2d8ceef7-cb8d-49ab-8186-7215548e49a6",
   "metadata": {},
   "outputs": [
    {
     "data": {
      "text/plain": [
       "array([[16, 10, 14, 54],\n",
       "       [77, 56,  1, 22],\n",
       "       [19, 90, 43, 40],\n",
       "       [47, 10, 71, 10],\n",
       "       [14, 24, 41, 66],\n",
       "       [10, 25, 95, 51]])"
      ]
     },
     "execution_count": 24,
     "metadata": {},
     "output_type": "execute_result"
    }
   ],
   "source": [
    "np.flip(b,axis=0)"
   ]
  },
  {
   "cell_type": "code",
   "execution_count": 26,
   "id": "0ef82ca3-86aa-49f9-af78-26ca7f270b68",
   "metadata": {},
   "outputs": [
    {
     "data": {
      "text/plain": [
       "array([[51, 95, 25, 10],\n",
       "       [66, 41, 24, 14],\n",
       "       [10, 71, 10, 47],\n",
       "       [40, 43, 90, 19],\n",
       "       [22,  1, 56, 77],\n",
       "       [54, 14, 10, 16]])"
      ]
     },
     "execution_count": 26,
     "metadata": {},
     "output_type": "execute_result"
    }
   ],
   "source": [
    "np.flip(b,axis=1)"
   ]
  },
  {
   "cell_type": "markdown",
   "id": "a004cdbb-c024-4f26-91ca-2d33fe085236",
   "metadata": {},
   "source": [
    "### np.put\n",
    "\n",
    "The numpy.put() function replaces specific elements of an array with given values of p_array. Array indexed works on flattened array.<br>\n",
    "(ye permanent change karta hai)\n",
    "\n",
    "https://numpy.org/doc/stable/reference/generated/numpy.put.html"
   ]
  },
  {
   "cell_type": "code",
   "execution_count": 29,
   "id": "ba2292c3-49e5-40a0-ad11-14f0edb683cd",
   "metadata": {},
   "outputs": [
    {
     "data": {
      "text/plain": [
       "array([38, 11, 89, 98, 46, 84, 33, 26, 54,  2, 12, 78, 34, 47, 70])"
      ]
     },
     "execution_count": 29,
     "metadata": {},
     "output_type": "execute_result"
    }
   ],
   "source": [
    "a"
   ]
  },
  {
   "cell_type": "code",
   "execution_count": 35,
   "id": "56078cbb-ac67-4f0c-9bae-f24c7ed02eb8",
   "metadata": {},
   "outputs": [],
   "source": [
    "# kisi element ko change kar sakte hain suppose 38 ko 110 me and 11 ko 530 me change karna hai\n",
    "np.put(a,[0,1],[110,530])  # 1st parameter batata hai ki kon se array me change karna hai 2nd batata hai kon kon se index pe \n",
    "# change karna hai and 3rd batata hai ki change karke kya karna hai"
   ]
  },
  {
   "cell_type": "code",
   "execution_count": 43,
   "id": "eedabc54-738e-4006-95c7-3b160eaf9490",
   "metadata": {},
   "outputs": [
    {
     "data": {
      "text/plain": [
       "array([110, 530,  89,  98,  46,  84,  33,  26,  54,   2,  12,  78,  34,\n",
       "        47,  70])"
      ]
     },
     "execution_count": 43,
     "metadata": {},
     "output_type": "execute_result"
    }
   ],
   "source": [
    "a"
   ]
  },
  {
   "cell_type": "markdown",
   "id": "e38307b3-649d-4f43-97b5-91f59e08e6c0",
   "metadata": {},
   "source": [
    "### np.delete\n",
    "\n",
    "The numpy.delete() function returns a new array with the deletion of sub-arrays along with the mentioned axis. \n",
    "\n",
    "https://numpy.org/doc/stable/reference/generated/numpy.delete.html"
   ]
  },
  {
   "cell_type": "code",
   "execution_count": 46,
   "id": "f5aa309a-1580-4a7b-a774-73e2f24fb42d",
   "metadata": {},
   "outputs": [
    {
     "data": {
      "text/plain": [
       "array([110, 530,  89,  98,  46,  84,  33,  26,  54,   2,  12,  78,  34,\n",
       "        47,  70])"
      ]
     },
     "execution_count": 46,
     "metadata": {},
     "output_type": "execute_result"
    }
   ],
   "source": [
    "#kisi particular index ko delete kar dega \n",
    "a"
   ]
  },
  {
   "cell_type": "code",
   "execution_count": 48,
   "id": "e1db9900-0d41-4738-a58a-e918883b465f",
   "metadata": {},
   "outputs": [
    {
     "data": {
      "text/plain": [
       "array([530,  89,  98,  46,  84,  33,  26,  54,   2,  12,  78,  34,  47,\n",
       "        70])"
      ]
     },
     "execution_count": 48,
     "metadata": {},
     "output_type": "execute_result"
    }
   ],
   "source": [
    "np.delete(a,0)"
   ]
  },
  {
   "cell_type": "code",
   "execution_count": 50,
   "id": "9c17887f-66ea-4a96-9b42-4af75c78d260",
   "metadata": {},
   "outputs": [
    {
     "data": {
      "text/plain": [
       "array([110, 530,  98,  84,  33,  54,   2,  12,  78,  34,  47,  70])"
      ]
     },
     "execution_count": 50,
     "metadata": {},
     "output_type": "execute_result"
    }
   ],
   "source": [
    "#deleting multiple index\n",
    "np.delete(a,[2,4,7])"
   ]
  },
  {
   "cell_type": "markdown",
   "id": "a0c951c8-5041-4ba7-a8a0-394b029ab5c8",
   "metadata": {},
   "source": [
    "### Set functions\n",
    "\n",
    "- np.union1d\n",
    "- np.intersect1d\n",
    "- np.setdiff1d\n",
    "- np.setxor1d\n",
    "- np.in1d"
   ]
  },
  {
   "cell_type": "code",
   "execution_count": 55,
   "id": "b9863b07-4c89-45bf-a43e-ade10f85c17b",
   "metadata": {},
   "outputs": [
    {
     "data": {
      "text/plain": [
       "array([1, 2, 3, 4, 5, 6, 7])"
      ]
     },
     "execution_count": 55,
     "metadata": {},
     "output_type": "execute_result"
    }
   ],
   "source": [
    "# ye sare function array hi return karke dega\n",
    "m = np.array([1,2,3,4,5])\n",
    "n = np.array([3,4,5,6,7])\n",
    "\n",
    "np.union1d(m,n)"
   ]
  },
  {
   "cell_type": "code",
   "execution_count": 57,
   "id": "141f74e2-e091-40aa-9ff3-2ed7f1a77f74",
   "metadata": {},
   "outputs": [
    {
     "data": {
      "text/plain": [
       "array([3, 4, 5])"
      ]
     },
     "execution_count": 57,
     "metadata": {},
     "output_type": "execute_result"
    }
   ],
   "source": [
    "np.intersect1d(m,n)"
   ]
  },
  {
   "cell_type": "code",
   "execution_count": 59,
   "id": "fa92ccaa-6090-4a9e-8cf1-2537b3ad5a9c",
   "metadata": {},
   "outputs": [
    {
     "data": {
      "text/plain": [
       "array([1, 2])"
      ]
     },
     "execution_count": 59,
     "metadata": {},
     "output_type": "execute_result"
    }
   ],
   "source": [
    "np.setdiff1d(m,n) # wo sare item jo m me ho n me nahi"
   ]
  },
  {
   "cell_type": "code",
   "execution_count": 61,
   "id": "79843390-848b-479c-8cb6-42bcc0032ba6",
   "metadata": {},
   "outputs": [
    {
     "data": {
      "text/plain": [
       "array([1, 2, 6, 7])"
      ]
     },
     "execution_count": 61,
     "metadata": {},
     "output_type": "execute_result"
    }
   ],
   "source": [
    "np.setxor1d(m,n)  # common ko hata dega baki sab rahne dega"
   ]
  },
  {
   "cell_type": "code",
   "execution_count": 63,
   "id": "c8b14950-7304-4710-ae43-fdc310592e7c",
   "metadata": {},
   "outputs": [
    {
     "data": {
      "text/plain": [
       "array([False, False, False, False,  True])"
      ]
     },
     "execution_count": 63,
     "metadata": {},
     "output_type": "execute_result"
    }
   ],
   "source": [
    "np.in1d(m,5)   #ye check karta hai ki kisi particular array me koi element exist karta hai ki nahi"
   ]
  },
  {
   "cell_type": "code",
   "execution_count": 65,
   "id": "b9e9b11e-fb8d-4338-9079-853e01b84009",
   "metadata": {},
   "outputs": [
    {
     "data": {
      "text/plain": [
       "array([5])"
      ]
     },
     "execution_count": 65,
     "metadata": {},
     "output_type": "execute_result"
    }
   ],
   "source": [
    "m[np.in1d(m,5)]"
   ]
  },
  {
   "cell_type": "markdown",
   "id": "a38ccceb-b3f4-475c-8483-4780499a0e2e",
   "metadata": {},
   "source": [
    "### np.clip\n",
    "\n",
    "numpy.clip() function is used to Clip (limit) the values in an array.\n",
    "\n",
    "https://numpy.org/doc/stable/reference/generated/numpy.clip.html"
   ]
  },
  {
   "cell_type": "code",
   "execution_count": 68,
   "id": "686b37c7-165f-40d7-ba9b-6ac5d6a24f16",
   "metadata": {},
   "outputs": [
    {
     "data": {
      "text/plain": [
       "array([110, 530,  89,  98,  46,  84,  33,  26,  54,   2,  12,  78,  34,\n",
       "        47,  70])"
      ]
     },
     "execution_count": 68,
     "metadata": {},
     "output_type": "execute_result"
    }
   ],
   "source": [
    "a"
   ]
  },
  {
   "cell_type": "code",
   "execution_count": 70,
   "id": "dad32d93-2bf9-4de8-b065-b089663cba7d",
   "metadata": {},
   "outputs": [],
   "source": [
    "# element ko ek range (clip) me rakh sakte hain jo bhi particular range se bahar jayega usko range ke upper and lower element me convert kar dega\n"
   ]
  },
  {
   "cell_type": "code",
   "execution_count": 72,
   "id": "e6588e86-91a4-4da6-95ea-6bc7388244c1",
   "metadata": {},
   "outputs": [
    {
     "data": {
      "text/plain": [
       "array([75, 75, 75, 75, 46, 75, 33, 26, 54, 25, 25, 75, 34, 47, 70])"
      ]
     },
     "execution_count": 72,
     "metadata": {},
     "output_type": "execute_result"
    }
   ],
   "source": [
    "np.clip(a,a_min=25,a_max=75)  #75 se jitna bhi jyada hai usko 75 me and 25 se jitna bhi kam hai usko 25 me convert kar dega"
   ]
  },
  {
   "cell_type": "code",
   "execution_count": null,
   "id": "ef062097-9167-42d6-85f7-ea07dcb3cf46",
   "metadata": {},
   "outputs": [],
   "source": []
  }
 ],
 "metadata": {
  "kernelspec": {
   "display_name": "Python [conda env:base] *",
   "language": "python",
   "name": "conda-base-py"
  },
  "language_info": {
   "codemirror_mode": {
    "name": "ipython",
    "version": 3
   },
   "file_extension": ".py",
   "mimetype": "text/x-python",
   "name": "python",
   "nbconvert_exporter": "python",
   "pygments_lexer": "ipython3",
   "version": "3.12.7"
  }
 },
 "nbformat": 4,
 "nbformat_minor": 5
}
