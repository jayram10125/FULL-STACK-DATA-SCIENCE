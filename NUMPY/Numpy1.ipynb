{
 "cells": [
  {
   "cell_type": "markdown",
   "id": "7f8644d0-ef33-4fd1-90fb-ba84034dca92",
   "metadata": {},
   "source": [
    "### What is numpy?  (Numerical Python)\n",
    "\n",
    "NumPy is the fundamental package for scientific computing in Python. It is a Python library that provides a multidimensional array object, various derived objects (such as masked arrays and matrices), and an assortment of routines for fast operations on arrays, including mathematical, logical, shape manipulation, sorting, selecting, I/O, discrete Fourier transforms, basic linear algebra, basic statistical operations, random simulation and much more.\n",
    "\n",
    "\n",
    "At the core of the NumPy package, is the ndarray object. This encapsulates n-dimensional arrays of homogeneous data types"
   ]
  },
  {
   "cell_type": "markdown",
   "id": "ab573ead-ce4c-435c-a62c-99542375f936",
   "metadata": {},
   "source": [
    "### Numpy Arrays Vs Python Sequences\n",
    "\n",
    "- NumPy arrays have a fixed size at creation, unlike Python lists (which can grow dynamically). Changing the size of an ndarray will create a new array and delete the original.\n",
    "\n",
    "- The elements in a NumPy array are all required to be of the same data type, and thus will be the same size in memory.\n",
    "\n",
    "- NumPy arrays facilitate advanced mathematical and other types of operations on large numbers of data. Typically, such operations are executed more efficiently and with less code than is possible using Python’s built-in sequences.\n",
    "\n",
    "- A growing plethora of scientific and mathematical Python-based packages are using NumPy arrays; though these typically support Python-sequence input, they convert such input to NumPy arrays prior to processing, and they often output NumPy arrays."
   ]
  },
  {
   "cell_type": "markdown",
   "id": "d0783a28-22db-4860-b353-d6676120726a",
   "metadata": {},
   "source": [
    "- initally data Science pe kaam MATLAB jaise tools ya R programming language me kya jata tha (approx 2008-09) uss time pe python ko prefer nahi kya jata tha data Science ke lye qki ye bahut slow language tha tabhi Numpy Library banaya (basically numpy likha gya hai c me) jisme ki array ka concept aaya jisse ki ye language bhi bahut fast ho gya "
   ]
  },
  {
   "cell_type": "markdown",
   "id": "19f21163-2883-4a94-91ce-83e5ad4efa6c",
   "metadata": {},
   "source": [
    "# creating Numpy Array"
   ]
  },
  {
   "cell_type": "code",
   "execution_count": 1,
   "id": "b3ab5ef4-1c59-481b-9b68-ae09c1b7e88f",
   "metadata": {},
   "outputs": [],
   "source": [
    "# Importing the Numpy\n",
    "import numpy as np  # np(alies name) ek short name dye hain bass taki aage baar baar Numpy nahi likhna pade np se kaam chal jaye"
   ]
  },
  {
   "cell_type": "code",
   "execution_count": 19,
   "id": "4b9df8ab-c51e-4621-b25a-e5b3a0c58303",
   "metadata": {},
   "outputs": [
    {
     "name": "stdout",
     "output_type": "stream",
     "text": [
      "[1 2 3]\n",
      "<class 'numpy.ndarray'>\n"
     ]
    }
   ],
   "source": [
    "#1D array   -> simply karna kuch nahi hai bass 1D list provide kara dena hai\n",
    "a=np.array([1,2,3])\n",
    "print(a)\n",
    "print(type(a))  # 1D also called as  vector"
   ]
  },
  {
   "cell_type": "code",
   "execution_count": 7,
   "id": "e35e2ca4-3598-49e4-a315-ab57740423b6",
   "metadata": {},
   "outputs": [
    {
     "data": {
      "text/plain": [
       "array(['jay', 'ramjsdb'], dtype='<U7')"
      ]
     },
     "execution_count": 7,
     "metadata": {},
     "output_type": "execute_result"
    }
   ],
   "source": [
    "a=np.array(['jay','ram'])\n",
    "a"
   ]
  },
  {
   "cell_type": "code",
   "execution_count": 9,
   "id": "950ef5f8-04cd-4816-9c60-c0710b6c03a8",
   "metadata": {},
   "outputs": [
    {
     "data": {
      "text/plain": [
       "array(['jay', 'ram', '2'], dtype='<U11')"
      ]
     },
     "execution_count": 9,
     "metadata": {},
     "output_type": "execute_result"
    }
   ],
   "source": [
    "a=np.array(['jay','ram',2])\n",
    "a"
   ]
  },
  {
   "cell_type": "code",
   "execution_count": 23,
   "id": "90270c30-705d-4ec7-9d57-56dd49837ecd",
   "metadata": {},
   "outputs": [
    {
     "name": "stdout",
     "output_type": "stream",
     "text": [
      "[[1 2 3]\n",
      " [3 4 5]]\n",
      "<class 'numpy.ndarray'>\n"
     ]
    }
   ],
   "source": [
    "#2D & 3D array   -> simply karna kuch nahi hai bass 2D & 3D list provide kara dena hai\n",
    "b=np.array([[1,2,3],[3,4,5]])\n",
    "print(b)\n",
    "print(type(b))   # 2D also called as  matrix"
   ]
  },
  {
   "cell_type": "code",
   "execution_count": 7,
   "id": "2e594769-0d65-4175-bce6-16ea71b5de28",
   "metadata": {},
   "outputs": [
    {
     "data": {
      "text/plain": [
       "array([[[1, 2, 3],\n",
       "        [5, 4, 3]],\n",
       "\n",
       "       [[4, 5, 6],\n",
       "        [5, 4, 3]],\n",
       "\n",
       "       [[7, 8, 9],\n",
       "        [5, 4, 3]]])"
      ]
     },
     "execution_count": 7,
     "metadata": {},
     "output_type": "execute_result"
    }
   ],
   "source": [
    "# 3D\n",
    "a=np.array([[[1,2,3],[5,4,3]],[[4,5,6],[5,4,3]],[[7,8,9],[5,4,3]]])\n",
    "a"
   ]
  },
  {
   "cell_type": "code",
   "execution_count": 6,
   "id": "1145183f-22d5-4d58-a1d0-58fc13769a46",
   "metadata": {},
   "outputs": [
    {
     "data": {
      "text/plain": [
       "array([[[[[[[[[[1, 2, 3, 4]]]]]]]]]])"
      ]
     },
     "execution_count": 6,
     "metadata": {},
     "output_type": "execute_result"
    }
   ],
   "source": [
    "# ndmin     =>aap apne according dimension define karte ho\n",
    "arr=np.array([1,2,3,4],ndmin=10)  \n",
    "arr"
   ]
  },
  {
   "cell_type": "code",
   "execution_count": 31,
   "id": "a110d29e-d0eb-4ef4-8b1b-3d5f814099b7",
   "metadata": {},
   "outputs": [
    {
     "data": {
      "text/plain": [
       "array([1., 2., 3.])"
      ]
     },
     "execution_count": 31,
     "metadata": {},
     "output_type": "execute_result"
    }
   ],
   "source": [
    "# dtype => apne man se array ka type bana sakte hain by default int hota hai isse float , bool , complex etc bana sakte hain\n",
    "np.array([1,2,3],dtype=float)"
   ]
  },
  {
   "cell_type": "code",
   "execution_count": 11,
   "id": "e270f647-e40f-49ac-83d9-0dcb56c4ae0c",
   "metadata": {},
   "outputs": [
    {
     "data": {
      "text/plain": [
       "array([ True,  True,  True, False])"
      ]
     },
     "execution_count": 11,
     "metadata": {},
     "output_type": "execute_result"
    }
   ],
   "source": [
    "np.array([1,2,3,0],dtype=bool)"
   ]
  },
  {
   "cell_type": "code",
   "execution_count": 35,
   "id": "a94cf738-46c7-4356-a881-d34e4fd6dc4a",
   "metadata": {},
   "outputs": [
    {
     "data": {
      "text/plain": [
       "array([1.+0.j, 2.+0.j, 3.+0.j])"
      ]
     },
     "execution_count": 35,
     "metadata": {},
     "output_type": "execute_result"
    }
   ],
   "source": [
    "np.array([1,2,3],dtype=complex)"
   ]
  },
  {
   "cell_type": "code",
   "execution_count": 37,
   "id": "da8ebe24-37ac-463e-8ed5-e5e98143ce26",
   "metadata": {},
   "outputs": [
    {
     "data": {
      "text/plain": [
       "array([ 1,  2,  3,  4,  5,  6,  7,  8,  9, 10])"
      ]
     },
     "execution_count": 37,
     "metadata": {},
     "output_type": "execute_result"
    }
   ],
   "source": [
    "# np.arange => similar as range function\n",
    "np.arange(1,11)"
   ]
  },
  {
   "cell_type": "code",
   "execution_count": 39,
   "id": "3f2fea3e-5e8d-4e1c-ae20-2df6b76caf21",
   "metadata": {},
   "outputs": [
    {
     "data": {
      "text/plain": [
       "array([1, 3, 5, 7, 9])"
      ]
     },
     "execution_count": 39,
     "metadata": {},
     "output_type": "execute_result"
    }
   ],
   "source": [
    "np.arange(1,11,2)"
   ]
  },
  {
   "cell_type": "code",
   "execution_count": 41,
   "id": "5a6d1466-c28e-4c44-b119-555cf502daeb",
   "metadata": {},
   "outputs": [
    {
     "data": {
      "text/plain": [
       "array([[ 1,  2,  3,  4,  5],\n",
       "       [ 6,  7,  8,  9, 10]])"
      ]
     },
     "execution_count": 41,
     "metadata": {},
     "output_type": "execute_result"
    }
   ],
   "source": [
    "# with reshape  => basically reshape karne me kaam aata hai\n",
    "np.arange(1,11).reshape(2,5)  # ye sare element ko jo 1D me hona tha usko reshape karke 2D me with 2-rows and 5-columns me convert kar\n",
    "         # dega ye tabhi hoga jabki possible hai ye nahi ki hum bale 5 x 5 kar do jabki itne element hi nahi hain humare pass"
   ]
  },
  {
   "cell_type": "code",
   "execution_count": 43,
   "id": "5ae84dc9-53e2-4531-90a1-ce695240d9b8",
   "metadata": {},
   "outputs": [
    {
     "data": {
      "text/plain": [
       "array([[ 1,  2],\n",
       "       [ 3,  4],\n",
       "       [ 5,  6],\n",
       "       [ 7,  8],\n",
       "       [ 9, 10]])"
      ]
     },
     "execution_count": 43,
     "metadata": {},
     "output_type": "execute_result"
    }
   ],
   "source": [
    "np.arange(1,11).reshape(5,2)"
   ]
  },
  {
   "cell_type": "code",
   "execution_count": 8,
   "id": "49a0430b-a633-4b01-b130-7f96bcff60b5",
   "metadata": {},
   "outputs": [
    {
     "data": {
      "text/plain": [
       "array([[1., 1., 1., 1.],\n",
       "       [1., 1., 1., 1.],\n",
       "       [1., 1., 1., 1.]])"
      ]
     },
     "execution_count": 8,
     "metadata": {},
     "output_type": "execute_result"
    }
   ],
   "source": [
    "# np.ones and np.zeros => aap isko use karke ek numpy array bana sakte ho jiske sare ke sare element either zero ho ya one bass aapko tuples me 2D array \n",
    "#ka size dena hai\n",
    "np.ones((3,4))"
   ]
  },
  {
   "cell_type": "code",
   "execution_count": 10,
   "id": "f766af1d-6342-4ff0-b921-45a85f6abae7",
   "metadata": {},
   "outputs": [
    {
     "data": {
      "text/plain": [
       "array([[0., 0., 0., 0.],\n",
       "       [0., 0., 0., 0.],\n",
       "       [0., 0., 0., 0.]])"
      ]
     },
     "execution_count": 10,
     "metadata": {},
     "output_type": "execute_result"
    }
   ],
   "source": [
    "np.zeros((3,4))"
   ]
  },
  {
   "cell_type": "code",
   "execution_count": 14,
   "id": "264a8e2b-6e2c-4bd7-8ffd-6156b233bb9c",
   "metadata": {},
   "outputs": [
    {
     "data": {
      "text/plain": [
       "array([[0.65367038, 0.61962895, 0.36920657, 0.82015751],\n",
       "       [0.56679943, 0.17207025, 0.70460235, 0.80658213],\n",
       "       [0.95347863, 0.40823868, 0.16345232, 0.82663729]])"
      ]
     },
     "execution_count": 14,
     "metadata": {},
     "output_type": "execute_result"
    }
   ],
   "source": [
    "# yadi kisi random number se initialize karana ho to\n",
    "#np.random\n",
    "np.random.random((3,4))"
   ]
  },
  {
   "cell_type": "code",
   "execution_count": 9,
   "id": "b4337ac0-32f0-4538-afc8-38781ce1b68b",
   "metadata": {},
   "outputs": [
    {
     "data": {
      "text/plain": [
       "array([-10.        ,  -7.14285714,  -4.28571429,  -1.42857143,\n",
       "         1.42857143,   4.28571429,   7.14285714,  10.        ])"
      ]
     },
     "execution_count": 9,
     "metadata": {},
     "output_type": "execute_result"
    }
   ],
   "source": [
    "#np.linspace =>linear space isme aap 3 chize provide karate ho (i) lower range ,ii) heigher range iii) the total number that you want\n",
    "np.linspace(-10,10,8)  #-10 se 10 ke bich me 10 number equal distance pe de dega(initial and final both are included) matlab 2 ka\n",
    "                         # difference humesa same hoga"
   ]
  },
  {
   "cell_type": "code",
   "execution_count": 25,
   "id": "273b6b93-26d8-47cf-88a4-35edf9004e3a",
   "metadata": {},
   "outputs": [
    {
     "data": {
      "text/plain": [
       "array([-10,  -8,  -6,  -4,  -2,   1,   3,   5,   7,  10])"
      ]
     },
     "execution_count": 25,
     "metadata": {},
     "output_type": "execute_result"
    }
   ],
   "source": [
    "# by default sara  number float me hota hai but agar aapko int me chahaiye to bass {dtype=int} likh do\n",
    "np.linspace(-10,10,10,dtype=int)"
   ]
  },
  {
   "cell_type": "code",
   "execution_count": 17,
   "id": "d7151db9-af1f-43e3-bb46-49297eb5988a",
   "metadata": {},
   "outputs": [
    {
     "data": {
      "text/plain": [
       "array([10, 12, 14, 16, 18, 20])"
      ]
     },
     "execution_count": 17,
     "metadata": {},
     "output_type": "execute_result"
    }
   ],
   "source": [
    "np.linspace(10,20,6,dtype=int)"
   ]
  },
  {
   "cell_type": "code",
   "execution_count": 20,
   "id": "3af03a7e-cf9a-46e7-936e-6ccdb4b332fe",
   "metadata": {},
   "outputs": [
    {
     "data": {
      "text/plain": [
       "array([[1., 0., 0.],\n",
       "       [0., 1., 0.],\n",
       "       [0., 0., 1.]])"
      ]
     },
     "execution_count": 20,
     "metadata": {},
     "output_type": "execute_result"
    }
   ],
   "source": [
    "# np.identity => to print identity matrix\n",
    "np.identity(3)  # bass size paass kar do"
   ]
  },
  {
   "cell_type": "markdown",
   "id": "24da8daa-224c-4a2f-a1c7-8e603f6c8c29",
   "metadata": {},
   "source": [
    "### Array Attributes\n",
    "- har numpy array numpy class ka object hai toh har numpy array jo aap bana rahe ho wo numpy class ki kuch arrtibutes ko access kar sakta hai"
   ]
  },
  {
   "cell_type": "code",
   "execution_count": 18,
   "id": "a2b85f68-9582-4f5d-a01f-206349469bd6",
   "metadata": {},
   "outputs": [],
   "source": [
    "a1=np.arange(10,dtype=np.int32) # dtype compulsury nahi hai but agar aap 32 bit bale ke sath ya 64 bit ke sath kaam kaena chahate hain ypou choice\n",
    "a2=np.arange(12,dtype=float).reshape(3,4)\n",
    "a3=np.arange(8,dtype=np.int64).reshape(2,2,2)  # simply (2,2,2) batata hai ki 2x2 size ka andar me 2 (pahla number) 2D array hai"
   ]
  },
  {
   "cell_type": "code",
   "execution_count": 36,
   "id": "f7f1164d-9d36-4755-ae30-ea879cf240e8",
   "metadata": {},
   "outputs": [
    {
     "data": {
      "text/plain": [
       "array([0, 1, 2, 3, 4, 5, 6, 7, 8, 9])"
      ]
     },
     "execution_count": 36,
     "metadata": {},
     "output_type": "execute_result"
    }
   ],
   "source": [
    "a1 #1D array  or vector"
   ]
  },
  {
   "cell_type": "code",
   "execution_count": 38,
   "id": "727a2a23-afcc-4155-8603-a6ddb3ac4adb",
   "metadata": {},
   "outputs": [
    {
     "data": {
      "text/plain": [
       "array([[ 0.,  1.,  2.,  3.],\n",
       "       [ 4.,  5.,  6.,  7.],\n",
       "       [ 8.,  9., 10., 11.]])"
      ]
     },
     "execution_count": 38,
     "metadata": {},
     "output_type": "execute_result"
    }
   ],
   "source": [
    "a2 #2D array"
   ]
  },
  {
   "cell_type": "code",
   "execution_count": 40,
   "id": "c7f480dd-558e-48ff-a1ca-72c719e3ad4e",
   "metadata": {},
   "outputs": [
    {
     "data": {
      "text/plain": [
       "array([[[0, 1],\n",
       "        [2, 3]],\n",
       "\n",
       "       [[4, 5],\n",
       "        [6, 7]]])"
      ]
     },
     "execution_count": 40,
     "metadata": {},
     "output_type": "execute_result"
    }
   ],
   "source": [
    "a3  #3D array or tensor"
   ]
  },
  {
   "cell_type": "code",
   "execution_count": 42,
   "id": "1dd6e376-e99d-447c-8393-c1173989182e",
   "metadata": {},
   "outputs": [
    {
     "data": {
      "text/plain": [
       "1"
      ]
     },
     "execution_count": 42,
     "metadata": {},
     "output_type": "execute_result"
    }
   ],
   "source": [
    "# ndim (Number of Dimension)  => simply ki aapka jo array hai wo kitne dimension ka hai\n",
    "a1.ndim"
   ]
  },
  {
   "cell_type": "code",
   "execution_count": 4,
   "id": "282d36fe-a095-4949-8310-2fca883bc331",
   "metadata": {},
   "outputs": [],
   "source": [
    "import numpy as np"
   ]
  },
  {
   "cell_type": "code",
   "execution_count": 6,
   "id": "8eb95b68-1baf-4fdf-aa47-a72853371977",
   "metadata": {},
   "outputs": [
    {
     "data": {
      "text/plain": [
       "1"
      ]
     },
     "execution_count": 6,
     "metadata": {},
     "output_type": "execute_result"
    }
   ],
   "source": [
    "np.array([1,2,3]).ndim"
   ]
  },
  {
   "cell_type": "code",
   "execution_count": 44,
   "id": "017edc07-5d83-42d7-a5e2-85bec82aaa65",
   "metadata": {},
   "outputs": [
    {
     "data": {
      "text/plain": [
       "2"
      ]
     },
     "execution_count": 44,
     "metadata": {},
     "output_type": "execute_result"
    }
   ],
   "source": [
    "a2.ndim"
   ]
  },
  {
   "cell_type": "code",
   "execution_count": 46,
   "id": "c7b101b7-c18c-4597-b874-4962b60f5f09",
   "metadata": {},
   "outputs": [
    {
     "data": {
      "text/plain": [
       "3"
      ]
     },
     "execution_count": 46,
     "metadata": {},
     "output_type": "execute_result"
    }
   ],
   "source": [
    "a3.ndim"
   ]
  },
  {
   "cell_type": "code",
   "execution_count": 48,
   "id": "eaf39f04-6e0f-4059-8e4d-6557bacdf34a",
   "metadata": {},
   "outputs": [
    {
     "data": {
      "text/plain": [
       "(10,)"
      ]
     },
     "execution_count": 48,
     "metadata": {},
     "output_type": "execute_result"
    }
   ],
   "source": [
    "# shape (ye batayega ki har dimension me kitne item hain)\n",
    "a1.shape"
   ]
  },
  {
   "cell_type": "code",
   "execution_count": 50,
   "id": "09a39581-18db-4606-932a-c308040bb8b7",
   "metadata": {},
   "outputs": [
    {
     "data": {
      "text/plain": [
       "(3, 4)"
      ]
     },
     "execution_count": 50,
     "metadata": {},
     "output_type": "execute_result"
    }
   ],
   "source": [
    "a2.shape"
   ]
  },
  {
   "cell_type": "code",
   "execution_count": 52,
   "id": "4e12842e-e3b8-4a65-8188-33bd76d8560d",
   "metadata": {},
   "outputs": [
    {
     "data": {
      "text/plain": [
       "(2, 2, 2)"
      ]
     },
     "execution_count": 52,
     "metadata": {},
     "output_type": "execute_result"
    }
   ],
   "source": [
    "a3.shape"
   ]
  },
  {
   "cell_type": "code",
   "execution_count": 54,
   "id": "e7ced3b6-6f2d-4c09-b0bb-ddca8d8f9c15",
   "metadata": {},
   "outputs": [
    {
     "data": {
      "text/plain": [
       "10"
      ]
     },
     "execution_count": 54,
     "metadata": {},
     "output_type": "execute_result"
    }
   ],
   "source": [
    "# size => number of items kitne hain\n",
    "a1.size"
   ]
  },
  {
   "cell_type": "code",
   "execution_count": 56,
   "id": "0fdd1b10-49a1-4403-9456-6aaca59c383a",
   "metadata": {},
   "outputs": [
    {
     "data": {
      "text/plain": [
       "12"
      ]
     },
     "execution_count": 56,
     "metadata": {},
     "output_type": "execute_result"
    }
   ],
   "source": [
    "a2.size"
   ]
  },
  {
   "cell_type": "code",
   "execution_count": 58,
   "id": "943177fb-3cce-405e-b3f1-afff7797cd5b",
   "metadata": {},
   "outputs": [
    {
     "data": {
      "text/plain": [
       "8"
      ]
     },
     "execution_count": 58,
     "metadata": {},
     "output_type": "execute_result"
    }
   ],
   "source": [
    "a3.size"
   ]
  },
  {
   "cell_type": "code",
   "execution_count": 68,
   "id": "cf113599-407e-4a1d-94b4-c3ad2ff7bc11",
   "metadata": {},
   "outputs": [
    {
     "data": {
      "text/plain": [
       "4"
      ]
     },
     "execution_count": 68,
     "metadata": {},
     "output_type": "execute_result"
    }
   ],
   "source": [
    "# itemsize => basically batata hai ki memory me har item kitna size occupy karta hai\n",
    "a1.itemsize"
   ]
  },
  {
   "cell_type": "code",
   "execution_count": 70,
   "id": "522d142a-2f2b-445c-9000-0e793d15b2f6",
   "metadata": {},
   "outputs": [
    {
     "data": {
      "text/plain": [
       "8"
      ]
     },
     "execution_count": 70,
     "metadata": {},
     "output_type": "execute_result"
    }
   ],
   "source": [
    "a2.itemsize"
   ]
  },
  {
   "cell_type": "code",
   "execution_count": 72,
   "id": "1220d53c-a2cc-4c0e-94ef-fcbf3830e7bf",
   "metadata": {},
   "outputs": [
    {
     "data": {
      "text/plain": [
       "8"
      ]
     },
     "execution_count": 72,
     "metadata": {},
     "output_type": "execute_result"
    }
   ],
   "source": [
    "a3.itemsize"
   ]
  },
  {
   "cell_type": "code",
   "execution_count": 22,
   "id": "d406adff-f6e3-45f9-bfad-99119fca537d",
   "metadata": {},
   "outputs": [
    {
     "data": {
      "text/plain": [
       "array([[1., 2., 3.],\n",
       "       [4., 5., 6.]])"
      ]
     },
     "execution_count": 22,
     "metadata": {},
     "output_type": "execute_result"
    }
   ],
   "source": [
    "np.array([[1,2,3],[4,5,6]]).astype(float)"
   ]
  },
  {
   "cell_type": "code",
   "execution_count": 74,
   "id": "130263cc-ecac-41d1-b528-b287cd7a5f7f",
   "metadata": {},
   "outputs": [
    {
     "name": "stdout",
     "output_type": "stream",
     "text": [
      "int32\n",
      "float64\n",
      "int64\n"
     ]
    }
   ],
   "source": [
    "# dtype =>ye batata hai ki aapke item ka datatype kya hai\n",
    "print(a1.dtype)\n",
    "print(a2.dtype)\n",
    "print(a3.dtype)"
   ]
  },
  {
   "cell_type": "markdown",
   "id": "2de09478-f70f-4822-ad80-df4dc1c97dd7",
   "metadata": {},
   "source": [
    "## changing Datatype"
   ]
  },
  {
   "cell_type": "code",
   "execution_count": 38,
   "id": "12993666-a3f2-4e33-ad70-5e2e879d6fa6",
   "metadata": {},
   "outputs": [
    {
     "data": {
      "text/plain": [
       "array([[[0, 1],\n",
       "        [2, 3]],\n",
       "\n",
       "       [[4, 5],\n",
       "        [6, 7]]])"
      ]
     },
     "execution_count": 38,
     "metadata": {},
     "output_type": "execute_result"
    }
   ],
   "source": [
    "# astype  => you can change your data type\n",
    "a4=a3.astype(np.int32)\n",
    "a4"
   ]
  },
  {
   "cell_type": "code",
   "execution_count": 40,
   "id": "6c83a08b-9295-4411-bee1-d22caf95089e",
   "metadata": {},
   "outputs": [
    {
     "name": "stdout",
     "output_type": "stream",
     "text": [
      "int32\n"
     ]
    }
   ],
   "source": [
    "print(a4.dtype)"
   ]
  },
  {
   "cell_type": "code",
   "execution_count": 42,
   "id": "17bf6533-4feb-4e17-9658-9bab0c79465d",
   "metadata": {},
   "outputs": [
    {
     "name": "stdout",
     "output_type": "stream",
     "text": [
      "int64\n"
     ]
    }
   ],
   "source": [
    "print(a3.dtype)   # it shows ki changes original bale me nahi hota hai"
   ]
  },
  {
   "cell_type": "code",
   "execution_count": 44,
   "id": "5bb70bb6-fca8-4156-8155-59ffb5b047fc",
   "metadata": {},
   "outputs": [
    {
     "data": {
      "text/plain": [
       "array([[[0., 1.],\n",
       "        [2., 3.]],\n",
       "\n",
       "       [[4., 5.],\n",
       "        [6., 7.]]])"
      ]
     },
     "execution_count": 44,
     "metadata": {},
     "output_type": "execute_result"
    }
   ],
   "source": [
    "a5=a3.astype(float)\n",
    "a5"
   ]
  },
  {
   "cell_type": "code",
   "execution_count": 46,
   "id": "1ca521d7-13ed-445e-b695-30538417ea0e",
   "metadata": {},
   "outputs": [
    {
     "name": "stdout",
     "output_type": "stream",
     "text": [
      "float64\n"
     ]
    }
   ],
   "source": [
    "print(a5.dtype)"
   ]
  },
  {
   "cell_type": "markdown",
   "id": "51b69279-1fb5-4ea9-8a68-5239538bb610",
   "metadata": {},
   "source": [
    "## Array Operations"
   ]
  },
  {
   "cell_type": "code",
   "execution_count": 49,
   "id": "c4c003cb-92ea-4337-95f2-73a12615413c",
   "metadata": {},
   "outputs": [],
   "source": [
    "a1 = np.arange(12).reshape(3,4)\n",
    "a2 = np.arange(12,24).reshape(3,4)"
   ]
  },
  {
   "cell_type": "code",
   "execution_count": 51,
   "id": "45f4f7bd-d2f3-4464-b942-eab48de93849",
   "metadata": {},
   "outputs": [
    {
     "data": {
      "text/plain": [
       "array([[12, 13, 14, 15],\n",
       "       [16, 17, 18, 19],\n",
       "       [20, 21, 22, 23]])"
      ]
     },
     "execution_count": 51,
     "metadata": {},
     "output_type": "execute_result"
    }
   ],
   "source": [
    "a2"
   ]
  },
  {
   "cell_type": "code",
   "execution_count": 53,
   "id": "7dafeb87-578a-4f78-9e33-cf109cf0cb60",
   "metadata": {},
   "outputs": [
    {
     "data": {
      "text/plain": [
       "array([[ 0,  1,  2,  3],\n",
       "       [ 4,  5,  6,  7],\n",
       "       [ 8,  9, 10, 11]])"
      ]
     },
     "execution_count": 53,
     "metadata": {},
     "output_type": "execute_result"
    }
   ],
   "source": [
    "## scalar Operation\n",
    "\n",
    "# arithmetic  => kisi particular number se arithmatic operation kara do\n",
    "a1"
   ]
  },
  {
   "cell_type": "code",
   "execution_count": 55,
   "id": "618f8d22-0580-40c0-8612-4a6eb917e2d2",
   "metadata": {},
   "outputs": [
    {
     "data": {
      "text/plain": [
       "array([[ 0,  2,  4,  6],\n",
       "       [ 8, 10, 12, 14],\n",
       "       [16, 18, 20, 22]])"
      ]
     },
     "execution_count": 55,
     "metadata": {},
     "output_type": "execute_result"
    }
   ],
   "source": [
    "a1*2"
   ]
  },
  {
   "cell_type": "code",
   "execution_count": 57,
   "id": "36144f2f-b63c-4fce-998e-d496d7548217",
   "metadata": {},
   "outputs": [
    {
     "data": {
      "text/plain": [
       "array([[ 2,  3,  4,  5],\n",
       "       [ 6,  7,  8,  9],\n",
       "       [10, 11, 12, 13]])"
      ]
     },
     "execution_count": 57,
     "metadata": {},
     "output_type": "execute_result"
    }
   ],
   "source": [
    "a1+2"
   ]
  },
  {
   "cell_type": "code",
   "execution_count": 59,
   "id": "be21550f-2a44-4ecb-b2b6-200e835ace53",
   "metadata": {},
   "outputs": [
    {
     "data": {
      "text/plain": [
       "array([[-2, -1,  0,  1],\n",
       "       [ 2,  3,  4,  5],\n",
       "       [ 6,  7,  8,  9]])"
      ]
     },
     "execution_count": 59,
     "metadata": {},
     "output_type": "execute_result"
    }
   ],
   "source": [
    "a1-2"
   ]
  },
  {
   "cell_type": "code",
   "execution_count": 61,
   "id": "09b8db13-29e7-47ed-bebd-0aa373f52b53",
   "metadata": {},
   "outputs": [
    {
     "data": {
      "text/plain": [
       "array([[0. , 0.5, 1. , 1.5],\n",
       "       [2. , 2.5, 3. , 3.5],\n",
       "       [4. , 4.5, 5. , 5.5]])"
      ]
     },
     "execution_count": 61,
     "metadata": {},
     "output_type": "execute_result"
    }
   ],
   "source": [
    "a1/2"
   ]
  },
  {
   "cell_type": "code",
   "execution_count": 63,
   "id": "0ced2519-d71d-4d60-97bd-36cf30e4c039",
   "metadata": {},
   "outputs": [
    {
     "data": {
      "text/plain": [
       "array([[0, 0, 1, 1],\n",
       "       [2, 2, 3, 3],\n",
       "       [4, 4, 5, 5]], dtype=int32)"
      ]
     },
     "execution_count": 63,
     "metadata": {},
     "output_type": "execute_result"
    }
   ],
   "source": [
    "a1//2"
   ]
  },
  {
   "cell_type": "code",
   "execution_count": 65,
   "id": "6f8ae0a2-228d-4a4a-abdd-edd279b4750f",
   "metadata": {},
   "outputs": [
    {
     "data": {
      "text/plain": [
       "array([[0, 1, 0, 1],\n",
       "       [0, 1, 0, 1],\n",
       "       [0, 1, 0, 1]], dtype=int32)"
      ]
     },
     "execution_count": 65,
     "metadata": {},
     "output_type": "execute_result"
    }
   ],
   "source": [
    "a1%2"
   ]
  },
  {
   "cell_type": "code",
   "execution_count": 67,
   "id": "6f2ebc1f-968e-4169-ae9d-214984a52597",
   "metadata": {},
   "outputs": [
    {
     "data": {
      "text/plain": [
       "array([[  0,   1,   4,   9],\n",
       "       [ 16,  25,  36,  49],\n",
       "       [ 64,  81, 100, 121]])"
      ]
     },
     "execution_count": 67,
     "metadata": {},
     "output_type": "execute_result"
    }
   ],
   "source": [
    "a1**2"
   ]
  },
  {
   "cell_type": "code",
   "execution_count": 69,
   "id": "52facb4a-9bda-46b0-a2dc-7a3b9184dd8f",
   "metadata": {},
   "outputs": [
    {
     "data": {
      "text/plain": [
       "array([[12, 13, 14, 15],\n",
       "       [16, 17, 18, 19],\n",
       "       [20, 21, 22, 23]])"
      ]
     },
     "execution_count": 69,
     "metadata": {},
     "output_type": "execute_result"
    }
   ],
   "source": [
    "# relational  => sabke sab relational operator apply kar sakte ho\n",
    "a2"
   ]
  },
  {
   "cell_type": "code",
   "execution_count": 71,
   "id": "3369a918-18e2-43c1-a69c-4c46a31bf5cb",
   "metadata": {},
   "outputs": [
    {
     "data": {
      "text/plain": [
       "array([[ True,  True,  True,  True],\n",
       "       [ True,  True,  True,  True],\n",
       "       [ True,  True,  True,  True]])"
      ]
     },
     "execution_count": 71,
     "metadata": {},
     "output_type": "execute_result"
    }
   ],
   "source": [
    "a2>5  # each element se compare karega ki a2 ka jo each element hai wo 5 se grater hai ki nahi and ek boolean array return karega"
   ]
  },
  {
   "cell_type": "code",
   "execution_count": 73,
   "id": "96c441b1-0b4e-44fd-aa00-ea76127ff561",
   "metadata": {},
   "outputs": [
    {
     "data": {
      "text/plain": [
       "array([[False, False, False, False],\n",
       "       [ True,  True,  True,  True],\n",
       "       [ True,  True,  True,  True]])"
      ]
     },
     "execution_count": 73,
     "metadata": {},
     "output_type": "execute_result"
    }
   ],
   "source": [
    "a2>15"
   ]
  },
  {
   "cell_type": "code",
   "execution_count": 75,
   "id": "c3f6ff82-9ecb-4468-af40-97206bafe4c7",
   "metadata": {},
   "outputs": [
    {
     "data": {
      "text/plain": [
       "array([[False, False, False,  True],\n",
       "       [False, False, False, False],\n",
       "       [False, False, False, False]])"
      ]
     },
     "execution_count": 75,
     "metadata": {},
     "output_type": "execute_result"
    }
   ],
   "source": [
    "a2==15"
   ]
  },
  {
   "cell_type": "code",
   "execution_count": 77,
   "id": "81e4e5dd-e1e2-448c-9118-5886441d620a",
   "metadata": {},
   "outputs": [
    {
     "data": {
      "text/plain": [
       "array([[ 0,  1,  2,  3],\n",
       "       [ 4,  5,  6,  7],\n",
       "       [ 8,  9, 10, 11]])"
      ]
     },
     "execution_count": 77,
     "metadata": {},
     "output_type": "execute_result"
    }
   ],
   "source": [
    "# vector operation  => shape same hona chahaiye\n",
    "\n",
    "\n",
    "# arithmetic\n",
    "\n",
    "a1\n",
    "\n"
   ]
  },
  {
   "cell_type": "code",
   "execution_count": 79,
   "id": "edf13483-e6db-4e00-9649-033abd09a1d0",
   "metadata": {},
   "outputs": [
    {
     "data": {
      "text/plain": [
       "array([[12, 13, 14, 15],\n",
       "       [16, 17, 18, 19],\n",
       "       [20, 21, 22, 23]])"
      ]
     },
     "execution_count": 79,
     "metadata": {},
     "output_type": "execute_result"
    }
   ],
   "source": [
    "a2"
   ]
  },
  {
   "cell_type": "code",
   "execution_count": 81,
   "id": "6559c4ef-60a8-4a26-b66f-aa5b97628201",
   "metadata": {},
   "outputs": [
    {
     "data": {
      "text/plain": [
       "array([[12, 14, 16, 18],\n",
       "       [20, 22, 24, 26],\n",
       "       [28, 30, 32, 34]])"
      ]
     },
     "execution_count": 81,
     "metadata": {},
     "output_type": "execute_result"
    }
   ],
   "source": [
    "a1+a2"
   ]
  },
  {
   "cell_type": "code",
   "execution_count": 83,
   "id": "d10130a1-abb1-4035-a16f-e7745052f222",
   "metadata": {},
   "outputs": [
    {
     "data": {
      "text/plain": [
       "array([[  0,  13,  28,  45],\n",
       "       [ 64,  85, 108, 133],\n",
       "       [160, 189, 220, 253]])"
      ]
     },
     "execution_count": 83,
     "metadata": {},
     "output_type": "execute_result"
    }
   ],
   "source": [
    "a1*a2  # corrosponding element product hoga"
   ]
  },
  {
   "cell_type": "code",
   "execution_count": 85,
   "id": "bf7ba478-0ae5-41f5-8bdd-b4ceeb6233d1",
   "metadata": {},
   "outputs": [
    {
     "data": {
      "text/plain": [
       "array([[          0,           1,       16384,    14348907],\n",
       "       [          0, -1564725563,  1159987200,   442181591],\n",
       "       [          0,  1914644777, -1304428544,  -122979837]])"
      ]
     },
     "execution_count": 85,
     "metadata": {},
     "output_type": "execute_result"
    }
   ],
   "source": [
    "a1**a2"
   ]
  },
  {
   "cell_type": "code",
   "execution_count": 87,
   "id": "ce8a8671-db33-4528-bcac-4a4452a623b6",
   "metadata": {},
   "outputs": [
    {
     "data": {
      "text/plain": [
       "array([[0.        , 0.07692308, 0.14285714, 0.2       ],\n",
       "       [0.25      , 0.29411765, 0.33333333, 0.36842105],\n",
       "       [0.4       , 0.42857143, 0.45454545, 0.47826087]])"
      ]
     },
     "execution_count": 87,
     "metadata": {},
     "output_type": "execute_result"
    }
   ],
   "source": [
    "a1/a2"
   ]
  },
  {
   "cell_type": "markdown",
   "id": "d7517d96-b0f3-4ca7-ac60-d5adeb4009c4",
   "metadata": {},
   "source": [
    "# Array function"
   ]
  },
  {
   "cell_type": "code",
   "execution_count": 3,
   "id": "34a69573-0175-4fd6-b7fb-99aa6b14ee10",
   "metadata": {},
   "outputs": [],
   "source": [
    "import numpy as np"
   ]
  },
  {
   "cell_type": "code",
   "execution_count": 17,
   "id": "2ddcfea0-500d-4dc4-8e36-76805f14e904",
   "metadata": {},
   "outputs": [
    {
     "data": {
      "text/plain": [
       "array([0.11343832, 0.98235722, 0.05013409, 0.8468819 , 0.98127073])"
      ]
     },
     "execution_count": 17,
     "metadata": {},
     "output_type": "execute_result"
    }
   ],
   "source": [
    "a1 = np.random.random(5)\n",
    "#a1 = np.round(a1*100)\n",
    "a1"
   ]
  },
  {
   "cell_type": "code",
   "execution_count": 19,
   "id": "7127ec78-cd6a-426a-b1d3-d4cc50d11a1b",
   "metadata": {},
   "outputs": [
    {
     "data": {
      "text/plain": [
       "array([0.34605265, 0.1875996 , 0.67101219, 0.97216955, 0.72828204,\n",
       "       0.87412899, 0.52245757, 0.60122   , 0.51739623, 0.97997266])"
      ]
     },
     "execution_count": 19,
     "metadata": {},
     "output_type": "execute_result"
    }
   ],
   "source": [
    "# random number -> rand,randn,ranf,randint\n",
    "\n",
    "a=np.random.rand(10)\n",
    "a"
   ]
  },
  {
   "cell_type": "code",
   "execution_count": 10,
   "id": "b2f30ada-3d5e-468f-aedd-4d982f8e059e",
   "metadata": {},
   "outputs": [
    {
     "data": {
      "text/plain": [
       "array([[0.40843536, 0.98472908, 0.15423192, 0.05024507],\n",
       "       [0.84223149, 0.11024095, 0.62546642, 0.62493099]])"
      ]
     },
     "execution_count": 10,
     "metadata": {},
     "output_type": "execute_result"
    }
   ],
   "source": [
    "a=np.random.rand(2,4)\n",
    "a"
   ]
  },
  {
   "cell_type": "code",
   "execution_count": 12,
   "id": "ed2f814c-0a91-41b2-bc42-e5988b4dcf28",
   "metadata": {},
   "outputs": [
    {
     "data": {
      "text/plain": [
       "array([0.50113025, 0.50028113, 0.92899553, 0.91632737, 0.77442113,\n",
       "       0.94794648, 0.69412541, 0.39085533, 0.58093387, 0.08175353])"
      ]
     },
     "execution_count": 12,
     "metadata": {},
     "output_type": "execute_result"
    }
   ],
   "source": [
    "a=np.random.ranf(10)\n",
    "a"
   ]
  },
  {
   "cell_type": "code",
   "execution_count": 14,
   "id": "cd4a4a83-6255-47b5-8b3c-fc05baa9aeec",
   "metadata": {},
   "outputs": [
    {
     "ename": "TypeError",
     "evalue": "random_sample() takes at most 1 positional argument (2 given)",
     "output_type": "error",
     "traceback": [
      "\u001b[1;31m---------------------------------------------------------------------------\u001b[0m",
      "\u001b[1;31mTypeError\u001b[0m                                 Traceback (most recent call last)",
      "Cell \u001b[1;32mIn[14], line 1\u001b[0m\n\u001b[1;32m----> 1\u001b[0m a\u001b[38;5;241m=\u001b[39m\u001b[43mnp\u001b[49m\u001b[38;5;241;43m.\u001b[39;49m\u001b[43mrandom\u001b[49m\u001b[38;5;241;43m.\u001b[39;49m\u001b[43mranf\u001b[49m\u001b[43m(\u001b[49m\u001b[38;5;241;43m2\u001b[39;49m\u001b[43m,\u001b[49m\u001b[38;5;241;43m4\u001b[39;49m\u001b[43m)\u001b[49m\n\u001b[0;32m      2\u001b[0m a\n",
      "File \u001b[1;32mnumpy\\\\random\\\\mtrand.pyx:4879\u001b[0m, in \u001b[0;36mnumpy.random.mtrand.ranf\u001b[1;34m()\u001b[0m\n",
      "File \u001b[1;32mnumpy\\\\random\\\\mtrand.pyx:385\u001b[0m, in \u001b[0;36mnumpy.random.mtrand.RandomState.random_sample\u001b[1;34m()\u001b[0m\n",
      "\u001b[1;31mTypeError\u001b[0m: random_sample() takes at most 1 positional argument (2 given)"
     ]
    }
   ],
   "source": [
    "a=np.random.ranf(2,4)\n",
    "a"
   ]
  },
  {
   "cell_type": "code",
   "execution_count": 16,
   "id": "3cce8002-1e1f-4202-bb60-3d230d1ebaa9",
   "metadata": {},
   "outputs": [
    {
     "data": {
      "text/plain": [
       "array([[0.98842586, 0.85284128, 0.65288041, 0.75446212],\n",
       "       [0.35332838, 0.54494872, 0.02990169, 0.11542688]])"
      ]
     },
     "execution_count": 16,
     "metadata": {},
     "output_type": "execute_result"
    }
   ],
   "source": [
    "a=np.random.ranf((2,4))  # agar multidimension chahaiye to aap simply ek tuple pass kar do\n",
    "a"
   ]
  },
  {
   "cell_type": "code",
   "execution_count": 18,
   "id": "d7a99e94-2e2c-4637-b046-70434ac26c9e",
   "metadata": {},
   "outputs": [
    {
     "data": {
      "text/plain": [
       "array([-0.66633551,  0.39187368, -1.4242592 , -0.23321945])"
      ]
     },
     "execution_count": 18,
     "metadata": {},
     "output_type": "execute_result"
    }
   ],
   "source": [
    "a=np.random.randn(4)  # random negative\n",
    "a"
   ]
  },
  {
   "cell_type": "code",
   "execution_count": 32,
   "id": "a3c1ef48-b10a-4d4e-a7e6-8083376a3dde",
   "metadata": {},
   "outputs": [
    {
     "data": {
      "text/plain": [
       "array([21, 24, 18, 22, 23, 23, 23, 21, 20, 24])"
      ]
     },
     "execution_count": 32,
     "metadata": {},
     "output_type": "execute_result"
    }
   ],
   "source": [
    "a=np.random.randint(18,25,10)  # 18-25 ke bich me 10 integer value\n",
    "\n",
    "a"
   ]
  },
  {
   "cell_type": "code",
   "execution_count": 12,
   "id": "716210fa-7294-47b2-bcc1-67f3d732db34",
   "metadata": {},
   "outputs": [
    {
     "data": {
      "text/plain": [
       "array([[68., 40., 82.],\n",
       "       [11., 29., 36.],\n",
       "       [84., 63., 66.]])"
      ]
     },
     "execution_count": 12,
     "metadata": {},
     "output_type": "execute_result"
    }
   ],
   "source": [
    "a1"
   ]
  },
  {
   "cell_type": "code",
   "execution_count": 14,
   "id": "f00887c8-b598-4b99-9190-424bda5b32a3",
   "metadata": {},
   "outputs": [
    {
     "data": {
      "text/plain": [
       "84.0"
      ]
     },
     "execution_count": 14,
     "metadata": {},
     "output_type": "execute_result"
    }
   ],
   "source": [
    "# max/min/sum/prod\n",
    "np.max(a1)"
   ]
  },
  {
   "cell_type": "code",
   "execution_count": 16,
   "id": "fcff0771-5526-4361-bbf5-4969d949cca6",
   "metadata": {},
   "outputs": [
    {
     "data": {
      "text/plain": [
       "11.0"
      ]
     },
     "execution_count": 16,
     "metadata": {},
     "output_type": "execute_result"
    }
   ],
   "source": [
    "np.min(a1)"
   ]
  },
  {
   "cell_type": "code",
   "execution_count": 18,
   "id": "a582c058-bae7-4c36-8f75-ff35d17d4365",
   "metadata": {},
   "outputs": [
    {
     "data": {
      "text/plain": [
       "479.0"
      ]
     },
     "execution_count": 18,
     "metadata": {},
     "output_type": "execute_result"
    }
   ],
   "source": [
    "np.sum(a1)  # jitna bhi element hai array me sabka sum find karke de dega"
   ]
  },
  {
   "cell_type": "code",
   "execution_count": 20,
   "id": "ce7a36ba-0e1d-4057-8c4c-7997d8509ff7",
   "metadata": {},
   "outputs": [
    {
     "data": {
      "text/plain": [
       "894622283089920.0"
      ]
     },
     "execution_count": 20,
     "metadata": {},
     "output_type": "execute_result"
    }
   ],
   "source": [
    "np.prod(a1)   # jitna bhi element hai array me sabka product find karke de dega"
   ]
  },
  {
   "cell_type": "code",
   "execution_count": 22,
   "id": "94dac73e-4d13-44ef-97d0-1046b5d9b977",
   "metadata": {},
   "outputs": [
    {
     "data": {
      "text/plain": [
       "array([[68., 40., 82.],\n",
       "       [11., 29., 36.],\n",
       "       [84., 63., 66.]])"
      ]
     },
     "execution_count": 22,
     "metadata": {},
     "output_type": "execute_result"
    }
   ],
   "source": [
    "a1"
   ]
  },
  {
   "cell_type": "code",
   "execution_count": 24,
   "id": "2af54bef-cd36-467f-9f5f-6ba7de68da04",
   "metadata": {},
   "outputs": [
    {
     "data": {
      "text/plain": [
       "array([84., 63., 82.])"
      ]
     },
     "execution_count": 24,
     "metadata": {},
     "output_type": "execute_result"
    }
   ],
   "source": [
    "# hum each row ke sath bhi kaam kar sakte hain matlab ki agar need hai ki each row ya each column ka max/min element find karo ya each row \n",
    "# ya each column ka sum/product\n",
    "\n",
    "# axis=0 -> col and 1-> row\n",
    "np.max(a1,axis=0)  # columne wise maximum element fing karke de dega"
   ]
  },
  {
   "cell_type": "code",
   "execution_count": 26,
   "id": "730f8fb9-8783-461f-a46f-0ab26552cc33",
   "metadata": {},
   "outputs": [
    {
     "data": {
      "text/plain": [
       "array([11., 29., 36.])"
      ]
     },
     "execution_count": 26,
     "metadata": {},
     "output_type": "execute_result"
    }
   ],
   "source": [
    "np.min(a1,axis=0)"
   ]
  },
  {
   "cell_type": "code",
   "execution_count": 28,
   "id": "546b4d9a-f57b-485d-948e-5a5dfc070192",
   "metadata": {},
   "outputs": [
    {
     "data": {
      "text/plain": [
       "array([163., 132., 184.])"
      ]
     },
     "execution_count": 28,
     "metadata": {},
     "output_type": "execute_result"
    }
   ],
   "source": [
    "np.sum(a1,axis=0)"
   ]
  },
  {
   "cell_type": "code",
   "execution_count": 30,
   "id": "f467e83d-ae06-4848-bfec-a8228be79e4c",
   "metadata": {},
   "outputs": [
    {
     "data": {
      "text/plain": [
       "array([ 62832.,  73080., 194832.])"
      ]
     },
     "execution_count": 30,
     "metadata": {},
     "output_type": "execute_result"
    }
   ],
   "source": [
    "np.prod(a1,axis=0)"
   ]
  },
  {
   "cell_type": "code",
   "execution_count": 32,
   "id": "17f630e7-4383-45e7-8f99-27b16ac4b8ba",
   "metadata": {},
   "outputs": [
    {
     "data": {
      "text/plain": [
       "array([82., 36., 84.])"
      ]
     },
     "execution_count": 32,
     "metadata": {},
     "output_type": "execute_result"
    }
   ],
   "source": [
    "np.max(a1,axis=1)"
   ]
  },
  {
   "cell_type": "code",
   "execution_count": 34,
   "id": "0e7c1e70-119f-4d8c-9075-ac07ba7a896a",
   "metadata": {},
   "outputs": [
    {
     "data": {
      "text/plain": [
       "array([40., 11., 63.])"
      ]
     },
     "execution_count": 34,
     "metadata": {},
     "output_type": "execute_result"
    }
   ],
   "source": [
    "np.min(a1,axis=1)"
   ]
  },
  {
   "cell_type": "code",
   "execution_count": 36,
   "id": "fd586832-1c93-4c5b-bb47-edb4c7a57c70",
   "metadata": {},
   "outputs": [
    {
     "data": {
      "text/plain": [
       "array([190.,  76., 213.])"
      ]
     },
     "execution_count": 36,
     "metadata": {},
     "output_type": "execute_result"
    }
   ],
   "source": [
    "np.sum(a1,axis=1)"
   ]
  },
  {
   "cell_type": "code",
   "execution_count": 38,
   "id": "ce63142e-555e-4610-a474-f7de054d2244",
   "metadata": {},
   "outputs": [
    {
     "data": {
      "text/plain": [
       "array([223040.,  11484., 349272.])"
      ]
     },
     "execution_count": 38,
     "metadata": {},
     "output_type": "execute_result"
    }
   ],
   "source": [
    "np.prod(a1,axis=1)"
   ]
  },
  {
   "cell_type": "code",
   "execution_count": 40,
   "id": "c48b9da0-1ee5-4a85-b77d-d9da4ea4c46e",
   "metadata": {},
   "outputs": [],
   "source": [
    "# mean/median/std/var"
   ]
  },
  {
   "cell_type": "code",
   "execution_count": 42,
   "id": "ea07892d-8a34-4b60-99cb-dfe98ccf9854",
   "metadata": {},
   "outputs": [
    {
     "data": {
      "text/plain": [
       "53.22222222222222"
      ]
     },
     "execution_count": 42,
     "metadata": {},
     "output_type": "execute_result"
    }
   ],
   "source": [
    "np.mean(a1)  # sare element ka mean find karke de dega"
   ]
  },
  {
   "cell_type": "code",
   "execution_count": 44,
   "id": "b3c94599-29a8-4832-8c8f-1f9afd0ab063",
   "metadata": {},
   "outputs": [
    {
     "data": {
      "text/plain": [
       "array([63.33333333, 25.33333333, 71.        ])"
      ]
     },
     "execution_count": 44,
     "metadata": {},
     "output_type": "execute_result"
    }
   ],
   "source": [
    "# and ofcourse yaha bhi flexibility hai row wise and column wise bhi find kar sakte ho\n",
    "np.mean(a1,axis=1)"
   ]
  },
  {
   "cell_type": "code",
   "execution_count": 46,
   "id": "4412d51d-4221-4812-9476-df608dacc1c5",
   "metadata": {},
   "outputs": [
    {
     "data": {
      "text/plain": [
       "63.0"
      ]
     },
     "execution_count": 46,
     "metadata": {},
     "output_type": "execute_result"
    }
   ],
   "source": [
    "np.median(a1)"
   ]
  },
  {
   "cell_type": "code",
   "execution_count": 48,
   "id": "8deecbbf-a486-49cb-983f-d8f0e43d659a",
   "metadata": {},
   "outputs": [
    {
     "data": {
      "text/plain": [
       "array([68., 29., 66.])"
      ]
     },
     "execution_count": 48,
     "metadata": {},
     "output_type": "execute_result"
    }
   ],
   "source": [
    "np.median(a1,axis=1)"
   ]
  },
  {
   "cell_type": "code",
   "execution_count": 50,
   "id": "d1e24aee-1061-4e4c-b95e-5b276e0fa309",
   "metadata": {},
   "outputs": [
    {
     "data": {
      "text/plain": [
       "565.9506172839506"
      ]
     },
     "execution_count": 50,
     "metadata": {},
     "output_type": "execute_result"
    }
   ],
   "source": [
    "np.var(a1)  # variance"
   ]
  },
  {
   "cell_type": "code",
   "execution_count": null,
   "id": "fd6bc31a-4360-4180-bcc3-ceacdca6feca",
   "metadata": {},
   "outputs": [],
   "source": []
  },
  {
   "cell_type": "code",
   "execution_count": 52,
   "id": "1b77cedc-d6e8-4c72-a177-6f7c886a6021",
   "metadata": {},
   "outputs": [
    {
     "data": {
      "text/plain": [
       "23.789716628912387"
      ]
     },
     "execution_count": 52,
     "metadata": {},
     "output_type": "execute_result"
    }
   ],
   "source": [
    "np.std(a1)  # standard deviation"
   ]
  },
  {
   "cell_type": "code",
   "execution_count": 54,
   "id": "e689c323-0c76-4ebd-b0f5-e11562873cd8",
   "metadata": {},
   "outputs": [
    {
     "data": {
      "text/plain": [
       "array([[-0.89792768,  0.74511316,  0.31322878],\n",
       "       [-0.99999021, -0.66363388, -0.99177885],\n",
       "       [ 0.73319032,  0.1673557 , -0.02655115]])"
      ]
     },
     "execution_count": 54,
     "metadata": {},
     "output_type": "execute_result"
    }
   ],
   "source": [
    "# trigonometric function\n",
    "np.sin(a1)"
   ]
  },
  {
   "cell_type": "code",
   "execution_count": 8,
   "id": "7f263ccb-1702-46cd-b57e-1af1ce5c625b",
   "metadata": {},
   "outputs": [
    {
     "data": {
      "text/plain": [
       "array([[114, 120, 126],\n",
       "       [378, 400, 422],\n",
       "       [642, 680, 718]])"
      ]
     },
     "execution_count": 8,
     "metadata": {},
     "output_type": "execute_result"
    }
   ],
   "source": [
    "# dot product => matrix product\n",
    "a2=np.arange(12).reshape(3,4)\n",
    "a3=np.arange(12,24).reshape(4,3)\n",
    "\n",
    "np.dot(a2,a3)\n"
   ]
  },
  {
   "cell_type": "code",
   "execution_count": 56,
   "id": "850a5c79-0a6e-4a0c-a1e7-04077f7653dc",
   "metadata": {},
   "outputs": [
    {
     "data": {
      "text/plain": [
       "array([[4.21950771, 3.68887945, 4.40671925],\n",
       "       [2.39789527, 3.36729583, 3.58351894],\n",
       "       [4.4308168 , 4.14313473, 4.18965474]])"
      ]
     },
     "execution_count": 56,
     "metadata": {},
     "output_type": "execute_result"
    }
   ],
   "source": [
    "# log and exponent\n",
    "np.log(a1)  # har element ka log\n"
   ]
  },
  {
   "cell_type": "code",
   "execution_count": 58,
   "id": "2d67ab2b-9b04-4f55-89bf-619e94185afb",
   "metadata": {},
   "outputs": [
    {
     "data": {
      "text/plain": [
       "array([[3.40427605e+29, 2.35385267e+17, 4.09399696e+35],\n",
       "       [5.98741417e+04, 3.93133430e+12, 4.31123155e+15],\n",
       "       [3.02507732e+36, 2.29378316e+27, 4.60718663e+28]])"
      ]
     },
     "execution_count": 58,
     "metadata": {},
     "output_type": "execute_result"
    }
   ],
   "source": [
    "np.exp(a1)  # har element ka exponent"
   ]
  },
  {
   "cell_type": "code",
   "execution_count": 60,
   "id": "7b697d44-17fd-4a2e-9df1-cc89b3b1bf8c",
   "metadata": {},
   "outputs": [],
   "source": [
    "# round /floop/ceil\n",
    "a=np.random.random((2,3))*100"
   ]
  },
  {
   "cell_type": "code",
   "execution_count": 62,
   "id": "6550f330-731e-4c65-8eb7-787f55720d2b",
   "metadata": {},
   "outputs": [
    {
     "data": {
      "text/plain": [
       "array([[94.92026349,  5.59729856, 66.3819704 ],\n",
       "       [71.70719749, 44.80901264,  8.01456459]])"
      ]
     },
     "execution_count": 62,
     "metadata": {},
     "output_type": "execute_result"
    }
   ],
   "source": [
    "a"
   ]
  },
  {
   "cell_type": "code",
   "execution_count": 64,
   "id": "cb28d9be-830d-44bb-8bea-ca557bba3e82",
   "metadata": {},
   "outputs": [
    {
     "data": {
      "text/plain": [
       "array([[95.,  6., 66.],\n",
       "       [72., 45.,  8.]])"
      ]
     },
     "execution_count": 64,
     "metadata": {},
     "output_type": "execute_result"
    }
   ],
   "source": [
    "np.round(a)"
   ]
  },
  {
   "cell_type": "code",
   "execution_count": 66,
   "id": "5411a6af-1053-4150-8bfb-f0c0c05e740c",
   "metadata": {},
   "outputs": [
    {
     "data": {
      "text/plain": [
       "array([[94.,  5., 66.],\n",
       "       [71., 44.,  8.]])"
      ]
     },
     "execution_count": 66,
     "metadata": {},
     "output_type": "execute_result"
    }
   ],
   "source": [
    "np.floor(a)"
   ]
  },
  {
   "cell_type": "code",
   "execution_count": 68,
   "id": "596e6b6f-2445-4539-9e18-d2ef2b7dbc40",
   "metadata": {},
   "outputs": [
    {
     "data": {
      "text/plain": [
       "array([[95.,  6., 67.],\n",
       "       [72., 45.,  9.]])"
      ]
     },
     "execution_count": 68,
     "metadata": {},
     "output_type": "execute_result"
    }
   ],
   "source": [
    "np.ceil(a)"
   ]
  },
  {
   "cell_type": "markdown",
   "id": "bbd865be-52ce-4a11-aeea-108186b78993",
   "metadata": {},
   "source": [
    "# Indexing and Slicing"
   ]
  },
  {
   "cell_type": "code",
   "execution_count": 26,
   "id": "6aa35397-0a7f-408a-8a61-5de4cb8daabd",
   "metadata": {},
   "outputs": [
    {
     "data": {
      "text/plain": [
       "array([0, 1, 2, 3, 4, 5, 6, 7, 8, 9])"
      ]
     },
     "execution_count": 26,
     "metadata": {},
     "output_type": "execute_result"
    }
   ],
   "source": [
    "a1=np.arange(10)\n",
    "a2=np.arange(12).reshape(3,4)\n",
    "a3=np.arange(8).reshape(2,2,2)\n",
    "\n",
    "a1"
   ]
  },
  {
   "cell_type": "code",
   "execution_count": 29,
   "id": "4288a7e8-b5bb-4a69-a01e-cdc128c2cc19",
   "metadata": {},
   "outputs": [
    {
     "data": {
      "text/plain": [
       "9"
      ]
     },
     "execution_count": 29,
     "metadata": {},
     "output_type": "execute_result"
    }
   ],
   "source": [
    "# normal jaise pahle indexing hota tha and numpy also support +ve as well -ve indexes\n",
    "a1[-1]"
   ]
  },
  {
   "cell_type": "code",
   "execution_count": 31,
   "id": "29ca00a9-bd6f-4953-a0a1-60a53cfbafc0",
   "metadata": {},
   "outputs": [
    {
     "data": {
      "text/plain": [
       "0"
      ]
     },
     "execution_count": 31,
     "metadata": {},
     "output_type": "execute_result"
    }
   ],
   "source": [
    "a1[0]"
   ]
  },
  {
   "cell_type": "code",
   "execution_count": 28,
   "id": "ce4ccfad-051b-4c0e-a9db-be12a1976a02",
   "metadata": {},
   "outputs": [
    {
     "data": {
      "text/plain": [
       "array([[ 0,  1,  2,  3],\n",
       "       [ 4,  5,  6,  7],\n",
       "       [ 8,  9, 10, 11]])"
      ]
     },
     "execution_count": 28,
     "metadata": {},
     "output_type": "execute_result"
    }
   ],
   "source": [
    "# 2D\n",
    "a2"
   ]
  },
  {
   "cell_type": "code",
   "execution_count": 34,
   "id": "70a61c1e-34c9-4473-a493-c967148f2dad",
   "metadata": {},
   "outputs": [
    {
     "data": {
      "text/plain": [
       "6"
      ]
     },
     "execution_count": 34,
     "metadata": {},
     "output_type": "execute_result"
    }
   ],
   "source": [
    "#just we have to find 6 => sabse pahle row batao and comma ke baad column batao and row column ka indexing 0 se suru hota hai\n",
    "a2[1,2]"
   ]
  },
  {
   "cell_type": "code",
   "execution_count": 36,
   "id": "7412f670-3e21-4b6d-b907-58d276045473",
   "metadata": {},
   "outputs": [
    {
     "data": {
      "text/plain": [
       "10"
      ]
     },
     "execution_count": 36,
     "metadata": {},
     "output_type": "execute_result"
    }
   ],
   "source": [
    "a2[-1,-2]"
   ]
  },
  {
   "cell_type": "code",
   "execution_count": 39,
   "id": "1dd8a4c5-8a04-4941-9279-015f5f49f24d",
   "metadata": {},
   "outputs": [
    {
     "data": {
      "text/plain": [
       "4"
      ]
     },
     "execution_count": 39,
     "metadata": {},
     "output_type": "execute_result"
    }
   ],
   "source": [
    "# 4\n",
    "a2[1,0]"
   ]
  },
  {
   "cell_type": "code",
   "execution_count": 38,
   "id": "f9691f8e-3309-4329-a772-985a1569a8a8",
   "metadata": {},
   "outputs": [
    {
     "data": {
      "text/plain": [
       "array([[[0, 1],\n",
       "        [2, 3]],\n",
       "\n",
       "       [[4, 5],\n",
       "        [6, 7]]])"
      ]
     },
     "execution_count": 38,
     "metadata": {},
     "output_type": "execute_result"
    }
   ],
   "source": [
    "# 3D\n",
    "a3"
   ]
  },
  {
   "cell_type": "code",
   "execution_count": 43,
   "id": "f741cc59-1e9e-446b-a2ab-0c97f7676249",
   "metadata": {},
   "outputs": [
    {
     "data": {
      "text/plain": [
       "5"
      ]
     },
     "execution_count": 43,
     "metadata": {},
     "output_type": "execute_result"
    }
   ],
   "source": [
    "# iss 3D array me 2 - 2D array  hai => to pahle ye batao ki kon se 2D array se element find karna hai\n",
    "# find 5\n",
    "a3[1,0,1]  # 1st 2D array , 0th row and 1st column"
   ]
  },
  {
   "cell_type": "code",
   "execution_count": 40,
   "id": "027d2a4a-82c3-4a40-b329-cd0113352276",
   "metadata": {},
   "outputs": [
    {
     "data": {
      "text/plain": [
       "1"
      ]
     },
     "execution_count": 40,
     "metadata": {},
     "output_type": "execute_result"
    }
   ],
   "source": [
    "a3[-2,0,1]"
   ]
  },
  {
   "cell_type": "code",
   "execution_count": 45,
   "id": "4c1cbfa8-fb61-4841-841e-72937d588c0d",
   "metadata": {},
   "outputs": [
    {
     "data": {
      "text/plain": [
       "0"
      ]
     },
     "execution_count": 45,
     "metadata": {},
     "output_type": "execute_result"
    }
   ],
   "source": [
    "# 0\n",
    "a3[0,0,0]"
   ]
  },
  {
   "cell_type": "code",
   "execution_count": 47,
   "id": "4d2b60d2-60ed-4083-b507-287d321caa76",
   "metadata": {},
   "outputs": [
    {
     "data": {
      "text/plain": [
       "6"
      ]
     },
     "execution_count": 47,
     "metadata": {},
     "output_type": "execute_result"
    }
   ],
   "source": [
    "#6\n",
    "a3[1,1,0]"
   ]
  },
  {
   "cell_type": "markdown",
   "id": "3f820952-350a-4371-b7b7-3a5537125399",
   "metadata": {},
   "source": [
    "### Slicing  => ek sath multiple item ko bhi nikal sakte ho"
   ]
  },
  {
   "cell_type": "code",
   "execution_count": 50,
   "id": "43d51026-1bbe-4f73-9254-a939de420af8",
   "metadata": {},
   "outputs": [
    {
     "data": {
      "text/plain": [
       "array([0, 1, 2, 3, 4, 5, 6, 7, 8, 9])"
      ]
     },
     "execution_count": 50,
     "metadata": {},
     "output_type": "execute_result"
    }
   ],
   "source": [
    "a1"
   ]
  },
  {
   "cell_type": "code",
   "execution_count": 52,
   "id": "4e2583df-0df2-482b-ad33-015ce1d61998",
   "metadata": {},
   "outputs": [
    {
     "data": {
      "text/plain": [
       "array([2, 3, 4])"
      ]
     },
     "execution_count": 52,
     "metadata": {},
     "output_type": "execute_result"
    }
   ],
   "source": [
    "# 1D me sab kuch same hai python kee jaisa\n",
    "# find 2,3,4\n",
    "a1[2:5]"
   ]
  },
  {
   "cell_type": "code",
   "execution_count": 54,
   "id": "c70e3622-c710-4c1d-b1fc-ff509791a298",
   "metadata": {},
   "outputs": [
    {
     "data": {
      "text/plain": [
       "array([2, 4])"
      ]
     },
     "execution_count": 54,
     "metadata": {},
     "output_type": "execute_result"
    }
   ],
   "source": [
    "a1[2:5:2]"
   ]
  },
  {
   "cell_type": "code",
   "execution_count": 56,
   "id": "761a8196-5d25-4db5-9f70-fb69aad2352a",
   "metadata": {},
   "outputs": [
    {
     "data": {
      "text/plain": [
       "array([[ 0,  1,  2,  3],\n",
       "       [ 4,  5,  6,  7],\n",
       "       [ 8,  9, 10, 11]])"
      ]
     },
     "execution_count": 56,
     "metadata": {},
     "output_type": "execute_result"
    }
   ],
   "source": [
    "# 2D\n",
    "a2"
   ]
  },
  {
   "cell_type": "code",
   "execution_count": 58,
   "id": "740c2de7-72c2-44e7-b328-b1aa63fa1c1e",
   "metadata": {},
   "outputs": [
    {
     "data": {
      "text/plain": [
       "array([0, 1, 2, 3])"
      ]
     },
     "execution_count": 58,
     "metadata": {},
     "output_type": "execute_result"
    }
   ],
   "source": [
    "# find 1st row\n",
    "a2[0,:]  # kon sa row chahaiye and kon sa column chahaiye to mujhe sare column chahaiye 1st row ka to sirf colon(seperate with column)"
   ]
  },
  {
   "cell_type": "code",
   "execution_count": 62,
   "id": "049ba2eb-861e-405e-9358-a1be56163321",
   "metadata": {},
   "outputs": [
    {
     "data": {
      "text/plain": [
       "array([ 2,  6, 10])"
      ]
     },
     "execution_count": 62,
     "metadata": {},
     "output_type": "execute_result"
    }
   ],
   "source": [
    "# find 2nd column\n",
    "a2[:,2]"
   ]
  },
  {
   "cell_type": "code",
   "execution_count": 64,
   "id": "6f5d42b4-3789-4415-ade9-10322fab1885",
   "metadata": {},
   "outputs": [
    {
     "data": {
      "text/plain": [
       "array([[ 5,  6],\n",
       "       [ 9, 10]])"
      ]
     },
     "execution_count": 64,
     "metadata": {},
     "output_type": "execute_result"
    }
   ],
   "source": [
    "# 5,6,\n",
    "# 9,10\n",
    "a2[1:,1:3] #=> 1st row se suru karo and 1st and 2nd column since last is exclusive so 3rd column print nahi hoga"
   ]
  },
  {
   "cell_type": "code",
   "execution_count": 66,
   "id": "58298d1b-8f9c-4a36-b67c-7ae68c7fefc4",
   "metadata": {},
   "outputs": [
    {
     "data": {
      "text/plain": [
       "array([[ 0,  3],\n",
       "       [ 8, 11]])"
      ]
     },
     "execution_count": 66,
     "metadata": {},
     "output_type": "execute_result"
    }
   ],
   "source": [
    " #0,3\n",
    " #8,11\n",
    "a2[::2,::3]  # comma ke pahla bala batata hai ki kon sa row chahaiye to mujhe sare row chahaiye with 1 alternate and comma ke baad \n",
    "              #bala batata hai ki kon kon sa column chahaiye to sare chahaiye but 2 column alternative"
   ]
  },
  {
   "cell_type": "code",
   "execution_count": 68,
   "id": "29fba1f6-2952-42be-8bb7-f5bb7a744d47",
   "metadata": {},
   "outputs": [
    {
     "data": {
      "text/plain": [
       "array([[ 1,  3],\n",
       "       [ 9, 11]])"
      ]
     },
     "execution_count": 68,
     "metadata": {},
     "output_type": "execute_result"
    }
   ],
   "source": [
    "# 1,3\n",
    "# 9,11\n",
    "a2[::2,1::2]  "
   ]
  },
  {
   "cell_type": "code",
   "execution_count": 72,
   "id": "dc4028a8-4dd8-47a3-b819-18cb09e39463",
   "metadata": {},
   "outputs": [
    {
     "data": {
      "text/plain": [
       "array([4, 7])"
      ]
     },
     "execution_count": 72,
     "metadata": {},
     "output_type": "execute_result"
    }
   ],
   "source": [
    "# 4,7\n",
    "a2[1,::3]"
   ]
  },
  {
   "cell_type": "code",
   "execution_count": 74,
   "id": "ccf0c801-a370-41b1-b6e7-4d6e5bbd81b6",
   "metadata": {},
   "outputs": [
    {
     "data": {
      "text/plain": [
       "array([0, 1, 2, 3])"
      ]
     },
     "execution_count": 74,
     "metadata": {},
     "output_type": "execute_result"
    }
   ],
   "source": [
    "#1,2,3\n",
    "#5,6,7\n",
    "a2[0]"
   ]
  },
  {
   "cell_type": "code",
   "execution_count": 80,
   "id": "31f5e70b-81a2-4b40-8cb4-72d7dd25886d",
   "metadata": {},
   "outputs": [
    {
     "data": {
      "text/plain": [
       "array([[1, 2, 3],\n",
       "       [5, 6, 7]])"
      ]
     },
     "execution_count": 80,
     "metadata": {},
     "output_type": "execute_result"
    }
   ],
   "source": [
    "a2[0:2,1:]"
   ]
  },
  {
   "cell_type": "code",
   "execution_count": 82,
   "id": "90e35c14-9d06-4238-9b21-f613f3f11f30",
   "metadata": {},
   "outputs": [
    {
     "data": {
      "text/plain": [
       "array([[1, 3],\n",
       "       [5, 7]])"
      ]
     },
     "execution_count": 82,
     "metadata": {},
     "output_type": "execute_result"
    }
   ],
   "source": [
    "#1,3\n",
    "#5,7\n",
    "a2[0:2,1::2]"
   ]
  },
  {
   "cell_type": "code",
   "execution_count": 90,
   "id": "9127a94a-cbe7-4bd9-9798-a1e872562c5a",
   "metadata": {},
   "outputs": [
    {
     "data": {
      "text/plain": [
       "array([[[ 0,  1,  2],\n",
       "        [ 3,  4,  5],\n",
       "        [ 6,  7,  8]],\n",
       "\n",
       "       [[ 9, 10, 11],\n",
       "        [12, 13, 14],\n",
       "        [15, 16, 17]],\n",
       "\n",
       "       [[18, 19, 20],\n",
       "        [21, 22, 23],\n",
       "        [24, 25, 26]]])"
      ]
     },
     "execution_count": 90,
     "metadata": {},
     "output_type": "execute_result"
    }
   ],
   "source": [
    "#3D\n",
    "a3=np.arange(27).reshape(3,3,3)\n",
    "a3"
   ]
  },
  {
   "cell_type": "code",
   "execution_count": 93,
   "id": "61ca5881-e4d3-4c9c-a207-1c289e57ed24",
   "metadata": {},
   "outputs": [
    {
     "data": {
      "text/plain": [
       "array([[ 9, 10, 11],\n",
       "       [12, 13, 14],\n",
       "       [15, 16, 17]])"
      ]
     },
     "execution_count": 93,
     "metadata": {},
     "output_type": "execute_result"
    }
   ],
   "source": [
    "# bich bala array find karo\n",
    "a3[1]"
   ]
  },
  {
   "cell_type": "code",
   "execution_count": 95,
   "id": "af998f0b-503b-4c9b-a66f-14bb27d858c3",
   "metadata": {},
   "outputs": [
    {
     "data": {
      "text/plain": [
       "array([[[ 0,  1,  2],\n",
       "        [ 3,  4,  5],\n",
       "        [ 6,  7,  8]],\n",
       "\n",
       "       [[18, 19, 20],\n",
       "        [21, 22, 23],\n",
       "        [24, 25, 26]]])"
      ]
     },
     "execution_count": 95,
     "metadata": {},
     "output_type": "execute_result"
    }
   ],
   "source": [
    "# 1st and last bala chahaiye\n",
    "a3[0::2] #or,a3[::2]"
   ]
  },
  {
   "cell_type": "code",
   "execution_count": 99,
   "id": "5e0999e2-1051-4906-b25e-12009bd35524",
   "metadata": {},
   "outputs": [
    {
     "data": {
      "text/plain": [
       "array([3, 4, 5])"
      ]
     },
     "execution_count": 99,
     "metadata": {},
     "output_type": "execute_result"
    }
   ],
   "source": [
    "#1st 2D array ka 1st indexed row (3,4,5)\n",
    "a3[0,1,:]"
   ]
  },
  {
   "cell_type": "code",
   "execution_count": 101,
   "id": "749cf074-6fa7-41a8-89c9-0687a921a44b",
   "metadata": {},
   "outputs": [
    {
     "data": {
      "text/plain": [
       "array([10, 13, 16])"
      ]
     },
     "execution_count": 101,
     "metadata": {},
     "output_type": "execute_result"
    }
   ],
   "source": [
    "#2nd bala array ka 2nd column(10,13,16)\n",
    "a3[1,:,1]"
   ]
  },
  {
   "cell_type": "code",
   "execution_count": 103,
   "id": "457c0fdc-c234-4909-a383-33fd221417ef",
   "metadata": {},
   "outputs": [
    {
     "data": {
      "text/plain": [
       "array([[22, 23],\n",
       "       [25, 26]])"
      ]
     },
     "execution_count": 103,
     "metadata": {},
     "output_type": "execute_result"
    }
   ],
   "source": [
    "#22,23\n",
    "#25,26\n",
    "a3[2,1:3,1:3]"
   ]
  },
  {
   "cell_type": "code",
   "execution_count": 115,
   "id": "056b3229-fb90-424d-b0b1-5edf86a2315d",
   "metadata": {},
   "outputs": [
    {
     "data": {
      "text/plain": [
       "array([[ 0,  2],\n",
       "       [18, 20]])"
      ]
     },
     "execution_count": 115,
     "metadata": {},
     "output_type": "execute_result"
    }
   ],
   "source": [
    "#0,2\n",
    "#18,20\n",
    "a3[::2,0,::2]"
   ]
  },
  {
   "cell_type": "code",
   "execution_count": null,
   "id": "2a6d5e0a-7492-4e6e-a7cb-c9379b2a7bc2",
   "metadata": {},
   "outputs": [],
   "source": []
  },
  {
   "cell_type": "code",
   "execution_count": 2,
   "id": "f858dc94-0bba-4a95-87bd-85cc41244916",
   "metadata": {},
   "outputs": [],
   "source": [
    "import numpy as np"
   ]
  },
  {
   "cell_type": "code",
   "execution_count": 5,
   "id": "978e11c3-c8f6-4c0a-963c-7c85f826f589",
   "metadata": {},
   "outputs": [
    {
     "data": {
      "text/plain": [
       "array([[0, 1, 2],\n",
       "       [3, 4, 5],\n",
       "       [6, 7, 8]])"
      ]
     },
     "execution_count": 5,
     "metadata": {},
     "output_type": "execute_result"
    }
   ],
   "source": [
    "a=np.arange(9).reshape(3,3)\n",
    "a"
   ]
  },
  {
   "cell_type": "code",
   "execution_count": 7,
   "id": "12dbddf2-7e11-45a5-a9fa-99bd41161a46",
   "metadata": {},
   "outputs": [
    {
     "data": {
      "text/plain": [
       "array([[0, 3, 6],\n",
       "       [1, 4, 7],\n",
       "       [2, 5, 8]])"
      ]
     },
     "execution_count": 7,
     "metadata": {},
     "output_type": "execute_result"
    }
   ],
   "source": [
    "np.transpose(a)"
   ]
  },
  {
   "cell_type": "code",
   "execution_count": 6,
   "id": "c50ae91f-dbb5-45a9-9544-a9035fc5afdb",
   "metadata": {},
   "outputs": [
    {
     "data": {
      "text/plain": [
       "matrix([[1, 2, 3],\n",
       "        [4, 5, 6],\n",
       "        [7, 8, 9]])"
      ]
     },
     "execution_count": 6,
     "metadata": {},
     "output_type": "execute_result"
    }
   ],
   "source": [
    "np.matrix([[1,2,3],[4,5,6],[7,8,9]])"
   ]
  },
  {
   "cell_type": "code",
   "execution_count": 4,
   "id": "d0aeba8a-645e-4a5e-9619-7f59e25c5d4f",
   "metadata": {},
   "outputs": [
    {
     "data": {
      "text/plain": [
       "matrix([[1, 2, 3]])"
      ]
     },
     "execution_count": 4,
     "metadata": {},
     "output_type": "execute_result"
    }
   ],
   "source": [
    "a=np.matrix([1,2,3])\n",
    "a"
   ]
  },
  {
   "cell_type": "markdown",
   "id": "0be5fd66-0bca-4c34-9390-474186b81d47",
   "metadata": {},
   "source": [
    "# Iterating   \n",
    "- simply hum Numpy array pe loop chala sakte hain"
   ]
  },
  {
   "cell_type": "code",
   "execution_count": 119,
   "id": "cb8c6083-5bf3-416e-803d-83c578c972e0",
   "metadata": {},
   "outputs": [
    {
     "data": {
      "text/plain": [
       "array([0, 1, 2, 3, 4, 5, 6, 7, 8, 9])"
      ]
     },
     "execution_count": 119,
     "metadata": {},
     "output_type": "execute_result"
    }
   ],
   "source": [
    "a1"
   ]
  },
  {
   "cell_type": "code",
   "execution_count": 125,
   "id": "b0d849fc-6597-45b3-b3ae-3163037fa8fb",
   "metadata": {},
   "outputs": [
    {
     "name": "stdout",
     "output_type": "stream",
     "text": [
      "0\n",
      "1\n",
      "2\n",
      "3\n",
      "4\n",
      "5\n",
      "6\n",
      "7\n",
      "8\n",
      "9\n"
     ]
    }
   ],
   "source": [
    "for i in a1:\n",
    "    print(i)"
   ]
  },
  {
   "cell_type": "code",
   "execution_count": 121,
   "id": "12164a35-bd23-480f-b9b7-2c71be6881b9",
   "metadata": {},
   "outputs": [
    {
     "data": {
      "text/plain": [
       "array([[ 0,  1,  2,  3],\n",
       "       [ 4,  5,  6,  7],\n",
       "       [ 8,  9, 10, 11]])"
      ]
     },
     "execution_count": 121,
     "metadata": {},
     "output_type": "execute_result"
    }
   ],
   "source": [
    "a2"
   ]
  },
  {
   "cell_type": "code",
   "execution_count": 128,
   "id": "590a17df-9144-4538-aa8a-abac14b90453",
   "metadata": {},
   "outputs": [
    {
     "name": "stdout",
     "output_type": "stream",
     "text": [
      "[0 1 2 3]\n",
      "[4 5 6 7]\n",
      "[ 8  9 10 11]\n"
     ]
    }
   ],
   "source": [
    "for i in a2:\n",
    "    print(i)  # ek iteration me ek complete row print hota hai so in this code total iteration is 3"
   ]
  },
  {
   "cell_type": "code",
   "execution_count": 130,
   "id": "0bdf3960-7be1-469a-8bd6-9d486bdccc0e",
   "metadata": {},
   "outputs": [
    {
     "name": "stdout",
     "output_type": "stream",
     "text": [
      "[0 1 2 3]\n",
      "\n",
      "[4 5 6 7]\n",
      "\n",
      "[ 8  9 10 11]\n",
      "\n"
     ]
    }
   ],
   "source": [
    "for i in a2:\n",
    "    print(i)\n",
    "    print()"
   ]
  },
  {
   "cell_type": "code",
   "execution_count": 138,
   "id": "790426d8-c146-48b6-a66a-337e0ab9318a",
   "metadata": {},
   "outputs": [
    {
     "name": "stdout",
     "output_type": "stream",
     "text": [
      "0\n",
      "1\n",
      "2\n",
      "3\n",
      "4\n",
      "5\n",
      "6\n",
      "7\n",
      "8\n",
      "9\n",
      "10\n",
      "11\n"
     ]
    }
   ],
   "source": [
    "# yadi har element ko seperately print karana hai to\n",
    "# nditer  => inbult function ka help lena hoga\n",
    "for i in np.nditer(a2):\n",
    "    print(i)"
   ]
  },
  {
   "cell_type": "code",
   "execution_count": 123,
   "id": "a4838e16-204e-494a-b812-16641565fb03",
   "metadata": {},
   "outputs": [
    {
     "data": {
      "text/plain": [
       "array([[[ 0,  1,  2],\n",
       "        [ 3,  4,  5],\n",
       "        [ 6,  7,  8]],\n",
       "\n",
       "       [[ 9, 10, 11],\n",
       "        [12, 13, 14],\n",
       "        [15, 16, 17]],\n",
       "\n",
       "       [[18, 19, 20],\n",
       "        [21, 22, 23],\n",
       "        [24, 25, 26]]])"
      ]
     },
     "execution_count": 123,
     "metadata": {},
     "output_type": "execute_result"
    }
   ],
   "source": [
    "a3"
   ]
  },
  {
   "cell_type": "code",
   "execution_count": 132,
   "id": "0f5a183b-0a34-45c5-8a0e-e3d3fe51546b",
   "metadata": {},
   "outputs": [
    {
     "name": "stdout",
     "output_type": "stream",
     "text": [
      "[[0 1 2]\n",
      " [3 4 5]\n",
      " [6 7 8]]\n",
      "[[ 9 10 11]\n",
      " [12 13 14]\n",
      " [15 16 17]]\n",
      "[[18 19 20]\n",
      " [21 22 23]\n",
      " [24 25 26]]\n"
     ]
    }
   ],
   "source": [
    "for i in a3:\n",
    "    print(i)  # har iteration me ek 2D array print hota hai"
   ]
  },
  {
   "cell_type": "code",
   "execution_count": 134,
   "id": "73369168-6969-4d17-95b0-206073343c29",
   "metadata": {},
   "outputs": [
    {
     "name": "stdout",
     "output_type": "stream",
     "text": [
      "[[0 1 2]\n",
      " [3 4 5]\n",
      " [6 7 8]]\n",
      "\n",
      "[[ 9 10 11]\n",
      " [12 13 14]\n",
      " [15 16 17]]\n",
      "\n",
      "[[18 19 20]\n",
      " [21 22 23]\n",
      " [24 25 26]]\n",
      "\n"
     ]
    }
   ],
   "source": [
    "for i in a3:\n",
    "    print(i)\n",
    "    print()"
   ]
  },
  {
   "cell_type": "code",
   "execution_count": 136,
   "id": "3b33aa4e-3b95-4a67-bc14-d04be5f95975",
   "metadata": {},
   "outputs": [
    {
     "name": "stdout",
     "output_type": "stream",
     "text": [
      "0\n",
      "1\n",
      "2\n",
      "3\n",
      "4\n",
      "5\n",
      "6\n",
      "7\n",
      "8\n",
      "9\n",
      "10\n",
      "11\n",
      "12\n",
      "13\n",
      "14\n",
      "15\n",
      "16\n",
      "17\n",
      "18\n",
      "19\n",
      "20\n",
      "21\n",
      "22\n",
      "23\n",
      "24\n",
      "25\n",
      "26\n"
     ]
    }
   ],
   "source": [
    "# yadi har element ko seperately print karana hai to\n",
    "# nditer  => inbult function ka help lene hoga\n",
    "for i in np.nditer(a3):\n",
    "    print(i)\n"
   ]
  },
  {
   "cell_type": "code",
   "execution_count": null,
   "id": "ed22f625-5a25-478f-8bc8-793daf3eb394",
   "metadata": {},
   "outputs": [],
   "source": []
  },
  {
   "cell_type": "markdown",
   "id": "01a7c2a6-0e34-41c2-ae8c-abc84a99ac3b",
   "metadata": {},
   "source": [
    "# reshaping"
   ]
  },
  {
   "cell_type": "code",
   "execution_count": 142,
   "id": "dab5fcc3-c33e-47ea-94fa-f498ea6c0f29",
   "metadata": {},
   "outputs": [],
   "source": [
    "# reshape => Already done"
   ]
  },
  {
   "cell_type": "code",
   "execution_count": 144,
   "id": "50b09e19-c10a-45db-a32e-f33f88bfa1ea",
   "metadata": {},
   "outputs": [
    {
     "data": {
      "text/plain": [
       "array([[ 0,  1,  2,  3],\n",
       "       [ 4,  5,  6,  7],\n",
       "       [ 8,  9, 10, 11]])"
      ]
     },
     "execution_count": 144,
     "metadata": {},
     "output_type": "execute_result"
    }
   ],
   "source": [
    "# Transpose => simply jaise matrix me kaam karta hai\n",
    "a2"
   ]
  },
  {
   "cell_type": "code",
   "execution_count": 146,
   "id": "337952b2-7f9f-4904-9907-0988bb0183aa",
   "metadata": {},
   "outputs": [
    {
     "data": {
      "text/plain": [
       "array([[ 0,  4,  8],\n",
       "       [ 1,  5,  9],\n",
       "       [ 2,  6, 10],\n",
       "       [ 3,  7, 11]])"
      ]
     },
     "execution_count": 146,
     "metadata": {},
     "output_type": "execute_result"
    }
   ],
   "source": [
    "np.transpose(a2)"
   ]
  },
  {
   "cell_type": "code",
   "execution_count": 148,
   "id": "3c044b8d-06a7-40f9-b615-97799cb793a6",
   "metadata": {},
   "outputs": [
    {
     "data": {
      "text/plain": [
       "array([[ 0,  4,  8],\n",
       "       [ 1,  5,  9],\n",
       "       [ 2,  6, 10],\n",
       "       [ 3,  7, 11]])"
      ]
     },
     "execution_count": 148,
     "metadata": {},
     "output_type": "execute_result"
    }
   ],
   "source": [
    "# another syntax for transpose\n",
    "a2.T"
   ]
  },
  {
   "cell_type": "code",
   "execution_count": 150,
   "id": "168cdd1a-70f9-442a-a0ec-cf8cfc2aad80",
   "metadata": {},
   "outputs": [
    {
     "data": {
      "text/plain": [
       "array([[ 0,  1,  2,  3],\n",
       "       [ 4,  5,  6,  7],\n",
       "       [ 8,  9, 10, 11]])"
      ]
     },
     "execution_count": 150,
     "metadata": {},
     "output_type": "execute_result"
    }
   ],
   "source": [
    "# ravel => kitne bhi dimension ke array ko 1D me convert kar deta hai\n",
    "a2"
   ]
  },
  {
   "cell_type": "code",
   "execution_count": 152,
   "id": "e0c89ddc-3429-4527-ac6b-568ca935cdf4",
   "metadata": {},
   "outputs": [
    {
     "data": {
      "text/plain": [
       "array([ 0,  1,  2,  3,  4,  5,  6,  7,  8,  9, 10, 11])"
      ]
     },
     "execution_count": 152,
     "metadata": {},
     "output_type": "execute_result"
    }
   ],
   "source": [
    "a2.ravel()"
   ]
  },
  {
   "cell_type": "code",
   "execution_count": 154,
   "id": "b44c4a56-25b8-48d3-a204-6cc29fa6f36b",
   "metadata": {},
   "outputs": [
    {
     "data": {
      "text/plain": [
       "array([[[ 0,  1,  2],\n",
       "        [ 3,  4,  5],\n",
       "        [ 6,  7,  8]],\n",
       "\n",
       "       [[ 9, 10, 11],\n",
       "        [12, 13, 14],\n",
       "        [15, 16, 17]],\n",
       "\n",
       "       [[18, 19, 20],\n",
       "        [21, 22, 23],\n",
       "        [24, 25, 26]]])"
      ]
     },
     "execution_count": 154,
     "metadata": {},
     "output_type": "execute_result"
    }
   ],
   "source": [
    "a3"
   ]
  },
  {
   "cell_type": "code",
   "execution_count": 156,
   "id": "81ed41c7-d879-4d53-83aa-3156984ad837",
   "metadata": {},
   "outputs": [
    {
     "data": {
      "text/plain": [
       "array([ 0,  1,  2,  3,  4,  5,  6,  7,  8,  9, 10, 11, 12, 13, 14, 15, 16,\n",
       "       17, 18, 19, 20, 21, 22, 23, 24, 25, 26])"
      ]
     },
     "execution_count": 156,
     "metadata": {},
     "output_type": "execute_result"
    }
   ],
   "source": [
    "a3.ravel()"
   ]
  },
  {
   "cell_type": "code",
   "execution_count": null,
   "id": "35ecbb04-5808-4680-87cf-13fd60fe9719",
   "metadata": {},
   "outputs": [],
   "source": []
  },
  {
   "cell_type": "code",
   "execution_count": 159,
   "id": "883f2df7-f76a-4a61-805c-d8c37bc908f9",
   "metadata": {},
   "outputs": [],
   "source": [
    "# ye saare temporary changes ho raha hai"
   ]
  },
  {
   "cell_type": "markdown",
   "id": "915369c4-52d0-4eb8-bb33-b5986126065b",
   "metadata": {},
   "source": [
    "### Stacking\n",
    "- simply multiple array ko ek dusre ke sath chipka sakte hain\n",
    "- jab multiple jagah se data aata hai and usse analyse karna ho to Stacking ka use karte hain"
   ]
  },
  {
   "cell_type": "code",
   "execution_count": 163,
   "id": "70d0c9fa-027f-4e6c-9d90-33ee1a104bb7",
   "metadata": {},
   "outputs": [
    {
     "data": {
      "text/plain": [
       "array([[ 0,  1,  2,  3],\n",
       "       [ 4,  5,  6,  7],\n",
       "       [ 8,  9, 10, 11]])"
      ]
     },
     "execution_count": 163,
     "metadata": {},
     "output_type": "execute_result"
    }
   ],
   "source": [
    "\n",
    "a4=np.arange(12).reshape(3,4)\n",
    "a5=np.arange(12,24).reshape(3,4)\n",
    "a4"
   ]
  },
  {
   "cell_type": "code",
   "execution_count": 165,
   "id": "56ececc4-a5d0-443a-aa03-a111d2c60f46",
   "metadata": {},
   "outputs": [
    {
     "data": {
      "text/plain": [
       "array([[12, 13, 14, 15],\n",
       "       [16, 17, 18, 19],\n",
       "       [20, 21, 22, 23]])"
      ]
     },
     "execution_count": 165,
     "metadata": {},
     "output_type": "execute_result"
    }
   ],
   "source": [
    "a5"
   ]
  },
  {
   "cell_type": "code",
   "execution_count": null,
   "id": "d04511bd-12c6-478a-8c37-1ca3bb01b989",
   "metadata": {},
   "outputs": [],
   "source": []
  },
  {
   "cell_type": "code",
   "execution_count": 167,
   "id": "f26d551e-6d30-4c76-b95a-b217cec228ee",
   "metadata": {},
   "outputs": [
    {
     "data": {
      "text/plain": [
       "array([[ 0,  1,  2,  3, 12, 13, 14, 15],\n",
       "       [ 4,  5,  6,  7, 16, 17, 18, 19],\n",
       "       [ 8,  9, 10, 11, 20, 21, 22, 23]])"
      ]
     },
     "execution_count": 167,
     "metadata": {},
     "output_type": "execute_result"
    }
   ],
   "source": [
    "# horizontal stacking  => shape same hona jaruri hai\n",
    "np.hstack((a4,a5))  # andar me tuples ke form me array ko pass karte hain"
   ]
  },
  {
   "cell_type": "code",
   "execution_count": 171,
   "id": "c26c0869-481b-49fa-81ce-5bcd4add863a",
   "metadata": {},
   "outputs": [
    {
     "data": {
      "text/plain": [
       "array([[ 0,  1,  2,  3, 12, 13, 14, 15,  0,  1,  2,  3],\n",
       "       [ 4,  5,  6,  7, 16, 17, 18, 19,  4,  5,  6,  7],\n",
       "       [ 8,  9, 10, 11, 20, 21, 22, 23,  8,  9, 10, 11]])"
      ]
     },
     "execution_count": 171,
     "metadata": {},
     "output_type": "execute_result"
    }
   ],
   "source": [
    "np.hstack((a4,a5,a4))"
   ]
  },
  {
   "cell_type": "code",
   "execution_count": 169,
   "id": "74352c13-1586-4aa5-89b3-57dabbeb4bcf",
   "metadata": {},
   "outputs": [
    {
     "data": {
      "text/plain": [
       "array([[ 0,  1,  2,  3],\n",
       "       [ 4,  5,  6,  7],\n",
       "       [ 8,  9, 10, 11],\n",
       "       [12, 13, 14, 15],\n",
       "       [16, 17, 18, 19],\n",
       "       [20, 21, 22, 23]])"
      ]
     },
     "execution_count": 169,
     "metadata": {},
     "output_type": "execute_result"
    }
   ],
   "source": [
    "# vertical Stacking\n",
    "np.vstack((a4,a5))"
   ]
  },
  {
   "cell_type": "code",
   "execution_count": null,
   "id": "0cff7e9b-2859-415d-9f48-e8e1290d323a",
   "metadata": {},
   "outputs": [],
   "source": []
  },
  {
   "cell_type": "markdown",
   "id": "5705bcff-a249-4c8e-95a8-afe775d31528",
   "metadata": {},
   "source": [
    "# Splitting\n",
    "- array ko kaat deta hai and agar  | => kaat raha hai to horizontal spliting and if -- => kaat raha hai to vertical split confuse nahi hona hai\n",
    "- jab kabhi ek data set se multiple data set create karna ho to iska use karte hain"
   ]
  },
  {
   "cell_type": "code",
   "execution_count": 177,
   "id": "aa4782d1-8daf-43bf-add7-217761f6fd75",
   "metadata": {},
   "outputs": [
    {
     "data": {
      "text/plain": [
       "array([[ 0,  1,  2,  3],\n",
       "       [ 4,  5,  6,  7],\n",
       "       [ 8,  9, 10, 11]])"
      ]
     },
     "execution_count": 177,
     "metadata": {},
     "output_type": "execute_result"
    }
   ],
   "source": [
    "# horizontal Spliting \n",
    "a4"
   ]
  },
  {
   "cell_type": "code",
   "execution_count": 181,
   "id": "0f29f698-5cc8-406e-8cff-3110a1fa9c58",
   "metadata": {},
   "outputs": [
    {
     "data": {
      "text/plain": [
       "[array([[0, 1],\n",
       "        [4, 5],\n",
       "        [8, 9]]),\n",
       " array([[ 2,  3],\n",
       "        [ 6,  7],\n",
       "        [10, 11]])]"
      ]
     },
     "execution_count": 181,
     "metadata": {},
     "output_type": "execute_result"
    }
   ],
   "source": [
    "# a4 ko horizontaly 2- parts me split karna hai\n",
    "np.hsplit(a4,2)  # parameter => 1st - ki kon se array ko split karna hai &&&& 2nd - ki kitna part me katna hai"
   ]
  },
  {
   "cell_type": "code",
   "execution_count": 187,
   "id": "6c028c17-f292-4e8a-8a37-d2026deeb27a",
   "metadata": {},
   "outputs": [
    {
     "ename": "ValueError",
     "evalue": "array split does not result in an equal division",
     "output_type": "error",
     "traceback": [
      "\u001b[1;31m---------------------------------------------------------------------------\u001b[0m",
      "\u001b[1;31mValueError\u001b[0m                                Traceback (most recent call last)",
      "Cell \u001b[1;32mIn[187], line 1\u001b[0m\n\u001b[1;32m----> 1\u001b[0m np\u001b[38;5;241m.\u001b[39mhsplit(a4,\u001b[38;5;241m3\u001b[39m)\n",
      "File \u001b[1;32m~\\anaconda3\\Lib\\site-packages\\numpy\\lib\\shape_base.py:938\u001b[0m, in \u001b[0;36mhsplit\u001b[1;34m(ary, indices_or_sections)\u001b[0m\n\u001b[0;32m    936\u001b[0m     \u001b[38;5;28;01mraise\u001b[39;00m \u001b[38;5;167;01mValueError\u001b[39;00m(\u001b[38;5;124m'\u001b[39m\u001b[38;5;124mhsplit only works on arrays of 1 or more dimensions\u001b[39m\u001b[38;5;124m'\u001b[39m)\n\u001b[0;32m    937\u001b[0m \u001b[38;5;28;01mif\u001b[39;00m ary\u001b[38;5;241m.\u001b[39mndim \u001b[38;5;241m>\u001b[39m \u001b[38;5;241m1\u001b[39m:\n\u001b[1;32m--> 938\u001b[0m     \u001b[38;5;28;01mreturn\u001b[39;00m split(ary, indices_or_sections, \u001b[38;5;241m1\u001b[39m)\n\u001b[0;32m    939\u001b[0m \u001b[38;5;28;01melse\u001b[39;00m:\n\u001b[0;32m    940\u001b[0m     \u001b[38;5;28;01mreturn\u001b[39;00m split(ary, indices_or_sections, \u001b[38;5;241m0\u001b[39m)\n",
      "File \u001b[1;32m~\\anaconda3\\Lib\\site-packages\\numpy\\lib\\shape_base.py:864\u001b[0m, in \u001b[0;36msplit\u001b[1;34m(ary, indices_or_sections, axis)\u001b[0m\n\u001b[0;32m    862\u001b[0m     N \u001b[38;5;241m=\u001b[39m ary\u001b[38;5;241m.\u001b[39mshape[axis]\n\u001b[0;32m    863\u001b[0m     \u001b[38;5;28;01mif\u001b[39;00m N \u001b[38;5;241m%\u001b[39m sections:\n\u001b[1;32m--> 864\u001b[0m         \u001b[38;5;28;01mraise\u001b[39;00m \u001b[38;5;167;01mValueError\u001b[39;00m(\n\u001b[0;32m    865\u001b[0m             \u001b[38;5;124m'\u001b[39m\u001b[38;5;124marray split does not result in an equal division\u001b[39m\u001b[38;5;124m'\u001b[39m) \u001b[38;5;28;01mfrom\u001b[39;00m \u001b[38;5;28;01mNone\u001b[39;00m\n\u001b[0;32m    866\u001b[0m \u001b[38;5;28;01mreturn\u001b[39;00m array_split(ary, indices_or_sections, axis)\n",
      "\u001b[1;31mValueError\u001b[0m: array split does not result in an equal division"
     ]
    }
   ],
   "source": [
    "np.hsplit(a4,3) # error qki 3 equal part me split ho hi nahi sakta hai"
   ]
  },
  {
   "cell_type": "code",
   "execution_count": 189,
   "id": "6d41f87e-a244-4fb0-bfa1-c6739fcdf5ff",
   "metadata": {},
   "outputs": [
    {
     "data": {
      "text/plain": [
       "array([[12, 13, 14, 15],\n",
       "       [16, 17, 18, 19],\n",
       "       [20, 21, 22, 23]])"
      ]
     },
     "execution_count": 189,
     "metadata": {},
     "output_type": "execute_result"
    }
   ],
   "source": [
    "# vertical split\n",
    "a5"
   ]
  },
  {
   "cell_type": "code",
   "execution_count": 20,
   "id": "4b886cfb-d267-42a5-b669-e4e802e4bcd4",
   "metadata": {},
   "outputs": [
    {
     "data": {
      "text/plain": [
       "[array([[12, 13, 14, 15]]),\n",
       " array([[16, 17, 18, 19]]),\n",
       " array([[20, 21, 22, 23]])]"
      ]
     },
     "execution_count": 20,
     "metadata": {},
     "output_type": "execute_result"
    }
   ],
   "source": [
    "np.vsplit(a5,3)"
   ]
  },
  {
   "cell_type": "code",
   "execution_count": null,
   "id": "3aceee53-b8a1-4aaa-81d6-fc2fd4a2132b",
   "metadata": {},
   "outputs": [],
   "source": []
  }
 ],
 "metadata": {
  "kernelspec": {
   "display_name": "Python [conda env:base] *",
   "language": "python",
   "name": "conda-base-py"
  },
  "language_info": {
   "codemirror_mode": {
    "name": "ipython",
    "version": 3
   },
   "file_extension": ".py",
   "mimetype": "text/x-python",
   "name": "python",
   "nbconvert_exporter": "python",
   "pygments_lexer": "ipython3",
   "version": "3.12.7"
  }
 },
 "nbformat": 4,
 "nbformat_minor": 5
}
