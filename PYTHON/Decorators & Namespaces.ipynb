{
 "cells": [
  {
   "cell_type": "markdown",
   "id": "f4744b4e-866a-4534-a1c1-7170fea7197b",
   "metadata": {},
   "source": [
    "### Namespaces\n",
    "\n",
    "A namespace is a space that holds names(identifiers).Programmatically speaking, namespaces are dictionary of identifiers(keys) and their objects(values)\n",
    "\n",
    "There are 4 types of namespaces:\n",
    "- Builtin Namespace\n",
    "- Global Namespace\n",
    "- Enclosing Namespace\n",
    "- Local Namespace"
   ]
  },
  {
   "cell_type": "markdown",
   "id": "538bda02-9093-4e97-a7b5-ce4dd355797d",
   "metadata": {},
   "source": [
    "### Scope and LEGB Rule\n",
    "- LEBB => Local,Enclosing,Global,Builtin\n",
    "\n",
    "A scope is a textual region of a Python program where a namespace is directly accessible.\n",
    "\n",
    "The interpreter searches for a name from the inside out, looking in the local, enclosing, global, and finally the built-in scope. If the interpreter doesn’t find the name in any of these locations, then Python raises a NameError exception."
   ]
  },
  {
   "cell_type": "code",
   "execution_count": 7,
   "id": "ac0e00dd-aee9-453e-a070-d618924a74cf",
   "metadata": {},
   "outputs": [
    {
     "name": "stdout",
     "output_type": "stream",
     "text": [
      "3\n",
      "2\n"
     ]
    },
    {
     "ename": "NameError",
     "evalue": "name 'b' is not defined",
     "output_type": "error",
     "traceback": [
      "\u001b[1;31m---------------------------------------------------------------------------\u001b[0m",
      "\u001b[1;31mNameError\u001b[0m                                 Traceback (most recent call last)",
      "Cell \u001b[1;32mIn[7], line 9\u001b[0m\n\u001b[0;32m      7\u001b[0m temp()\n\u001b[0;32m      8\u001b[0m \u001b[38;5;28mprint\u001b[39m(a)\n\u001b[1;32m----> 9\u001b[0m \u001b[38;5;28mprint\u001b[39m(\u001b[43mb\u001b[49m)\n",
      "\u001b[1;31mNameError\u001b[0m: name 'b' is not defined"
     ]
    }
   ],
   "source": [
    "# local and global\n",
    "a=2\n",
    "def temp():\n",
    "    b=3\n",
    "    print(b)\n",
    "\n",
    "temp()\n",
    "print(a)\n",
    "print(b)"
   ]
  },
  {
   "cell_type": "code",
   "execution_count": 9,
   "id": "5c4f64e8-cd82-4f0e-bee5-8f20f95cc7bf",
   "metadata": {},
   "outputs": [
    {
     "name": "stdout",
     "output_type": "stream",
     "text": [
      "3\n",
      "2\n"
     ]
    }
   ],
   "source": [
    "# local and global -> same name\n",
    "a=2\n",
    "def temp():\n",
    "    a=3\n",
    "    print(a)\n",
    "\n",
    "temp()\n",
    "print(a)"
   ]
  },
  {
   "cell_type": "code",
   "execution_count": null,
   "id": "e322318b-f82d-4be4-883d-2cd8773c9087",
   "metadata": {},
   "outputs": [],
   "source": []
  },
  {
   "cell_type": "code",
   "execution_count": 18,
   "id": "2a116048-776e-4b3b-8b6e-1d0cc97ab0d4",
   "metadata": {},
   "outputs": [
    {
     "name": "stdout",
     "output_type": "stream",
     "text": [
      "2\n",
      "2\n"
     ]
    }
   ],
   "source": [
    "# local and global -> local does not have but global has\n",
    "# agar local me nahi hai to wo global ko print kara dega but vice versa is not true\n",
    "a=2\n",
    "def temp():\n",
    "    \n",
    "    print(a)\n",
    "\n",
    "temp()\n",
    "print(a)"
   ]
  },
  {
   "cell_type": "code",
   "execution_count": 20,
   "id": "f6b38904-7903-4d2a-beae-6e9360ec6a71",
   "metadata": {},
   "outputs": [
    {
     "name": "stdout",
     "output_type": "stream",
     "text": [
      "5\n"
     ]
    },
    {
     "ename": "NameError",
     "evalue": "name 'b' is not defined",
     "output_type": "error",
     "traceback": [
      "\u001b[1;31m---------------------------------------------------------------------------\u001b[0m",
      "\u001b[1;31mNameError\u001b[0m                                 Traceback (most recent call last)",
      "Cell \u001b[1;32mIn[20], line 7\u001b[0m\n\u001b[0;32m      4\u001b[0m     \u001b[38;5;28mprint\u001b[39m(b)\n\u001b[0;32m      6\u001b[0m temp()\n\u001b[1;32m----> 7\u001b[0m \u001b[38;5;28mprint\u001b[39m(\u001b[43mb\u001b[49m)\n",
      "\u001b[1;31mNameError\u001b[0m: name 'b' is not defined"
     ]
    }
   ],
   "source": [
    "a=2\n",
    "def temp():\n",
    "    b=5\n",
    "    print(b)\n",
    "\n",
    "temp()\n",
    "print(b)"
   ]
  },
  {
   "cell_type": "code",
   "execution_count": 22,
   "id": "b1ba0fec-fb9e-4543-af99-677449f2597f",
   "metadata": {},
   "outputs": [
    {
     "ename": "UnboundLocalError",
     "evalue": "cannot access local variable 'a' where it is not associated with a value",
     "output_type": "error",
     "traceback": [
      "\u001b[1;31m---------------------------------------------------------------------------\u001b[0m",
      "\u001b[1;31mUnboundLocalError\u001b[0m                         Traceback (most recent call last)",
      "Cell \u001b[1;32mIn[22], line 7\u001b[0m\n\u001b[0;32m      4\u001b[0m     a\u001b[38;5;241m+\u001b[39m\u001b[38;5;241m=\u001b[39m\u001b[38;5;241m3\u001b[39m\n\u001b[0;32m      5\u001b[0m     \u001b[38;5;28mprint\u001b[39m(a)\n\u001b[1;32m----> 7\u001b[0m \u001b[43mtemp\u001b[49m\u001b[43m(\u001b[49m\u001b[43m)\u001b[49m\n\u001b[0;32m      8\u001b[0m \u001b[38;5;28mprint\u001b[39m(a)\n",
      "Cell \u001b[1;32mIn[22], line 4\u001b[0m, in \u001b[0;36mtemp\u001b[1;34m()\u001b[0m\n\u001b[0;32m      3\u001b[0m \u001b[38;5;28;01mdef\u001b[39;00m \u001b[38;5;21mtemp\u001b[39m():\n\u001b[1;32m----> 4\u001b[0m     \u001b[43ma\u001b[49m\u001b[38;5;241m+\u001b[39m\u001b[38;5;241m=\u001b[39m\u001b[38;5;241m3\u001b[39m\n\u001b[0;32m      5\u001b[0m     \u001b[38;5;28mprint\u001b[39m(a)\n",
      "\u001b[1;31mUnboundLocalError\u001b[0m: cannot access local variable 'a' where it is not associated with a value"
     ]
    }
   ],
   "source": [
    "# # local and global ->editing global\n",
    "a=2\n",
    "def temp():\n",
    "    a+=3                 # a global hai to hum usme localy update nahi kar sakte hain\n",
    "    print(a)\n",
    "\n",
    "temp()\n",
    "print(a)"
   ]
  },
  {
   "cell_type": "code",
   "execution_count": 28,
   "id": "66533cb3-9ea0-43f6-9477-bee238c890f3",
   "metadata": {},
   "outputs": [
    {
     "name": "stdout",
     "output_type": "stream",
     "text": [
      "5\n",
      "5\n"
     ]
    }
   ],
   "source": [
    "a=2\n",
    "def temp():\n",
    "    \n",
    "    global a   # abb yaha bata rahe hain ki global bale a me jake change karo to ye change ho jayega(ye basically nahi karna chahaiye)\n",
    "    a+=3\n",
    "    print(a)\n",
    "\n",
    "temp()\n",
    "print(a)"
   ]
  },
  {
   "cell_type": "code",
   "execution_count": 30,
   "id": "8581b94a-754e-4e67-acf7-51a410224f82",
   "metadata": {},
   "outputs": [
    {
     "name": "stdout",
     "output_type": "stream",
     "text": [
      "1\n",
      "1\n"
     ]
    }
   ],
   "source": [
    "# local and global -> global created inside local\n",
    "\n",
    "def temp():\n",
    "    \n",
    "    global a   \n",
    "    a=1       # humne globaly koi a name ka variable banaya hi nahi but hum glabal likh ke local ke andar ek variable bana rahe hai to \n",
    "    print(a)   #  wo variable local hoga ya global\n",
    "\n",
    "temp()\n",
    "print(a)\n",
    "\n",
    "# ye global variable banta hai "
   ]
  },
  {
   "cell_type": "code",
   "execution_count": 32,
   "id": "0871c59e-5644-4db7-a488-f7e129eada76",
   "metadata": {},
   "outputs": [
    {
     "name": "stdout",
     "output_type": "stream",
     "text": [
      "5\n",
      "5\n"
     ]
    },
    {
     "ename": "NameError",
     "evalue": "name 'z' is not defined",
     "output_type": "error",
     "traceback": [
      "\u001b[1;31m---------------------------------------------------------------------------\u001b[0m",
      "\u001b[1;31mNameError\u001b[0m                                 Traceback (most recent call last)",
      "Cell \u001b[1;32mIn[32], line 9\u001b[0m\n\u001b[0;32m      7\u001b[0m temp(a)\n\u001b[0;32m      8\u001b[0m \u001b[38;5;28mprint\u001b[39m(a)\n\u001b[1;32m----> 9\u001b[0m \u001b[38;5;28mprint\u001b[39m(\u001b[43mz\u001b[49m) \u001b[38;5;66;03m# ye z ko access nahi kar payega qki z local variable hai\u001b[39;00m\n",
      "\u001b[1;31mNameError\u001b[0m: name 'z' is not defined"
     ]
    }
   ],
   "source": [
    "# local and global -> function parameter is local\n",
    "def temp(z):\n",
    "    #local var\n",
    "    print(z)\n",
    "\n",
    "a=5\n",
    "temp(a)\n",
    "print(a)\n",
    "print(z) # ye z ko access nahi kar payega qki z local variable hai"
   ]
  },
  {
   "cell_type": "markdown",
   "id": "7d26b94c-6dd5-4bad-9b73-4125a1767a9c",
   "metadata": {},
   "source": [
    "## built-in scope\n"
   ]
  },
  {
   "cell_type": "code",
   "execution_count": 35,
   "id": "92ea4260-d750-4b30-948d-b6440d30972a",
   "metadata": {},
   "outputs": [
    {
     "name": "stdout",
     "output_type": "stream",
     "text": [
      "hello\n"
     ]
    }
   ],
   "source": [
    "# built-in scope  => jo bhi pre-defined function hai wo sab kuch built-in scope ka part hai-> ye global se bhi upar hai , \n",
    "# ye sare jaise hi python suru hota hai to pahle se hi scope me aa jata hai ki ye sare program mr to use honge hi\n",
    "print('hello')"
   ]
  },
  {
   "cell_type": "code",
   "execution_count": 37,
   "id": "ed650afc-75fd-471a-a49b-a7df319fa482",
   "metadata": {},
   "outputs": [
    {
     "name": "stdout",
     "output_type": "stream",
     "text": [
      "['ArithmeticError', 'AssertionError', 'AttributeError', 'BaseException', 'BaseExceptionGroup', 'BlockingIOError', 'BrokenPipeError', 'BufferError', 'BytesWarning', 'ChildProcessError', 'ConnectionAbortedError', 'ConnectionError', 'ConnectionRefusedError', 'ConnectionResetError', 'DeprecationWarning', 'EOFError', 'Ellipsis', 'EncodingWarning', 'EnvironmentError', 'Exception', 'ExceptionGroup', 'False', 'FileExistsError', 'FileNotFoundError', 'FloatingPointError', 'FutureWarning', 'GeneratorExit', 'IOError', 'ImportError', 'ImportWarning', 'IndentationError', 'IndexError', 'InterruptedError', 'IsADirectoryError', 'KeyError', 'KeyboardInterrupt', 'LookupError', 'MemoryError', 'ModuleNotFoundError', 'NameError', 'None', 'NotADirectoryError', 'NotImplemented', 'NotImplementedError', 'OSError', 'OverflowError', 'PendingDeprecationWarning', 'PermissionError', 'ProcessLookupError', 'RecursionError', 'ReferenceError', 'ResourceWarning', 'RuntimeError', 'RuntimeWarning', 'StopAsyncIteration', 'StopIteration', 'SyntaxError', 'SyntaxWarning', 'SystemError', 'SystemExit', 'TabError', 'TimeoutError', 'True', 'TypeError', 'UnboundLocalError', 'UnicodeDecodeError', 'UnicodeEncodeError', 'UnicodeError', 'UnicodeTranslateError', 'UnicodeWarning', 'UserWarning', 'ValueError', 'Warning', 'WindowsError', 'ZeroDivisionError', '__IPYTHON__', '__build_class__', '__debug__', '__doc__', '__import__', '__loader__', '__name__', '__package__', '__spec__', 'abs', 'aiter', 'all', 'anext', 'any', 'ascii', 'bin', 'bool', 'breakpoint', 'bytearray', 'bytes', 'callable', 'chr', 'classmethod', 'compile', 'complex', 'copyright', 'credits', 'delattr', 'dict', 'dir', 'display', 'divmod', 'enumerate', 'eval', 'exec', 'execfile', 'filter', 'float', 'format', 'frozenset', 'get_ipython', 'getattr', 'globals', 'hasattr', 'hash', 'help', 'hex', 'id', 'input', 'int', 'isinstance', 'issubclass', 'iter', 'len', 'license', 'list', 'locals', 'map', 'max', 'memoryview', 'min', 'next', 'object', 'oct', 'open', 'ord', 'pow', 'print', 'property', 'range', 'repr', 'reversed', 'round', 'runfile', 'set', 'setattr', 'slice', 'sorted', 'staticmethod', 'str', 'sum', 'super', 'tuple', 'type', 'vars', 'zip']\n"
     ]
    }
   ],
   "source": [
    "# how to see all built-ins\n",
    "import builtins\n",
    "print(dir(builtins))"
   ]
  },
  {
   "cell_type": "code",
   "execution_count": 39,
   "id": "cf07afde-95c9-4640-898e-da74ff72a563",
   "metadata": {},
   "outputs": [
    {
     "name": "stdout",
     "output_type": "stream",
     "text": [
      "[1, 2, 3]\n"
     ]
    }
   ],
   "source": [
    "L=[1,2,3]\n",
    "print(L)"
   ]
  },
  {
   "cell_type": "code",
   "execution_count": 41,
   "id": "96bbd7c7-175f-4fe6-bdcf-34ead983e8a2",
   "metadata": {},
   "outputs": [
    {
     "ename": "TypeError",
     "evalue": "max() takes 0 positional arguments but 1 was given",
     "output_type": "error",
     "traceback": [
      "\u001b[1;31m---------------------------------------------------------------------------\u001b[0m",
      "\u001b[1;31mTypeError\u001b[0m                                 Traceback (most recent call last)",
      "Cell \u001b[1;32mIn[41], line 7\u001b[0m\n\u001b[0;32m      4\u001b[0m \u001b[38;5;28;01mdef\u001b[39;00m \u001b[38;5;21mmax\u001b[39m():    \u001b[38;5;66;03m# jo pre-definede(built-ins) max hai usse hum rename kar de rahe hain and ek function ka name bana de rahe hain\u001b[39;00m\n\u001b[0;32m      5\u001b[0m     \u001b[38;5;28mprint\u001b[39m(\u001b[38;5;124m'\u001b[39m\u001b[38;5;124mhello\u001b[39m\u001b[38;5;124m'\u001b[39m)\n\u001b[1;32m----> 7\u001b[0m \u001b[38;5;28;43mmax\u001b[39;49m\u001b[43m(\u001b[49m\u001b[43mL\u001b[49m\u001b[43m)\u001b[49m\n",
      "\u001b[1;31mTypeError\u001b[0m: max() takes 0 positional arguments but 1 was given"
     ]
    }
   ],
   "source": [
    "# renamining built-ins\n",
    "L=[1,2,3]\n",
    "\n",
    "def max():    # jo pre-definede(built-ins) max hai usse hum rename kar de rahe hain and ek function ka name bana de rahe hain\n",
    "    print('hello')\n",
    "\n",
    "max(L)\n",
    "\n",
    "# error aayega qki abb jo max function rename hua hai usme 0 parametr pass required hai but aap 1 bhej rahe ho"
   ]
  },
  {
   "cell_type": "code",
   "execution_count": 21,
   "id": "4e4a17de-b1bd-4c71-a36f-0a7de2ec3c70",
   "metadata": {},
   "outputs": [
    {
     "name": "stdout",
     "output_type": "stream",
     "text": [
      "3\n"
     ]
    },
    {
     "ename": "TypeError",
     "evalue": "max() takes 0 positional arguments but 1 was given",
     "output_type": "error",
     "traceback": [
      "\u001b[1;31m---------------------------------------------------------------------------\u001b[0m",
      "\u001b[1;31mTypeError\u001b[0m                                 Traceback (most recent call last)",
      "Cell \u001b[1;32mIn[21], line 6\u001b[0m\n\u001b[0;32m      3\u001b[0m \u001b[38;5;28;01mdef\u001b[39;00m \u001b[38;5;21mmax\u001b[39m():    \n\u001b[0;32m      4\u001b[0m     \u001b[38;5;28mprint\u001b[39m(\u001b[38;5;124m'\u001b[39m\u001b[38;5;124mhello\u001b[39m\u001b[38;5;124m'\u001b[39m)\n\u001b[1;32m----> 6\u001b[0m \u001b[38;5;28;43mmax\u001b[39;49m\u001b[43m(\u001b[49m\u001b[43mL\u001b[49m\u001b[43m)\u001b[49m\n",
      "\u001b[1;31mTypeError\u001b[0m: max() takes 0 positional arguments but 1 was given"
     ]
    }
   ],
   "source": [
    "L=[1,2,3]\n",
    "print(max(L))   # yaha se 3 print ho jayega qki abhi rename (function nahi ncreate hua hai) nahi hua hai\n",
    "def max():    \n",
    "    print('hello')\n",
    "\n",
    "max(L)"
   ]
  },
  {
   "cell_type": "code",
   "execution_count": 43,
   "id": "0f55aa2c-c691-4ed0-8173-a3da0111b2aa",
   "metadata": {},
   "outputs": [],
   "source": [
    "# koi bhi data ko dhundhne ka rule kuch iss parkar hota hai ki pahle wo local me dhundhta hai , phie enclosed me , phir global me ,\n",
    "# and then phir built-ins me agar data local me mil gya toh uske according kaam karega nahi to enclosed me dhundhega, nahi to global me and last me \n",
    "# built-ins me search karta hai\n",
    "\n",
    "# yaha pe max jab global me mil gya to ye max global ke according use hoga and ye built-ins max ko search nahi karega "
   ]
  },
  {
   "cell_type": "markdown",
   "id": "20ef4d6a-6780-42d1-aed8-fa4c2f5ca24b",
   "metadata": {},
   "source": [
    "### Enclosing"
   ]
  },
  {
   "cell_type": "code",
   "execution_count": 46,
   "id": "3ad463ae-fd2f-4355-b160-d8ed9b4333b3",
   "metadata": {},
   "outputs": [],
   "source": [
    "# enclosing scope -> ye basically nested ke andar dekhne milta hai jab bhi functions ke andar functions hota hai"
   ]
  },
  {
   "cell_type": "code",
   "execution_count": 48,
   "id": "fe020678-e5a9-46e4-b495-7432c4ae66ba",
   "metadata": {},
   "outputs": [
    {
     "name": "stdout",
     "output_type": "stream",
     "text": [
      "inner function\n",
      "outer function\n",
      "main program\n"
     ]
    }
   ],
   "source": [
    "def outer():\n",
    "    def inner():\n",
    "        print('inner function')\n",
    "    inner()\n",
    "    print('outer function')\n",
    "\n",
    "outer()\n",
    "print('main program')"
   ]
  },
  {
   "cell_type": "code",
   "execution_count": 50,
   "id": "e2cccc12-8f91-4f18-8ac0-1f3b98277b40",
   "metadata": {},
   "outputs": [],
   "source": [
    "# basically jo sabse andar ka jo function/data hota hai usse local bola jata (yaha pe inner functio) hai and jo main program ka scope\n",
    "# hai usse global and jo yaha pe outer function hai usse hi enclosing bola jata hai aur kabhi kabhi usse non-local bhi bola jata hai"
   ]
  },
  {
   "cell_type": "code",
   "execution_count": null,
   "id": "7f3b10ff-2bea-4e17-b6a1-cf1e120b844a",
   "metadata": {},
   "outputs": [],
   "source": []
  },
  {
   "cell_type": "code",
   "execution_count": 54,
   "id": "450ac0ac-d2f4-4670-8535-d8535617104e",
   "metadata": {},
   "outputs": [
    {
     "name": "stdout",
     "output_type": "stream",
     "text": [
      "4\n",
      "inner function\n",
      "outer function\n",
      "main program\n"
     ]
    }
   ],
   "source": [
    "def outer():\n",
    "    a=3\n",
    "    def inner():\n",
    "        a=4\n",
    "        print(a)                          # sabse pahle LEGB rule ke according local me a ko khoja mil gya to usi ko print kara dya\n",
    "        print('inner function')\n",
    "    inner()\n",
    "    print('outer function')\n",
    "\n",
    "a=1\n",
    "outer()\n",
    "print('main program')"
   ]
  },
  {
   "cell_type": "code",
   "execution_count": 56,
   "id": "91153486-066f-4d3d-a504-e91fb8ca4fb4",
   "metadata": {},
   "outputs": [
    {
     "name": "stdout",
     "output_type": "stream",
     "text": [
      "3\n",
      "inner function\n",
      "outer function\n",
      "main program\n"
     ]
    }
   ],
   "source": [
    "def outer():\n",
    "    a=3\n",
    "    def inner():\n",
    "        \n",
    "        print(a)                          # sabse pahle LEGB rule ke according local me a ko khoja nahi mila to enclosing me gya and print karaya\n",
    "        print('inner function')\n",
    "    inner()\n",
    "    print('outer function')\n",
    "\n",
    "a=1\n",
    "outer()\n",
    "print('main program')"
   ]
  },
  {
   "cell_type": "code",
   "execution_count": 60,
   "id": "c3ddf68d-3409-4633-833d-87d008b9752e",
   "metadata": {},
   "outputs": [
    {
     "name": "stdout",
     "output_type": "stream",
     "text": [
      "1\n",
      "inner function\n",
      "outer function\n",
      "main program\n"
     ]
    }
   ],
   "source": [
    "def outer():\n",
    "    \n",
    "    def inner():\n",
    "        \n",
    "        print(a)                          # sabse pahle LEGB rule ke according local me a ko khoja nahi mila to enclosing me gya waha bhi nahi mila and \n",
    "        print('inner function')           #  global me gya and print kara dya\n",
    "    inner()\n",
    "    print('outer function')\n",
    "\n",
    "a=1\n",
    "outer()\n",
    "print('main program')"
   ]
  },
  {
   "cell_type": "code",
   "execution_count": 2,
   "id": "88e86c6a-09c7-4898-b38b-2a63e656a467",
   "metadata": {},
   "outputs": [],
   "source": [
    "# agar function ke andar function ke andar function rahe to -> sabse andar bala local , uske bahar bala enclosing-1 and uske bahar bala enclosing-2 ..."
   ]
  },
  {
   "cell_type": "code",
   "execution_count": 14,
   "id": "39ff3e84-a8d6-4a0a-9fc8-4d5f1ed0362c",
   "metadata": {},
   "outputs": [
    {
     "ename": "UnboundLocalError",
     "evalue": "cannot access local variable 'a' where it is not associated with a value",
     "output_type": "error",
     "traceback": [
      "\u001b[1;31m---------------------------------------------------------------------------\u001b[0m",
      "\u001b[1;31mUnboundLocalError\u001b[0m                         Traceback (most recent call last)",
      "Cell \u001b[1;32mIn[14], line 13\u001b[0m\n\u001b[0;32m      9\u001b[0m     inner()\n\u001b[0;32m     10\u001b[0m     \u001b[38;5;28mprint\u001b[39m(\u001b[38;5;124m'\u001b[39m\u001b[38;5;124mouter function\u001b[39m\u001b[38;5;124m'\u001b[39m)\n\u001b[1;32m---> 13\u001b[0m \u001b[43mouter\u001b[49m\u001b[43m(\u001b[49m\u001b[43m)\u001b[49m\n\u001b[0;32m     14\u001b[0m \u001b[38;5;28mprint\u001b[39m(\u001b[38;5;124m'\u001b[39m\u001b[38;5;124mmain program\u001b[39m\u001b[38;5;124m'\u001b[39m)\n",
      "Cell \u001b[1;32mIn[14], line 9\u001b[0m, in \u001b[0;36mouter\u001b[1;34m()\u001b[0m\n\u001b[0;32m      7\u001b[0m     \u001b[38;5;28mprint\u001b[39m(a)                         \n\u001b[0;32m      8\u001b[0m     \u001b[38;5;28mprint\u001b[39m(\u001b[38;5;124m'\u001b[39m\u001b[38;5;124minner function\u001b[39m\u001b[38;5;124m'\u001b[39m)   \n\u001b[1;32m----> 9\u001b[0m \u001b[43minner\u001b[49m\u001b[43m(\u001b[49m\u001b[43m)\u001b[49m\n\u001b[0;32m     10\u001b[0m \u001b[38;5;28mprint\u001b[39m(\u001b[38;5;124m'\u001b[39m\u001b[38;5;124mouter function\u001b[39m\u001b[38;5;124m'\u001b[39m)\n",
      "Cell \u001b[1;32mIn[14], line 6\u001b[0m, in \u001b[0;36mouter.<locals>.inner\u001b[1;34m()\u001b[0m\n\u001b[0;32m      5\u001b[0m \u001b[38;5;28;01mdef\u001b[39;00m \u001b[38;5;21minner\u001b[39m():\n\u001b[1;32m----> 6\u001b[0m     \u001b[43ma\u001b[49m\u001b[38;5;241m+\u001b[39m\u001b[38;5;241m=\u001b[39m\u001b[38;5;241m2\u001b[39m\n\u001b[0;32m      7\u001b[0m     \u001b[38;5;28mprint\u001b[39m(a)                         \n\u001b[0;32m      8\u001b[0m     \u001b[38;5;28mprint\u001b[39m(\u001b[38;5;124m'\u001b[39m\u001b[38;5;124minner function\u001b[39m\u001b[38;5;124m'\u001b[39m)\n",
      "\u001b[1;31mUnboundLocalError\u001b[0m: cannot access local variable 'a' where it is not associated with a value"
     ]
    }
   ],
   "source": [
    "# nonlocal keyword\n",
    "\n",
    "def outer():\n",
    "    a=2\n",
    "    def inner():\n",
    "        a+=2\n",
    "        print(a)                         \n",
    "        print('inner function')   \n",
    "    inner()\n",
    "    print('outer function')\n",
    "\n",
    "\n",
    "outer()\n",
    "print('main program')"
   ]
  },
  {
   "cell_type": "code",
   "execution_count": 18,
   "id": "743fc054-d74f-4ec5-80d0-c93502f27e15",
   "metadata": {},
   "outputs": [
    {
     "name": "stdout",
     "output_type": "stream",
     "text": [
      "inner 4\n",
      "outer  4\n",
      "main program\n"
     ]
    }
   ],
   "source": [
    "def outer():\n",
    "    a=2\n",
    "    def inner():\n",
    "        nonlocal a    # nonlocal keyword ke help se hum enclosing ko inner scope se change kar sakte hain\n",
    "        a+=2                         \n",
    "        print('inner',a)   \n",
    "    inner()\n",
    "    print('outer ',a)\n",
    "\n",
    "\n",
    "outer()\n",
    "print('main program')"
   ]
  },
  {
   "cell_type": "markdown",
   "id": "23529aaa-968f-4320-bcf6-6ab7a422bc27",
   "metadata": {},
   "source": [
    "### Decorators\n",
    "\n",
    "A decorator in python is a function that receives another function as input and adds some functionality(decoration) to  it and returns it.\n",
    "\n",
    "This can happen only because python functions are 1st class citizens.\n",
    "\n",
    "There are 2 types of decorators available in python\n",
    "- `Built in decorators` like `@staticmethod`, `@classmethod`, `@abstractmethod` and `@property` etc\n",
    "- `User defined decorators` that we programmers can create according to our needs"
   ]
  },
  {
   "cell_type": "code",
   "execution_count": 24,
   "id": "7c7d8b7c-b7cc-44a2-91a9-ca037ffa9493",
   "metadata": {},
   "outputs": [],
   "source": [
    "# 1st class citizen means what --> 1st class citizen wo objects hote hain kisi bhi programming language me  jiske sath aap sare operation kar sakte ho,\n",
    "# like create kar sakte ho, store kar sakte ho , delete kar sakte ho , usme input de sakte ho, function usse kisi tarah se output kar sakta hai and \n",
    "# python me function bhi 1st class citizen hai isse aap create, kar sakte ho delete kar sakte ho,rename kar sakte ho , kisi list ke andar daal sakte ho,\n",
    "# function ko kuch input de sakte ho , function se kuch output le sakte ho\n"
   ]
  },
  {
   "cell_type": "code",
   "execution_count": null,
   "id": "74256a70-27eb-47b0-a565-d4d4198642fb",
   "metadata": {},
   "outputs": [],
   "source": []
  },
  {
   "cell_type": "code",
   "execution_count": 31,
   "id": "e96cc02e-bfd8-4e58-8bae-7f797ec12ca8",
   "metadata": {},
   "outputs": [
    {
     "name": "stdout",
     "output_type": "stream",
     "text": [
      "hello\n"
     ]
    }
   ],
   "source": [
    "# functions are 1st class citizen\n",
    "def func():\n",
    "    print('hello')\n",
    "\n",
    "a=func    # func()  -> bracket laga ke store nahi kar sakte hain kisi another variable me\n",
    "\n",
    "a()"
   ]
  },
  {
   "cell_type": "code",
   "execution_count": 33,
   "id": "43bb68ae-c16b-426e-811b-4dc0c9a53fa9",
   "metadata": {},
   "outputs": [
    {
     "ename": "NameError",
     "evalue": "name 'func' is not defined",
     "output_type": "error",
     "traceback": [
      "\u001b[1;31m---------------------------------------------------------------------------\u001b[0m",
      "\u001b[1;31mNameError\u001b[0m                                 Traceback (most recent call last)",
      "Cell \u001b[1;32mIn[33], line 7\u001b[0m\n\u001b[0;32m      4\u001b[0m a\u001b[38;5;241m=\u001b[39mfunc    \u001b[38;5;66;03m# func()  -> bracket laga ke store nahi kar sakte hain kisi another variable me\u001b[39;00m\n\u001b[0;32m      6\u001b[0m \u001b[38;5;28;01mdel\u001b[39;00m func\n\u001b[1;32m----> 7\u001b[0m \u001b[43mfunc\u001b[49m()\n",
      "\u001b[1;31mNameError\u001b[0m: name 'func' is not defined"
     ]
    }
   ],
   "source": [
    "def func():\n",
    "    print('hello')\n",
    "\n",
    "a=func    \n",
    "\n",
    "del func\n",
    "func()"
   ]
  },
  {
   "cell_type": "code",
   "execution_count": 35,
   "id": "da5ce653-84ca-4c25-b363-a813ae018a4b",
   "metadata": {},
   "outputs": [
    {
     "data": {
      "text/plain": [
       "4"
      ]
     },
     "execution_count": 35,
     "metadata": {},
     "output_type": "execute_result"
    }
   ],
   "source": [
    "# ek function ko dusre ke andar as input \n",
    "def modify(func,num):\n",
    "    return func(num)\n",
    "\n",
    "def square(num):\n",
    "    return num**2\n",
    "\n",
    "modify(square,2)\n",
    "    \n"
   ]
  },
  {
   "cell_type": "code",
   "execution_count": 50,
   "id": "5c8f08a1-f1c6-4673-83b8-74eaf2cf4598",
   "metadata": {},
   "outputs": [
    {
     "name": "stdout",
     "output_type": "stream",
     "text": [
      "**************************\n",
      "hello\n",
      "**************************\n",
      "**************************\n",
      "hello jay\n",
      "**************************\n"
     ]
    }
   ],
   "source": [
    "# simple example of decorator\n",
    "\n",
    "# suppose hum apne output ko upar and niche se star line se decorate karna chah rahe hain\n",
    "\n",
    "def my_decorator(func):\n",
    "    def wrapper():   # generally andar ke function  ka name wrapper hi rakhte hain\n",
    "        print('**************************')\n",
    "        func()\n",
    "        print('**************************')\n",
    "    return wrapper\n",
    "\n",
    "def hello():\n",
    "    print('hello')\n",
    "\n",
    "a=my_decorator(hello)\n",
    "a()\n",
    "\n",
    "def disply():\n",
    "    print('hello jay')\n",
    "\n",
    "b=my_decorator(disply)\n",
    "b()"
   ]
  },
  {
   "cell_type": "code",
   "execution_count": null,
   "id": "9d11e16d-3c24-4192-a79c-eb90bcbcea1a",
   "metadata": {},
   "outputs": [],
   "source": []
  },
  {
   "cell_type": "code",
   "execution_count": 56,
   "id": "65004e62-eb86-482b-8a94-10224d2cc5e8",
   "metadata": {},
   "outputs": [
    {
     "name": "stdout",
     "output_type": "stream",
     "text": [
      "5\n"
     ]
    }
   ],
   "source": [
    "# \n",
    "def outer():\n",
    "    a=5\n",
    "    def inner():\n",
    "        print(a)\n",
    "    return inner\n",
    "\n",
    "b=outer()\n",
    "b()\n",
    "\n",
    "\n",
    "# yaha basically a outer function ke scope me hai and jab uoter function kuch return kar deta hai to wo function mar jata hai and uske \n",
    "# andar ka bhi sabkuch mar jata hai but ye ek special case hai jaha pe ki outerfunction ke scope ke a variable ko return ke \n",
    "# baad bhi inner function access kar paa raha hai\n",
    "\n",
    "# \n",
    "\n",
    "# matlab ki agar aap ek function se dusre function ko return kar rahe ho to inner function ke pass bhi ek addree hota hai sare variable ka\n",
    "# jiske  karan phir se access ho paa raha hai  -> issi property ko python mr closure bola jata hai\n",
    "\n",
    "# closure --> inner function parent function ke marne ke baad bhi unke chizon ko access kar sakta hai\n",
    " \n",
    "    \n",
    "    "
   ]
  },
  {
   "cell_type": "code",
   "execution_count": 58,
   "id": "e72fa2ed-ef71-4020-8a95-4ee25d41d542",
   "metadata": {},
   "outputs": [
    {
     "name": "stdout",
     "output_type": "stream",
     "text": [
      "**************************\n",
      "hello\n",
      "**************************\n"
     ]
    }
   ],
   "source": [
    "# Better syntax\n",
    "def my_decorator(func):\n",
    "    def wrapper():   \n",
    "        print('**************************')\n",
    "        func()\n",
    "        print('**************************')\n",
    "    return wrapper\n",
    "\n",
    "@my_decorator\n",
    "def hello():\n",
    "    print('hello')\n",
    "\n",
    "#a=my_decorator(hello)\n",
    "#a()\n",
    "\n",
    "hello()\n",
    "\n"
   ]
  },
  {
   "cell_type": "code",
   "execution_count": 68,
   "id": "580a663f-b9c3-4044-9069-c0fa39c49be1",
   "metadata": {},
   "outputs": [
    {
     "name": "stdout",
     "output_type": "stream",
     "text": [
      "hello world\n",
      "time taken by  hello 2.00123929977417  secs\n",
      "displaying something\n",
      "time taken by  display 4.001263856887817  secs\n"
     ]
    }
   ],
   "source": [
    "# meaning ful decorator\n",
    "\n",
    "# hum ek aaisa decorator banayenge jo ki kisi bhi function ka execution time batayega\n",
    "\n",
    "import time\n",
    "\n",
    "def timer(func):\n",
    "    def wrapper():\n",
    "        start = time.time()\n",
    "        func()\n",
    "        print('time taken by ',func.__name__, time.time()-start, ' secs')  #func.__name__ --> aaise likhne se function ka actual name print ho jata hai\n",
    "    return wrapper\n",
    "\n",
    "\n",
    "@timer\n",
    "def hello():\n",
    "    print('hello world')\n",
    "    time.sleep(2)\n",
    "\n",
    "hello()    # calling\n",
    "\n",
    "@timer\n",
    "def display():\n",
    "    print('displaying something')\n",
    "    time.sleep(4)\n",
    "\n",
    "\n",
    "\n",
    "\n",
    "display()   # calling  "
   ]
  },
  {
   "cell_type": "code",
   "execution_count": 70,
   "id": "2806b8e3-5aae-4bfd-913b-7e1bd0bcc94d",
   "metadata": {},
   "outputs": [
    {
     "ename": "TypeError",
     "evalue": "timer.<locals>.wrapper() takes 0 positional arguments but 1 was given",
     "output_type": "error",
     "traceback": [
      "\u001b[1;31m---------------------------------------------------------------------------\u001b[0m",
      "\u001b[1;31mTypeError\u001b[0m                                 Traceback (most recent call last)",
      "Cell \u001b[1;32mIn[70], line 16\u001b[0m\n\u001b[0;32m     13\u001b[0m     time\u001b[38;5;241m.\u001b[39msleep(\u001b[38;5;241m1\u001b[39m)\n\u001b[0;32m     14\u001b[0m     \u001b[38;5;28;01mreturn\u001b[39;00m num\u001b[38;5;241m*\u001b[39m\u001b[38;5;241m*\u001b[39m\u001b[38;5;241m2\u001b[39m\n\u001b[1;32m---> 16\u001b[0m \u001b[43msquare\u001b[49m\u001b[43m(\u001b[49m\u001b[38;5;241;43m2\u001b[39;49m\u001b[43m)\u001b[49m\n",
      "\u001b[1;31mTypeError\u001b[0m: timer.<locals>.wrapper() takes 0 positional arguments but 1 was given"
     ]
    }
   ],
   "source": [
    "# another senario\n",
    "import time\n",
    "\n",
    "def timer(func):\n",
    "    def wrapper():\n",
    "        start = time.time()\n",
    "        func()\n",
    "        print('time taken by ',func.__name__, time.time()-start, ' secs')  #func.__name__ --> aaise likhne se function ka actual name print ho jata hai\n",
    "    return wrapper\n",
    "\n",
    "@timer\n",
    "def square(num):\n",
    "    time.sleep(1)\n",
    "    return num**2\n",
    "\n",
    "square(2)\n",
    "\n",
    "\n",
    "# ye islye fat gya qki jaise hi func ko square milega ye ek argument ke sath milega and the wrapper return hoga and wrapper ke andar se jab func() call hoga to ye to ek bhi argument \n",
    "# accept hi nahi kar raha hai and hum ek arguement pass kar rahe hain islye error aaya"
   ]
  },
  {
   "cell_type": "code",
   "execution_count": 76,
   "id": "6039c66c-93ba-4722-ba76-2e1337d718ba",
   "metadata": {},
   "outputs": [
    {
     "name": "stdout",
     "output_type": "stream",
     "text": [
      "4\n",
      "time taken by  square 1.0010876655578613  secs\n",
      "hello world\n",
      "time taken by  hello 2.0015687942504883  secs\n"
     ]
    }
   ],
   "source": [
    " # so how we can handle this   *args ke help se\n",
    "\n",
    "import time\n",
    "\n",
    "def timer(func):\n",
    "    def wrapper(*args):\n",
    "        start = time.time()\n",
    "        func(*args)\n",
    "        print('time taken by ',func.__name__, time.time()-start, ' secs')  #func.__name__ --> aaise likhne se function ka actual name print ho jata hai\n",
    "    return wrapper\n",
    "\n",
    "@timer\n",
    "def square(num):\n",
    "    time.sleep(1)\n",
    "    print(num**2)\n",
    "\n",
    "square(2)\n",
    "\n",
    "@timer\n",
    "def hello():\n",
    "    print('hello world')\n",
    "    time.sleep(2)\n",
    "\n",
    "hello()"
   ]
  },
  {
   "cell_type": "code",
   "execution_count": 2,
   "id": "0605409d-34bd-4f5f-a8a7-db4da09efd36",
   "metadata": {},
   "outputs": [],
   "source": [
    "# another problem to check ki ki aapko jo input mila hai kisi function ke andar uska data type sahi hai ki nahi"
   ]
  },
  {
   "cell_type": "code",
   "execution_count": 4,
   "id": "743644f6-7d99-4f1d-bed0-0c965ba92d8a",
   "metadata": {},
   "outputs": [],
   "source": [
    "def square(num):\n",
    "    print(num**2)"
   ]
  },
  {
   "cell_type": "code",
   "execution_count": 6,
   "id": "ff7d382b-52ab-46a9-adc6-7efe28d35a34",
   "metadata": {},
   "outputs": [
    {
     "name": "stdout",
     "output_type": "stream",
     "text": [
      "4\n"
     ]
    }
   ],
   "source": [
    "square(2)"
   ]
  },
  {
   "cell_type": "code",
   "execution_count": 8,
   "id": "04e66e65-acbf-482d-a4c8-3205593f480b",
   "metadata": {},
   "outputs": [
    {
     "ename": "TypeError",
     "evalue": "unsupported operand type(s) for ** or pow(): 'str' and 'int'",
     "output_type": "error",
     "traceback": [
      "\u001b[1;31m---------------------------------------------------------------------------\u001b[0m",
      "\u001b[1;31mTypeError\u001b[0m                                 Traceback (most recent call last)",
      "Cell \u001b[1;32mIn[8], line 1\u001b[0m\n\u001b[1;32m----> 1\u001b[0m \u001b[43msquare\u001b[49m\u001b[43m(\u001b[49m\u001b[38;5;124;43m'\u001b[39;49m\u001b[38;5;124;43mhehe\u001b[39;49m\u001b[38;5;124;43m'\u001b[39;49m\u001b[43m)\u001b[49m\n",
      "Cell \u001b[1;32mIn[4], line 2\u001b[0m, in \u001b[0;36msquare\u001b[1;34m(num)\u001b[0m\n\u001b[0;32m      1\u001b[0m \u001b[38;5;28;01mdef\u001b[39;00m \u001b[38;5;21msquare\u001b[39m(num):\n\u001b[1;32m----> 2\u001b[0m     \u001b[38;5;28mprint\u001b[39m(\u001b[43mnum\u001b[49m\u001b[38;5;241;43m*\u001b[39;49m\u001b[38;5;241;43m*\u001b[39;49m\u001b[38;5;241;43m2\u001b[39;49m)\n",
      "\u001b[1;31mTypeError\u001b[0m: unsupported operand type(s) for ** or pow(): 'str' and 'int'"
     ]
    }
   ],
   "source": [
    "square('hehe')   # aaise problem se bachna hai to yahi check karna hai"
   ]
  },
  {
   "cell_type": "code",
   "execution_count": 20,
   "id": "d545e420-e3a8-4fc3-a5ff-41ec67acd589",
   "metadata": {},
   "outputs": [
    {
     "name": "stdout",
     "output_type": "stream",
     "text": [
      "4\n"
     ]
    }
   ],
   "source": [
    "def sanity_check(data_type):\n",
    "    def outer_wrapper(func):\n",
    "        def inner_wrapper(*args):\n",
    "            if type(*args) == data_type:  \n",
    "                func(*args)\n",
    "            else:\n",
    "                raise TypeError('ye data type nahi chalega')\n",
    "        return inner_wrapper\n",
    "    return outer_wrapper\n",
    "\n",
    "@sanity_check(int)\n",
    "def square(num):\n",
    "    print(num**2)\n",
    "\n",
    "square(2)"
   ]
  },
  {
   "cell_type": "code",
   "execution_count": 14,
   "id": "69f4dcbc-f13f-4075-93b5-19e24dfacf6a",
   "metadata": {},
   "outputs": [
    {
     "ename": "TypeError",
     "evalue": "ye data type nahi chalega",
     "output_type": "error",
     "traceback": [
      "\u001b[1;31m---------------------------------------------------------------------------\u001b[0m",
      "\u001b[1;31mTypeError\u001b[0m                                 Traceback (most recent call last)",
      "Cell \u001b[1;32mIn[14], line 1\u001b[0m\n\u001b[1;32m----> 1\u001b[0m \u001b[43msquare\u001b[49m\u001b[43m(\u001b[49m\u001b[38;5;124;43m'\u001b[39;49m\u001b[38;5;124;43mhii\u001b[39;49m\u001b[38;5;124;43m'\u001b[39;49m\u001b[43m)\u001b[49m\n",
      "Cell \u001b[1;32mIn[12], line 7\u001b[0m, in \u001b[0;36msanity_check.<locals>.outer_wrapper.<locals>.inner_wrapper\u001b[1;34m(*args)\u001b[0m\n\u001b[0;32m      5\u001b[0m     func(\u001b[38;5;241m*\u001b[39margs)\n\u001b[0;32m      6\u001b[0m \u001b[38;5;28;01melse\u001b[39;00m:\n\u001b[1;32m----> 7\u001b[0m     \u001b[38;5;28;01mraise\u001b[39;00m \u001b[38;5;167;01mTypeError\u001b[39;00m(\u001b[38;5;124m'\u001b[39m\u001b[38;5;124mye data type nahi chalega\u001b[39m\u001b[38;5;124m'\u001b[39m)\n",
      "\u001b[1;31mTypeError\u001b[0m: ye data type nahi chalega"
     ]
    }
   ],
   "source": [
    "square('hii')"
   ]
  },
  {
   "cell_type": "code",
   "execution_count": 16,
   "id": "23a83fff-e99a-4ceb-9feb-1e7769553324",
   "metadata": {},
   "outputs": [
    {
     "name": "stdout",
     "output_type": "stream",
     "text": [
      "hello jay\n"
     ]
    }
   ],
   "source": [
    "@sanity_check(str)\n",
    "def greet(name):\n",
    "    print('hello',name)\n",
    "\n",
    "\n",
    "greet('jay')"
   ]
  },
  {
   "cell_type": "code",
   "execution_count": null,
   "id": "8cd3366b-9f5f-46aa-88b5-73dc2bf1dbba",
   "metadata": {},
   "outputs": [],
   "source": []
  }
 ],
 "metadata": {
  "kernelspec": {
   "display_name": "Python 3 (ipykernel)",
   "language": "python",
   "name": "python3"
  },
  "language_info": {
   "codemirror_mode": {
    "name": "ipython",
    "version": 3
   },
   "file_extension": ".py",
   "mimetype": "text/x-python",
   "name": "python",
   "nbconvert_exporter": "python",
   "pygments_lexer": "ipython3",
   "version": "3.12.7"
  }
 },
 "nbformat": 4,
 "nbformat_minor": 5
}
