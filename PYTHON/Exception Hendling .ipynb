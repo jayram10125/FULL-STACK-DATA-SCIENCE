{
 "cells": [
  {
   "cell_type": "markdown",
   "id": "8cec62bc-08c9-4b96-b4d0-36877fe1b401",
   "metadata": {},
   "source": [
    "There are 2 stages where error may happen in a program\n",
    "\n",
    "- During compilation -> Syntax Error\n",
    "- During execution -> Exceptions"
   ]
  },
  {
   "cell_type": "markdown",
   "id": "42b2b748-140e-48a1-866e-376e987e683e",
   "metadata": {},
   "source": [
    "### Syntax Error\n",
    "\n",
    "- Something in the program is not written according to the program grammar.\n",
    "- Error is raised by the interpreter/compiler\n",
    "- You can solve it by rectifying the program"
   ]
  },
  {
   "cell_type": "code",
   "execution_count": 8,
   "id": "c7f62a5c-5856-4e99-89c1-f5fca18bbffd",
   "metadata": {},
   "outputs": [
    {
     "ename": "SyntaxError",
     "evalue": "Missing parentheses in call to 'print'. Did you mean print(...)? (2871446271.py, line 2)",
     "output_type": "error",
     "traceback": [
      "\u001b[1;36m  Cell \u001b[1;32mIn[8], line 2\u001b[1;36m\u001b[0m\n\u001b[1;33m    print 'hello world'\u001b[0m\n\u001b[1;37m    ^\u001b[0m\n\u001b[1;31mSyntaxError\u001b[0m\u001b[1;31m:\u001b[0m Missing parentheses in call to 'print'. Did you mean print(...)?\n"
     ]
    }
   ],
   "source": [
    "# Example of syntax error\n",
    "print 'hello world'"
   ]
  },
  {
   "cell_type": "markdown",
   "id": "349c91aa-540f-41dd-8ff1-7d4a180a4977",
   "metadata": {},
   "source": [
    "### Other examples of syntax error\n",
    "\n",
    "- Leaving symbols like colon,brackets\n",
    "- Misspelling a keyword\n",
    "- Incorrect indentation\n",
    "- empty if/else/loops/class/functions"
   ]
  },
  {
   "cell_type": "code",
   "execution_count": 10,
   "id": "b37f4446-f060-4b44-ace2-753e21f9411d",
   "metadata": {},
   "outputs": [
    {
     "ename": "SyntaxError",
     "evalue": "expected ':' (1578351243.py, line 2)",
     "output_type": "error",
     "traceback": [
      "\u001b[1;36m  Cell \u001b[1;32mIn[10], line 2\u001b[1;36m\u001b[0m\n\u001b[1;33m    if a==3\u001b[0m\n\u001b[1;37m           ^\u001b[0m\n\u001b[1;31mSyntaxError\u001b[0m\u001b[1;31m:\u001b[0m expected ':'\n"
     ]
    }
   ],
   "source": [
    "a=5\n",
    "if a==3\n",
    "    print(a)"
   ]
  },
  {
   "cell_type": "code",
   "execution_count": 12,
   "id": "18d44e9a-6979-4210-8cfe-5bc987217423",
   "metadata": {},
   "outputs": [
    {
     "ename": "SyntaxError",
     "evalue": "invalid syntax (3614697831.py, line 2)",
     "output_type": "error",
     "traceback": [
      "\u001b[1;36m  Cell \u001b[1;32mIn[12], line 2\u001b[1;36m\u001b[0m\n\u001b[1;33m    iff a==3:\u001b[0m\n\u001b[1;37m        ^\u001b[0m\n\u001b[1;31mSyntaxError\u001b[0m\u001b[1;31m:\u001b[0m invalid syntax\n"
     ]
    }
   ],
   "source": [
    "a=5\n",
    "iff a==3:\n",
    "    print(a)"
   ]
  },
  {
   "cell_type": "code",
   "execution_count": 14,
   "id": "6f319a05-639d-4e69-9354-f4bcfe1a5377",
   "metadata": {},
   "outputs": [
    {
     "ename": "IndentationError",
     "evalue": "expected an indented block after 'if' statement on line 2 (448362025.py, line 3)",
     "output_type": "error",
     "traceback": [
      "\u001b[1;36m  Cell \u001b[1;32mIn[14], line 3\u001b[1;36m\u001b[0m\n\u001b[1;33m    print(a)\u001b[0m\n\u001b[1;37m    ^\u001b[0m\n\u001b[1;31mIndentationError\u001b[0m\u001b[1;31m:\u001b[0m expected an indented block after 'if' statement on line 2\n"
     ]
    }
   ],
   "source": [
    "a=5\n",
    "if a==3:\n",
    "print(a)"
   ]
  },
  {
   "cell_type": "code",
   "execution_count": 16,
   "id": "eb66f3d6-b240-451f-a681-d63002f00d93",
   "metadata": {},
   "outputs": [
    {
     "ename": "IndexError",
     "evalue": "list index out of range",
     "output_type": "error",
     "traceback": [
      "\u001b[1;31m---------------------------------------------------------------------------\u001b[0m",
      "\u001b[1;31mIndexError\u001b[0m                                Traceback (most recent call last)",
      "Cell \u001b[1;32mIn[16], line 5\u001b[0m\n\u001b[0;32m      1\u001b[0m \u001b[38;5;66;03m# Index Error\u001b[39;00m\n\u001b[0;32m      2\u001b[0m \u001b[38;5;66;03m# IndexError\u001b[39;00m\n\u001b[0;32m      3\u001b[0m \u001b[38;5;66;03m# The IndexError is thrown when trying to access an item at an invalid index.\u001b[39;00m\n\u001b[0;32m      4\u001b[0m L \u001b[38;5;241m=\u001b[39m [\u001b[38;5;241m1\u001b[39m,\u001b[38;5;241m2\u001b[39m,\u001b[38;5;241m3\u001b[39m]\n\u001b[1;32m----> 5\u001b[0m \u001b[43mL\u001b[49m\u001b[43m[\u001b[49m\u001b[38;5;241;43m100\u001b[39;49m\u001b[43m]\u001b[49m\n",
      "\u001b[1;31mIndexError\u001b[0m: list index out of range"
     ]
    }
   ],
   "source": [
    "# Index Error\n",
    "# IndexError\n",
    "# The IndexError is thrown when trying to access an item at an invalid index.\n",
    "L = [1,2,3]\n",
    "L[100]"
   ]
  },
  {
   "cell_type": "code",
   "execution_count": 18,
   "id": "7a373122-ad36-4e70-9fb0-92cab80f3472",
   "metadata": {},
   "outputs": [
    {
     "ename": "ModuleNotFoundError",
     "evalue": "No module named 'mathi'",
     "output_type": "error",
     "traceback": [
      "\u001b[1;31m---------------------------------------------------------------------------\u001b[0m",
      "\u001b[1;31mModuleNotFoundError\u001b[0m                       Traceback (most recent call last)",
      "Cell \u001b[1;32mIn[18], line 3\u001b[0m\n\u001b[0;32m      1\u001b[0m \u001b[38;5;66;03m# ModuleNotFoundError\u001b[39;00m\n\u001b[0;32m      2\u001b[0m \u001b[38;5;66;03m# The ModuleNotFoundError is thrown when a module could not be found.\u001b[39;00m\n\u001b[1;32m----> 3\u001b[0m \u001b[38;5;28;01mimport\u001b[39;00m \u001b[38;5;21;01mmathi\u001b[39;00m\n\u001b[0;32m      4\u001b[0m math\u001b[38;5;241m.\u001b[39mfloor(\u001b[38;5;241m5.3\u001b[39m)\n",
      "\u001b[1;31mModuleNotFoundError\u001b[0m: No module named 'mathi'"
     ]
    }
   ],
   "source": [
    "# ModuleNotFoundError\n",
    "# The ModuleNotFoundError is thrown when a module could not be found.\n",
    "import mathi\n",
    "math.floor(5.3)"
   ]
  },
  {
   "cell_type": "code",
   "execution_count": 20,
   "id": "d721bbdb-9e30-4037-b136-57cc05d6d978",
   "metadata": {},
   "outputs": [
    {
     "ename": "KeyError",
     "evalue": "'age'",
     "output_type": "error",
     "traceback": [
      "\u001b[1;31m---------------------------------------------------------------------------\u001b[0m",
      "\u001b[1;31mKeyError\u001b[0m                                  Traceback (most recent call last)",
      "Cell \u001b[1;32mIn[20], line 5\u001b[0m\n\u001b[0;32m      1\u001b[0m \u001b[38;5;66;03m# KeyError\u001b[39;00m\n\u001b[0;32m      2\u001b[0m \u001b[38;5;66;03m# The KeyError is thrown when a key is not found\u001b[39;00m\n\u001b[0;32m      4\u001b[0m d \u001b[38;5;241m=\u001b[39m {\u001b[38;5;124m'\u001b[39m\u001b[38;5;124mname\u001b[39m\u001b[38;5;124m'\u001b[39m:\u001b[38;5;124m'\u001b[39m\u001b[38;5;124mnitish\u001b[39m\u001b[38;5;124m'\u001b[39m}\n\u001b[1;32m----> 5\u001b[0m \u001b[43md\u001b[49m\u001b[43m[\u001b[49m\u001b[38;5;124;43m'\u001b[39;49m\u001b[38;5;124;43mage\u001b[39;49m\u001b[38;5;124;43m'\u001b[39;49m\u001b[43m]\u001b[49m\n",
      "\u001b[1;31mKeyError\u001b[0m: 'age'"
     ]
    }
   ],
   "source": [
    "# KeyError\n",
    "# The KeyError is thrown when a key is not found\n",
    "\n",
    "d = {'name':'nitish'}\n",
    "d['age']"
   ]
  },
  {
   "cell_type": "code",
   "execution_count": 22,
   "id": "036cfd95-e698-45d2-8b59-fdb70d0ebadf",
   "metadata": {},
   "outputs": [
    {
     "ename": "TypeError",
     "evalue": "unsupported operand type(s) for +: 'int' and 'str'",
     "output_type": "error",
     "traceback": [
      "\u001b[1;31m---------------------------------------------------------------------------\u001b[0m",
      "\u001b[1;31mTypeError\u001b[0m                                 Traceback (most recent call last)",
      "Cell \u001b[1;32mIn[22], line 3\u001b[0m\n\u001b[0;32m      1\u001b[0m \u001b[38;5;66;03m# TypeError\u001b[39;00m\n\u001b[0;32m      2\u001b[0m \u001b[38;5;66;03m# The TypeError is thrown when an operation or function is applied to an object of an inappropriate type.\u001b[39;00m\n\u001b[1;32m----> 3\u001b[0m \u001b[38;5;241;43m1\u001b[39;49m\u001b[43m \u001b[49m\u001b[38;5;241;43m+\u001b[39;49m\u001b[43m \u001b[49m\u001b[38;5;124;43m'\u001b[39;49m\u001b[38;5;124;43ma\u001b[39;49m\u001b[38;5;124;43m'\u001b[39;49m\n",
      "\u001b[1;31mTypeError\u001b[0m: unsupported operand type(s) for +: 'int' and 'str'"
     ]
    }
   ],
   "source": [
    "# TypeError\n",
    "# The TypeError is thrown when an operation or function is applied to an object of an inappropriate type.\n",
    "1 + 'a'"
   ]
  },
  {
   "cell_type": "code",
   "execution_count": 24,
   "id": "a2ca144e-271b-4b86-9839-02e10fd010c2",
   "metadata": {},
   "outputs": [
    {
     "ename": "ValueError",
     "evalue": "invalid literal for int() with base 10: 'a'",
     "output_type": "error",
     "traceback": [
      "\u001b[1;31m---------------------------------------------------------------------------\u001b[0m",
      "\u001b[1;31mValueError\u001b[0m                                Traceback (most recent call last)",
      "Cell \u001b[1;32mIn[24], line 3\u001b[0m\n\u001b[0;32m      1\u001b[0m \u001b[38;5;66;03m# ValueError\u001b[39;00m\n\u001b[0;32m      2\u001b[0m \u001b[38;5;66;03m# The ValueError is thrown when a function's argument is of an inappropriate type.\u001b[39;00m\n\u001b[1;32m----> 3\u001b[0m \u001b[38;5;28;43mint\u001b[39;49m\u001b[43m(\u001b[49m\u001b[38;5;124;43m'\u001b[39;49m\u001b[38;5;124;43ma\u001b[39;49m\u001b[38;5;124;43m'\u001b[39;49m\u001b[43m)\u001b[49m\n",
      "\u001b[1;31mValueError\u001b[0m: invalid literal for int() with base 10: 'a'"
     ]
    }
   ],
   "source": [
    "# ValueError\n",
    "# The ValueError is thrown when a function's argument is of an inappropriate type.\n",
    "int('a')"
   ]
  },
  {
   "cell_type": "code",
   "execution_count": 26,
   "id": "cb39c765-9c9a-4e5b-8363-b2f16dee438a",
   "metadata": {},
   "outputs": [
    {
     "ename": "NameError",
     "evalue": "name 'k' is not defined",
     "output_type": "error",
     "traceback": [
      "\u001b[1;31m---------------------------------------------------------------------------\u001b[0m",
      "\u001b[1;31mNameError\u001b[0m                                 Traceback (most recent call last)",
      "Cell \u001b[1;32mIn[26], line 3\u001b[0m\n\u001b[0;32m      1\u001b[0m \u001b[38;5;66;03m# NameError\u001b[39;00m\n\u001b[0;32m      2\u001b[0m \u001b[38;5;66;03m# The NameError is thrown when an object could not be found.\u001b[39;00m\n\u001b[1;32m----> 3\u001b[0m \u001b[38;5;28mprint\u001b[39m(\u001b[43mk\u001b[49m)\n",
      "\u001b[1;31mNameError\u001b[0m: name 'k' is not defined"
     ]
    }
   ],
   "source": [
    "# NameError\n",
    "# The NameError is thrown when an object could not be found.\n",
    "print(k)"
   ]
  },
  {
   "cell_type": "code",
   "execution_count": 28,
   "id": "542b7755-cce5-4dd1-b028-8f43aa238aba",
   "metadata": {},
   "outputs": [
    {
     "ename": "AttributeError",
     "evalue": "'list' object has no attribute 'upper'",
     "output_type": "error",
     "traceback": [
      "\u001b[1;31m---------------------------------------------------------------------------\u001b[0m",
      "\u001b[1;31mAttributeError\u001b[0m                            Traceback (most recent call last)",
      "Cell \u001b[1;32mIn[28], line 3\u001b[0m\n\u001b[0;32m      1\u001b[0m \u001b[38;5;66;03m# AttributeError\u001b[39;00m\n\u001b[0;32m      2\u001b[0m L \u001b[38;5;241m=\u001b[39m [\u001b[38;5;241m1\u001b[39m,\u001b[38;5;241m2\u001b[39m,\u001b[38;5;241m3\u001b[39m]\n\u001b[1;32m----> 3\u001b[0m \u001b[43mL\u001b[49m\u001b[38;5;241;43m.\u001b[39;49m\u001b[43mupper\u001b[49m()\n\u001b[0;32m      5\u001b[0m \u001b[38;5;66;03m# Stacktrace\u001b[39;00m\n",
      "\u001b[1;31mAttributeError\u001b[0m: 'list' object has no attribute 'upper'"
     ]
    }
   ],
   "source": [
    "# AttributeError\n",
    "L = [1,2,3]\n",
    "L.upper()\n",
    "\n",
    "# Stacktrace"
   ]
  },
  {
   "cell_type": "markdown",
   "id": "2f524cf3-ccad-448f-a050-d91df4a81dde",
   "metadata": {},
   "source": [
    "### Exceptions\n",
    "\n",
    "If things go wrong during the execution of the program(runtime). It generally happens when something unforeseen has happened.\n",
    "\n",
    "- Exceptions are raised by python runtime\n",
    "- You have to takle is on the fly\n",
    "\n",
    "#### **Examples**\n",
    "\n",
    "- Memory overflow\n",
    "- Divide by 0 -> logical error\n",
    "- Database error"
   ]
  },
  {
   "cell_type": "code",
   "execution_count": 31,
   "id": "5c63f850-30b9-4091-b18d-33cc143cee50",
   "metadata": {},
   "outputs": [],
   "source": [
    "# Why is it important to handle exceptions\n",
    "# how to handle exceptions\n",
    "# using-> Try except block"
   ]
  },
  {
   "cell_type": "code",
   "execution_count": 33,
   "id": "2e9c6c4e-b450-4991-9a1d-34381811603e",
   "metadata": {},
   "outputs": [],
   "source": [
    "# ye jo error aata hai usse Stacktrace bolte hain  --> stacktrace me sabse pahle bataya jata hai ki kno se type ka error hai and kya error hai wo \n",
    "# bataya jata and kon se line me error hai ye bhi batata hai\n",
    "\n",
    "# error ke handle karna jaruri hai qki iss tarah ka error user ko nahi dikhna chahaiye nahi to usse presani ho sakti hai and second is for security\n",
    "# purpose iss tarah ke error me saaf dikhta hai ki kon se line pe kon sa code likha hua hai"
   ]
  },
  {
   "cell_type": "code",
   "execution_count": null,
   "id": "40a69c5f-77d8-469d-80ee-20f5a46fe548",
   "metadata": {},
   "outputs": [],
   "source": []
  },
  {
   "cell_type": "code",
   "execution_count": 36,
   "id": "b3a08e3a-239f-4a4b-a286-3555abd02f68",
   "metadata": {},
   "outputs": [],
   "source": [
    "# let's create a file\n",
    "with open('sample.txt','w') as f:\n",
    "  f.write('hello world')"
   ]
  },
  {
   "cell_type": "code",
   "execution_count": 38,
   "id": "b995a591-53f2-4328-80e5-b3ada2c57ddb",
   "metadata": {},
   "outputs": [
    {
     "name": "stdout",
     "output_type": "stream",
     "text": [
      "hello world\n"
     ]
    }
   ],
   "source": [
    "# try catct demo\n",
    "with open('sample.txt','r') as f:\n",
    "  print(f.read())"
   ]
  },
  {
   "cell_type": "code",
   "execution_count": 40,
   "id": "ec05add8-6234-43ac-8beb-598111daae31",
   "metadata": {},
   "outputs": [],
   "source": [
    "# jab bhi aap kuch external chizo ko aone code me laa rahe ho (like koi file, database connection, bluetooth connection etc) to aap exception\n",
    "# hendle karte ho\n"
   ]
  },
  {
   "cell_type": "code",
   "execution_count": 42,
   "id": "2cc1406b-67b8-4318-96a3-d97a006b8283",
   "metadata": {},
   "outputs": [
    {
     "ename": "FileNotFoundError",
     "evalue": "[Errno 2] No such file or directory: 'sample1.txt'",
     "output_type": "error",
     "traceback": [
      "\u001b[1;31m---------------------------------------------------------------------------\u001b[0m",
      "\u001b[1;31mFileNotFoundError\u001b[0m                         Traceback (most recent call last)",
      "Cell \u001b[1;32mIn[42], line 2\u001b[0m\n\u001b[0;32m      1\u001b[0m \u001b[38;5;66;03m# suppose ki koi file ka name koi sample se change karke sample1 kar dya\u001b[39;00m\n\u001b[1;32m----> 2\u001b[0m \u001b[38;5;28;01mwith\u001b[39;00m \u001b[38;5;28;43mopen\u001b[39;49m\u001b[43m(\u001b[49m\u001b[38;5;124;43m'\u001b[39;49m\u001b[38;5;124;43msample1.txt\u001b[39;49m\u001b[38;5;124;43m'\u001b[39;49m\u001b[43m,\u001b[49m\u001b[38;5;124;43m'\u001b[39;49m\u001b[38;5;124;43mr\u001b[39;49m\u001b[38;5;124;43m'\u001b[39;49m\u001b[43m)\u001b[49m \u001b[38;5;28;01mas\u001b[39;00m f:\n\u001b[0;32m      3\u001b[0m   \u001b[38;5;28mprint\u001b[39m(f\u001b[38;5;241m.\u001b[39mread())\n",
      "File \u001b[1;32m~\\AppData\\Roaming\\Python\\Python312\\site-packages\\IPython\\core\\interactiveshell.py:324\u001b[0m, in \u001b[0;36m_modified_open\u001b[1;34m(file, *args, **kwargs)\u001b[0m\n\u001b[0;32m    317\u001b[0m \u001b[38;5;28;01mif\u001b[39;00m file \u001b[38;5;129;01min\u001b[39;00m {\u001b[38;5;241m0\u001b[39m, \u001b[38;5;241m1\u001b[39m, \u001b[38;5;241m2\u001b[39m}:\n\u001b[0;32m    318\u001b[0m     \u001b[38;5;28;01mraise\u001b[39;00m \u001b[38;5;167;01mValueError\u001b[39;00m(\n\u001b[0;32m    319\u001b[0m         \u001b[38;5;124mf\u001b[39m\u001b[38;5;124m\"\u001b[39m\u001b[38;5;124mIPython won\u001b[39m\u001b[38;5;124m'\u001b[39m\u001b[38;5;124mt let you open fd=\u001b[39m\u001b[38;5;132;01m{\u001b[39;00mfile\u001b[38;5;132;01m}\u001b[39;00m\u001b[38;5;124m by default \u001b[39m\u001b[38;5;124m\"\u001b[39m\n\u001b[0;32m    320\u001b[0m         \u001b[38;5;124m\"\u001b[39m\u001b[38;5;124mas it is likely to crash IPython. If you know what you are doing, \u001b[39m\u001b[38;5;124m\"\u001b[39m\n\u001b[0;32m    321\u001b[0m         \u001b[38;5;124m\"\u001b[39m\u001b[38;5;124myou can use builtins\u001b[39m\u001b[38;5;124m'\u001b[39m\u001b[38;5;124m open.\u001b[39m\u001b[38;5;124m\"\u001b[39m\n\u001b[0;32m    322\u001b[0m     )\n\u001b[1;32m--> 324\u001b[0m \u001b[38;5;28;01mreturn\u001b[39;00m \u001b[43mio_open\u001b[49m\u001b[43m(\u001b[49m\u001b[43mfile\u001b[49m\u001b[43m,\u001b[49m\u001b[43m \u001b[49m\u001b[38;5;241;43m*\u001b[39;49m\u001b[43margs\u001b[49m\u001b[43m,\u001b[49m\u001b[43m \u001b[49m\u001b[38;5;241;43m*\u001b[39;49m\u001b[38;5;241;43m*\u001b[39;49m\u001b[43mkwargs\u001b[49m\u001b[43m)\u001b[49m\n",
      "\u001b[1;31mFileNotFoundError\u001b[0m: [Errno 2] No such file or directory: 'sample1.txt'"
     ]
    }
   ],
   "source": [
    "# suppose ki koi file ka name koi sample se change karke sample1 kar dya\n",
    "with open('sample1.txt','r') as f:\n",
    "  print(f.read())\n",
    "\n"
   ]
  },
  {
   "cell_type": "code",
   "execution_count": 44,
   "id": "abebeb89-da73-4370-8105-ab85878d36ff",
   "metadata": {},
   "outputs": [
    {
     "name": "stdout",
     "output_type": "stream",
     "text": [
      "hello world\n"
     ]
    }
   ],
   "source": [
    "# ye ajib saa error aayega to aaisi error user ko nn dikhee to hum exception ko handle karte hain\n",
    "try:\n",
    "    with open('sample.txt','r') as f:\n",
    "      print(f.read())\n",
    "except:\n",
    "    print('sorry file not found')"
   ]
  },
  {
   "cell_type": "code",
   "execution_count": 46,
   "id": "11788845-2754-45b9-818a-84d7bff903bd",
   "metadata": {},
   "outputs": [
    {
     "name": "stdout",
     "output_type": "stream",
     "text": [
      "sorry file not found\n"
     ]
    }
   ],
   "source": [
    "try:\n",
    "    with open('sample1.txt','r') as f:\n",
    "      print(f.read())\n",
    "except:\n",
    "    print('sorry file not found')"
   ]
  },
  {
   "cell_type": "code",
   "execution_count": 48,
   "id": "b7692451-339d-4e75-b44f-7850da9a28de",
   "metadata": {},
   "outputs": [],
   "source": [
    "# abhi aap dekhoge ki koi error nahi aaya but ek pyara sa msg aaya hai"
   ]
  },
  {
   "cell_type": "code",
   "execution_count": 50,
   "id": "99850b46-e7d1-4607-bf59-18f333b3b3f5",
   "metadata": {},
   "outputs": [
    {
     "name": "stdout",
     "output_type": "stream",
     "text": [
      "some error occured\n"
     ]
    }
   ],
   "source": [
    "# catching specific exception\n",
    "try : \n",
    "    f=open('sample1.txt','r')\n",
    "    print(f.read())\n",
    "    print(m)\n",
    "\n",
    "except:\n",
    "    print('some error occured')"
   ]
  },
  {
   "cell_type": "code",
   "execution_count": 52,
   "id": "936ecbdc-8a12-47b4-a0e3-e0243f27a83e",
   "metadata": {},
   "outputs": [
    {
     "name": "stdout",
     "output_type": "stream",
     "text": [
      "hello world\n",
      "some error occured\n"
     ]
    }
   ],
   "source": [
    "# try ke andar gya and first line pe hi error to except ko print kara dya\n",
    "try : \n",
    "    f=open('sample.txt','r')\n",
    "    print(f.read())\n",
    "    print(m)\n",
    "\n",
    "except:\n",
    "    print('some error occured')"
   ]
  },
  {
   "cell_type": "code",
   "execution_count": 54,
   "id": "9876179e-6ce7-482d-a33a-67167c2b6e4e",
   "metadata": {},
   "outputs": [],
   "source": [
    "# abhi try ke andar gya and 3rd line pe error qki koi m name ka variable hai hi nahi to 1st 2nd line to execute ho jayega but \n",
    "# 3rd line ke karan except ka code bhi run hoga"
   ]
  },
  {
   "cell_type": "code",
   "execution_count": 56,
   "id": "c633c307-519b-41d9-8969-bec4f42c1f0c",
   "metadata": {},
   "outputs": [],
   "source": [
    "# ek baat socho as a user ki kya kabhi aap chahoge ki kuch bhi error aaye to aap humesa same message print kara rahe ho ofcourse not qki aapko samajh\n",
    "# me bhi aana chahaiye ki kya problem aa rahi hai taki proper understanding bane(matlab ki hume nature of error pata chale)\n",
    "\n"
   ]
  },
  {
   "cell_type": "code",
   "execution_count": 58,
   "id": "a74ae3d8-8280-4a0d-862a-9868e94c3f63",
   "metadata": {},
   "outputs": [
    {
     "name": "stdout",
     "output_type": "stream",
     "text": [
      "hello world\n",
      "name 'm' is not defined\n"
     ]
    }
   ],
   "source": [
    "try : \n",
    "    f=open('sample.txt','r')\n",
    "    print(f.read())\n",
    "    print(m)\n",
    "\n",
    "except Exception as e:\n",
    "    print(e)\n",
    "\n",
    "# abb kiss tarah ka error aa raha hai kuch kuch pata chal raha hai"
   ]
  },
  {
   "cell_type": "code",
   "execution_count": 60,
   "id": "5e2637b5-9cbe-4689-aa54-14d32eecdf57",
   "metadata": {},
   "outputs": [
    {
     "name": "stdout",
     "output_type": "stream",
     "text": [
      "[Errno 2] No such file or directory: 'sample1.txt'\n"
     ]
    }
   ],
   "source": [
    "try : \n",
    "    f=open('sample1.txt','r')\n",
    "    print(f.read())\n",
    "    print(m)\n",
    "\n",
    "except Exception as e:\n",
    "    print(e)"
   ]
  },
  {
   "cell_type": "code",
   "execution_count": 64,
   "id": "846d4bfe-a038-4c99-8fc0-217bd407cc78",
   "metadata": {},
   "outputs": [
    {
     "ename": "AttributeError",
     "evalue": "'FileNotFoundError' object has no attribute 'with_trackback'",
     "output_type": "error",
     "traceback": [
      "\u001b[1;31m---------------------------------------------------------------------------\u001b[0m",
      "\u001b[1;31mFileNotFoundError\u001b[0m                         Traceback (most recent call last)",
      "Cell \u001b[1;32mIn[64], line 2\u001b[0m\n\u001b[0;32m      1\u001b[0m \u001b[38;5;28;01mtry\u001b[39;00m : \n\u001b[1;32m----> 2\u001b[0m     f\u001b[38;5;241m=\u001b[39m\u001b[38;5;28;43mopen\u001b[39;49m\u001b[43m(\u001b[49m\u001b[38;5;124;43m'\u001b[39;49m\u001b[38;5;124;43msample1.txt\u001b[39;49m\u001b[38;5;124;43m'\u001b[39;49m\u001b[43m,\u001b[49m\u001b[38;5;124;43m'\u001b[39;49m\u001b[38;5;124;43mr\u001b[39;49m\u001b[38;5;124;43m'\u001b[39;49m\u001b[43m)\u001b[49m\n\u001b[0;32m      3\u001b[0m     \u001b[38;5;28mprint\u001b[39m(f\u001b[38;5;241m.\u001b[39mread())\n",
      "File \u001b[1;32m~\\AppData\\Roaming\\Python\\Python312\\site-packages\\IPython\\core\\interactiveshell.py:324\u001b[0m, in \u001b[0;36m_modified_open\u001b[1;34m(file, *args, **kwargs)\u001b[0m\n\u001b[0;32m    318\u001b[0m     \u001b[38;5;28;01mraise\u001b[39;00m \u001b[38;5;167;01mValueError\u001b[39;00m(\n\u001b[0;32m    319\u001b[0m         \u001b[38;5;124mf\u001b[39m\u001b[38;5;124m\"\u001b[39m\u001b[38;5;124mIPython won\u001b[39m\u001b[38;5;124m'\u001b[39m\u001b[38;5;124mt let you open fd=\u001b[39m\u001b[38;5;132;01m{\u001b[39;00mfile\u001b[38;5;132;01m}\u001b[39;00m\u001b[38;5;124m by default \u001b[39m\u001b[38;5;124m\"\u001b[39m\n\u001b[0;32m    320\u001b[0m         \u001b[38;5;124m\"\u001b[39m\u001b[38;5;124mas it is likely to crash IPython. If you know what you are doing, \u001b[39m\u001b[38;5;124m\"\u001b[39m\n\u001b[0;32m    321\u001b[0m         \u001b[38;5;124m\"\u001b[39m\u001b[38;5;124myou can use builtins\u001b[39m\u001b[38;5;124m'\u001b[39m\u001b[38;5;124m open.\u001b[39m\u001b[38;5;124m\"\u001b[39m\n\u001b[0;32m    322\u001b[0m     )\n\u001b[1;32m--> 324\u001b[0m \u001b[38;5;28;01mreturn\u001b[39;00m \u001b[43mio_open\u001b[49m\u001b[43m(\u001b[49m\u001b[43mfile\u001b[49m\u001b[43m,\u001b[49m\u001b[43m \u001b[49m\u001b[38;5;241;43m*\u001b[39;49m\u001b[43margs\u001b[49m\u001b[43m,\u001b[49m\u001b[43m \u001b[49m\u001b[38;5;241;43m*\u001b[39;49m\u001b[38;5;241;43m*\u001b[39;49m\u001b[43mkwargs\u001b[49m\u001b[43m)\u001b[49m\n",
      "\u001b[1;31mFileNotFoundError\u001b[0m: [Errno 2] No such file or directory: 'sample1.txt'",
      "\nDuring handling of the above exception, another exception occurred:\n",
      "\u001b[1;31mAttributeError\u001b[0m                            Traceback (most recent call last)",
      "Cell \u001b[1;32mIn[64], line 7\u001b[0m\n\u001b[0;32m      4\u001b[0m     \u001b[38;5;28mprint\u001b[39m(m)\n\u001b[0;32m      6\u001b[0m \u001b[38;5;28;01mexcept\u001b[39;00m \u001b[38;5;167;01mException\u001b[39;00m \u001b[38;5;28;01mas\u001b[39;00m e:\n\u001b[1;32m----> 7\u001b[0m     \u001b[38;5;28mprint\u001b[39m(\u001b[43me\u001b[49m\u001b[38;5;241;43m.\u001b[39;49m\u001b[43mwith_trackback\u001b[49m)\n\u001b[0;32m      9\u001b[0m \u001b[38;5;66;03m# isse aap proper error name type check kar sakte ho \u001b[39;00m\n",
      "\u001b[1;31mAttributeError\u001b[0m: 'FileNotFoundError' object has no attribute 'with_trackback'"
     ]
    }
   ],
   "source": [
    "try : \n",
    "    f=open('sample1.txt','r')\n",
    "    print(f.read())\n",
    "    print(m)\n",
    "\n",
    "except Exception as e:\n",
    "    print(e.with_trackback)\n",
    "\n",
    "# isse aap proper error name type check kar sakte ho "
   ]
  },
  {
   "cell_type": "code",
   "execution_count": 66,
   "id": "ed141a69-a2df-4997-b18d-4e07e6c23ab8",
   "metadata": {},
   "outputs": [
    {
     "name": "stdout",
     "output_type": "stream",
     "text": [
      "hello world\n"
     ]
    },
    {
     "ename": "AttributeError",
     "evalue": "'NameError' object has no attribute 'with_trackback'",
     "output_type": "error",
     "traceback": [
      "\u001b[1;31m---------------------------------------------------------------------------\u001b[0m",
      "\u001b[1;31mNameError\u001b[0m                                 Traceback (most recent call last)",
      "Cell \u001b[1;32mIn[66], line 4\u001b[0m\n\u001b[0;32m      3\u001b[0m     \u001b[38;5;28mprint\u001b[39m(f\u001b[38;5;241m.\u001b[39mread())\n\u001b[1;32m----> 4\u001b[0m     \u001b[38;5;28mprint\u001b[39m(\u001b[43mm\u001b[49m)\n\u001b[0;32m      6\u001b[0m \u001b[38;5;28;01mexcept\u001b[39;00m \u001b[38;5;167;01mException\u001b[39;00m \u001b[38;5;28;01mas\u001b[39;00m e:\n",
      "\u001b[1;31mNameError\u001b[0m: name 'm' is not defined",
      "\nDuring handling of the above exception, another exception occurred:\n",
      "\u001b[1;31mAttributeError\u001b[0m                            Traceback (most recent call last)",
      "Cell \u001b[1;32mIn[66], line 7\u001b[0m\n\u001b[0;32m      4\u001b[0m     \u001b[38;5;28mprint\u001b[39m(m)\n\u001b[0;32m      6\u001b[0m \u001b[38;5;28;01mexcept\u001b[39;00m \u001b[38;5;167;01mException\u001b[39;00m \u001b[38;5;28;01mas\u001b[39;00m e:\n\u001b[1;32m----> 7\u001b[0m     \u001b[38;5;28mprint\u001b[39m(\u001b[43me\u001b[49m\u001b[38;5;241;43m.\u001b[39;49m\u001b[43mwith_trackback\u001b[49m)\n",
      "\u001b[1;31mAttributeError\u001b[0m: 'NameError' object has no attribute 'with_trackback'"
     ]
    }
   ],
   "source": [
    "try : \n",
    "    f=open('sample.txt','r')\n",
    "    print(f.read())\n",
    "    print(m)\n",
    "\n",
    "except Exception as e:\n",
    "    print(e.with_trackback)"
   ]
  },
  {
   "cell_type": "code",
   "execution_count": 68,
   "id": "5fe9f592-ed6f-454f-8f93-3b09f10defe0",
   "metadata": {},
   "outputs": [
    {
     "name": "stdout",
     "output_type": "stream",
     "text": [
      "file not found\n"
     ]
    }
   ],
   "source": [
    "try : \n",
    "    f=open('sample1.txt','r')\n",
    "    print(f.read())\n",
    "    print(m)\n",
    "except FileNotFoundError:\n",
    "    print('file not found')\n",
    "except NameError:\n",
    "    print('variable not defined')"
   ]
  },
  {
   "cell_type": "code",
   "execution_count": 70,
   "id": "c3bf9c58-cdcd-448a-af79-cdac12dd8281",
   "metadata": {},
   "outputs": [
    {
     "name": "stdout",
     "output_type": "stream",
     "text": [
      "hello world\n",
      "variable not defined\n"
     ]
    }
   ],
   "source": [
    "try : \n",
    "    f=open('sample.txt','r')\n",
    "    print(f.read())\n",
    "    print(m)\n",
    "except FileNotFoundError:\n",
    "    print('file not found')\n",
    "except NameError:\n",
    "    print('variable not defined')"
   ]
  },
  {
   "cell_type": "code",
   "execution_count": 72,
   "id": "c6432789-b784-4da9-b22f-8ed33d2fd8a3",
   "metadata": {},
   "outputs": [
    {
     "name": "stdout",
     "output_type": "stream",
     "text": [
      "hello world\n",
      "5\n"
     ]
    },
    {
     "ename": "AttributeError",
     "evalue": "'ZeroDivisionError' object has no attribute 'with_trackback'",
     "output_type": "error",
     "traceback": [
      "\u001b[1;31m---------------------------------------------------------------------------\u001b[0m",
      "\u001b[1;31mZeroDivisionError\u001b[0m                         Traceback (most recent call last)",
      "Cell \u001b[1;32mIn[72], line 6\u001b[0m\n\u001b[0;32m      5\u001b[0m     \u001b[38;5;28mprint\u001b[39m(m)\n\u001b[1;32m----> 6\u001b[0m     \u001b[38;5;28mprint\u001b[39m(\u001b[38;5;241;43m5\u001b[39;49m\u001b[38;5;241;43m/\u001b[39;49m\u001b[38;5;241;43m0\u001b[39;49m)\n\u001b[0;32m      7\u001b[0m \u001b[38;5;28;01mexcept\u001b[39;00m \u001b[38;5;167;01mFileNotFoundError\u001b[39;00m:\n",
      "\u001b[1;31mZeroDivisionError\u001b[0m: division by zero",
      "\nDuring handling of the above exception, another exception occurred:\n",
      "\u001b[1;31mAttributeError\u001b[0m                            Traceback (most recent call last)",
      "Cell \u001b[1;32mIn[72], line 12\u001b[0m\n\u001b[0;32m     10\u001b[0m     \u001b[38;5;28mprint\u001b[39m(\u001b[38;5;124m'\u001b[39m\u001b[38;5;124mvariable not defined\u001b[39m\u001b[38;5;124m'\u001b[39m)\n\u001b[0;32m     11\u001b[0m \u001b[38;5;28;01mexcept\u001b[39;00m \u001b[38;5;167;01mException\u001b[39;00m \u001b[38;5;28;01mas\u001b[39;00m e:\n\u001b[1;32m---> 12\u001b[0m     \u001b[38;5;28mprint\u001b[39m(\u001b[43me\u001b[49m\u001b[38;5;241;43m.\u001b[39;49m\u001b[43mwith_trackback\u001b[49m)\n",
      "\u001b[1;31mAttributeError\u001b[0m: 'ZeroDivisionError' object has no attribute 'with_trackback'"
     ]
    }
   ],
   "source": [
    "try : \n",
    "    m=5\n",
    "    f=open('sample.txt','r')\n",
    "    print(f.read())\n",
    "    print(m)\n",
    "    print(5/0)\n",
    "except FileNotFoundError:\n",
    "    print('file not found')\n",
    "except NameError:\n",
    "    print('variable not defined')\n",
    "except Exception as e:\n",
    "    print(e.with_trackback)"
   ]
  },
  {
   "cell_type": "code",
   "execution_count": 80,
   "id": "3f8d1645-c87a-4ea0-b3f5-e1131a8a420a",
   "metadata": {},
   "outputs": [
    {
     "name": "stdout",
     "output_type": "stream",
     "text": [
      "hello world\n",
      "5\n",
      "can't devide by zero\n"
     ]
    }
   ],
   "source": [
    "try : \n",
    "    m=5\n",
    "    f=open('sample.txt','r')\n",
    "    print(f.read())\n",
    "    print(m)\n",
    "    print(5/0)\n",
    "except FileNotFoundError:\n",
    "    print('file not found')\n",
    "except NameError:\n",
    "    print('variable not defined')\n",
    "except ZeroDivisionError:\n",
    "    print(\"can't devide by zero\")\n",
    "\n"
   ]
  },
  {
   "cell_type": "code",
   "execution_count": 82,
   "id": "ab953eeb-ea14-4ec8-b236-4a547f040774",
   "metadata": {},
   "outputs": [
    {
     "name": "stdout",
     "output_type": "stream",
     "text": [
      "hello world\n",
      "5\n",
      "2.5\n",
      "list index out of range\n"
     ]
    }
   ],
   "source": [
    "# aap ek  general except block bhi banate ho suppose agar kuch samajh nahi aa rha hai to wo print kara de(ye ek general line hai jo jitna hum \n",
    "# banaye hai exception handler usse match nahi ho raha hai to eo last bale me jo hai usse execute kara dega)\n",
    "try : \n",
    "    m=5\n",
    "    f=open('sample.txt','r')\n",
    "    print(f.read())\n",
    "    print(m)\n",
    "    print(5/2)\n",
    "    L = [1,2,3]\n",
    "    L[100]\n",
    "except FileNotFoundError:\n",
    "    print('file not found')\n",
    "except NameError:\n",
    "    print('variable not defined')\n",
    "except ZeroDivisionError:\n",
    "    print(\"can't devide by zero\")\n",
    "\n",
    "except Exception as e:\n",
    "    print(e)\n",
    "\n",
    "# generic message humesa last me likhna chahaiye otherwise ye overtake kar lega"
   ]
  },
  {
   "cell_type": "code",
   "execution_count": 84,
   "id": "6fe19e66-4e32-4947-a4c0-ff790fe147d0",
   "metadata": {},
   "outputs": [
    {
     "name": "stdout",
     "output_type": "stream",
     "text": [
      "hello world\n"
     ]
    }
   ],
   "source": [
    "# else\n",
    "try:\n",
    "    f=open('sample.txt','r')\n",
    "except FileNotFoundError:\n",
    "    print('file nahi mili')\n",
    "except Exception:\n",
    "    print('Kuch to lafda hai')\n",
    "\n",
    "else:\n",
    "    print(f.read())\n",
    "\n",
    "\n",
    "# else me wo code likha jata hai jiske bare me aap super sure ho ki ye code fatne bala nahi hai and else tabhi execute hoga jabki koi bhi except block\n",
    "# execute nahi hoga"
   ]
  },
  {
   "cell_type": "code",
   "execution_count": 86,
   "id": "04c27b2a-f6ff-4ac1-8ec7-36058bb75677",
   "metadata": {},
   "outputs": [
    {
     "name": "stdout",
     "output_type": "stream",
     "text": [
      "file nahi mili\n"
     ]
    }
   ],
   "source": [
    "try:\n",
    "    f=open('sample1.txt','r')\n",
    "except FileNotFoundError:\n",
    "    print('file nahi mili')\n",
    "except Exception:\n",
    "    print('Kuch to lafda hai')\n",
    "\n",
    "else:\n",
    "    print(f.read())"
   ]
  },
  {
   "cell_type": "code",
   "execution_count": 88,
   "id": "8d11a9e2-b1a4-41f6-9b67-29cbae53e81d",
   "metadata": {},
   "outputs": [
    {
     "name": "stdout",
     "output_type": "stream",
     "text": [
      "hello world\n",
      "ye to print hoga hi\n"
     ]
    }
   ],
   "source": [
    "# finally  -> kuch bhi ho finally to execute hoga hi\n",
    "\n",
    "try:\n",
    "  f = open('sample.txt','r')\n",
    "except FileNotFoundError:\n",
    "  print('file nai mili')\n",
    "except Exception:\n",
    "  print('kuch to lafda hai')\n",
    "else:\n",
    "  print(f.read())\n",
    "finally:\n",
    "  print('ye to print hoga hi')"
   ]
  },
  {
   "cell_type": "code",
   "execution_count": 90,
   "id": "6e97a367-a117-41f3-b43a-3f1882cab1de",
   "metadata": {},
   "outputs": [
    {
     "name": "stdout",
     "output_type": "stream",
     "text": [
      "file nai mili\n",
      "ye to print hoga hi\n"
     ]
    }
   ],
   "source": [
    "try:\n",
    "  f = open('sample1.txt','r')\n",
    "except FileNotFoundError:\n",
    "  print('file nai mili')\n",
    "except Exception:\n",
    "  print('kuch to lafda hai')\n",
    "else:\n",
    "  print(f.read())\n",
    "finally:\n",
    "  print('ye to print hoga hi')"
   ]
  },
  {
   "cell_type": "code",
   "execution_count": 92,
   "id": "c260d1ac-931c-4f5b-b2d3-c9c4ce373175",
   "metadata": {},
   "outputs": [],
   "source": [
    "# geenerally finally ke andar wo kaam karte hai jo ki hume har haal me karna hi hai chahae exception aaye ya phir nahi aaye\n",
    "# like databse connectivity ko band karna , socket connection ko band karna hai etc."
   ]
  },
  {
   "cell_type": "code",
   "execution_count": 94,
   "id": "882cb52f-61c5-42db-b926-7a2b713df4d1",
   "metadata": {},
   "outputs": [],
   "source": [
    "# raise Exception\n",
    "# In Python programming, exceptions are raised when errors occur at runtime. \n",
    "# We can also manually raise exceptions using the raise keyword.\n",
    "\n",
    "# We can optionally pass values to the exception to clarify why that exception was raised"
   ]
  },
  {
   "cell_type": "code",
   "execution_count": 96,
   "id": "299a65e3-0c6e-4536-9b51-01cfd2bef32e",
   "metadata": {},
   "outputs": [
    {
     "ename": "NameError",
     "evalue": "",
     "output_type": "error",
     "traceback": [
      "\u001b[1;31m---------------------------------------------------------------------------\u001b[0m",
      "\u001b[1;31mNameError\u001b[0m                                 Traceback (most recent call last)",
      "Cell \u001b[1;32mIn[96], line 1\u001b[0m\n\u001b[1;32m----> 1\u001b[0m \u001b[38;5;28;01mraise\u001b[39;00m \u001b[38;5;167;01mNameError\u001b[39;00m\n",
      "\u001b[1;31mNameError\u001b[0m: "
     ]
    }
   ],
   "source": [
    "raise NameError"
   ]
  },
  {
   "cell_type": "code",
   "execution_count": 98,
   "id": "704fe15d-c219-4ee7-a726-d74be1debc08",
   "metadata": {},
   "outputs": [
    {
     "ename": "NameError",
     "evalue": "aaise hi try kar raha hu",
     "output_type": "error",
     "traceback": [
      "\u001b[1;31m---------------------------------------------------------------------------\u001b[0m",
      "\u001b[1;31mNameError\u001b[0m                                 Traceback (most recent call last)",
      "Cell \u001b[1;32mIn[98], line 2\u001b[0m\n\u001b[0;32m      1\u001b[0m \u001b[38;5;66;03m# hum manullay ek error kisi bhi time pe throw kara sakte hain\u001b[39;00m\n\u001b[1;32m----> 2\u001b[0m \u001b[38;5;28;01mraise\u001b[39;00m \u001b[38;5;167;01mNameError\u001b[39;00m(\u001b[38;5;124m'\u001b[39m\u001b[38;5;124maaise hi try kar raha hu\u001b[39m\u001b[38;5;124m'\u001b[39m)\n",
      "\u001b[1;31mNameError\u001b[0m: aaise hi try kar raha hu"
     ]
    }
   ],
   "source": [
    "# hum manullay ek error kahi pe ,kisi bhi time pe   throw kara sakte hain\n",
    "raise NameError('aaise hi try kar raha hu')"
   ]
  },
  {
   "cell_type": "code",
   "execution_count": 100,
   "id": "245935f9-d293-4b1b-abc6-2c62c459c0f7",
   "metadata": {},
   "outputs": [
    {
     "ename": "NameError",
     "evalue": "name 'abc' is not defined",
     "output_type": "error",
     "traceback": [
      "\u001b[1;31m---------------------------------------------------------------------------\u001b[0m",
      "\u001b[1;31mNameError\u001b[0m                                 Traceback (most recent call last)",
      "Cell \u001b[1;32mIn[100], line 1\u001b[0m\n\u001b[1;32m----> 1\u001b[0m \u001b[38;5;28;01mraise\u001b[39;00m \u001b[43mabc\u001b[49m(\u001b[38;5;124m'\u001b[39m\u001b[38;5;124maaise hi try kar raha hu\u001b[39m\u001b[38;5;124m'\u001b[39m)\n",
      "\u001b[1;31mNameError\u001b[0m: name 'abc' is not defined"
     ]
    }
   ],
   "source": [
    "raise abc('aaise hi try kar raha hu')\n",
    "# abc koi proper error type nahi hai so ye kaam nahi karega"
   ]
  },
  {
   "cell_type": "code",
   "execution_count": 102,
   "id": "f6b5eb1e-95a0-4ddf-8669-450a387fdee1",
   "metadata": {},
   "outputs": [
    {
     "ename": "FileNotFoundError",
     "evalue": "aaise hi try kar raha hu",
     "output_type": "error",
     "traceback": [
      "\u001b[1;31m---------------------------------------------------------------------------\u001b[0m",
      "\u001b[1;31mFileNotFoundError\u001b[0m                         Traceback (most recent call last)",
      "Cell \u001b[1;32mIn[102], line 1\u001b[0m\n\u001b[1;32m----> 1\u001b[0m \u001b[38;5;28;01mraise\u001b[39;00m \u001b[38;5;167;01mFileNotFoundError\u001b[39;00m(\u001b[38;5;124m'\u001b[39m\u001b[38;5;124maaise hi try kar raha hu\u001b[39m\u001b[38;5;124m'\u001b[39m)\n",
      "\u001b[1;31mFileNotFoundError\u001b[0m: aaise hi try kar raha hu"
     ]
    }
   ],
   "source": [
    "raise FileNotFoundError('aaise hi try kar raha hu')"
   ]
  },
  {
   "cell_type": "code",
   "execution_count": 104,
   "id": "d05090e3-7581-4923-993e-da7b6f6fe299",
   "metadata": {},
   "outputs": [],
   "source": [
    "# kya fayda --->   raise ek error throw karta hai and except usse handle karta hai\n",
    "\n",
    "# python   c++    \n",
    "#  try   -> try\n",
    "# except --> catch\n",
    "# raise --> throw"
   ]
  },
  {
   "cell_type": "code",
   "execution_count": 106,
   "id": "5d09bd71-1c76-4d1f-a9bc-b6ac8ba0ad9a",
   "metadata": {},
   "outputs": [
    {
     "name": "stdout",
     "output_type": "stream",
     "text": [
      "5000\n"
     ]
    }
   ],
   "source": [
    "class Bank:\n",
    "\n",
    "  def __init__(self,balance):\n",
    "    self.balance = balance\n",
    "\n",
    "  def withdraw(self,amount):\n",
    "    if amount < 0:\n",
    "      raise Exception('amount cannot be -ve')\n",
    "    if self.balance < amount:\n",
    "      raise Exception('paise nai hai tere paas')\n",
    "    self.balance = self.balance - amount\n",
    "\n",
    "obj = Bank(10000)\n",
    "try:\n",
    "  obj.withdraw(5000)\n",
    "except Exception as e:\n",
    "  print(e)\n",
    "else:\n",
    "  print(obj.balance)\n",
    "\n",
    "# jitne bhi error occur hote hain wo sab ek class hota hai and class ke andar se jo raise exception create karega wo ek object hoga jo ki class ke baha\n",
    "# except ko milega"
   ]
  },
  {
   "cell_type": "code",
   "execution_count": 108,
   "id": "bfc6bd86-2c77-44b1-97ad-f7cb406184cc",
   "metadata": {},
   "outputs": [
    {
     "name": "stdout",
     "output_type": "stream",
     "text": [
      "amount cannot be -ve\n"
     ]
    }
   ],
   "source": [
    "class Bank:\n",
    "\n",
    "  def __init__(self,balance):\n",
    "    self.balance = balance\n",
    "\n",
    "  def withdraw(self,amount):\n",
    "    if amount < 0:\n",
    "      raise Exception('amount cannot be -ve')\n",
    "    if self.balance < amount:\n",
    "      raise Exception('paise nai hai tere paas')\n",
    "    self.balance = self.balance - amount\n",
    "\n",
    "obj = Bank(10000)\n",
    "try:\n",
    "  obj.withdraw(-5000)\n",
    "except Exception as e:\n",
    "  print(e)\n",
    "else:\n",
    "  print(obj.balance)"
   ]
  },
  {
   "cell_type": "code",
   "execution_count": 110,
   "id": "5955adaa-48d7-4786-a034-525eaaebe837",
   "metadata": {},
   "outputs": [
    {
     "name": "stdout",
     "output_type": "stream",
     "text": [
      "paise nai hai tere paas\n"
     ]
    }
   ],
   "source": [
    "class Bank:\n",
    "\n",
    "  def __init__(self,balance):\n",
    "    self.balance = balance\n",
    "\n",
    "  def withdraw(self,amount):\n",
    "    if amount < 0:\n",
    "      raise Exception('amount cannot be -ve')\n",
    "    if self.balance < amount:\n",
    "      raise Exception('paise nai hai tere paas')\n",
    "    self.balance = self.balance - amount\n",
    "\n",
    "obj = Bank(10000)\n",
    "try:\n",
    "  obj.withdraw(15000)\n",
    "except Exception as e:\n",
    "  print(e)\n",
    "else:\n",
    "  print(obj.balance)"
   ]
  },
  {
   "cell_type": "code",
   "execution_count": 112,
   "id": "c4c0b7c8-aea4-42bd-baed-b78f47e8a61c",
   "metadata": {},
   "outputs": [],
   "source": [
    "\n",
    "# creating custom exceptions  (abhi tak sare exception wo aa rahe the jo ki predefined hai aap custom bhi create kar sakte ho)\n",
    "# search on google (exception hierarchy in python) and go on image section"
   ]
  },
  {
   "attachments": {
    "73f9512b-f9ca-485f-8fd0-c37001a429ce.png": {
     "image/png": "[encoded data removed]"
    }
   },
   "cell_type": "markdown",
   "id": "0bcd8546-694d-4c3f-9dd6-88c4e33f9bb5",
   "metadata": {},
   "source": [
    "![image.png](attachment:73f9512b-f9ca-485f-8fd0-c37001a429ce.png)"
   ]
  },
  {
   "cell_type": "code",
   "execution_count": 117,
   "id": "4cf0a959-dbdc-4ee8-8ea0-4b2fe0cb0830",
   "metadata": {},
   "outputs": [
    {
     "name": "stdout",
     "output_type": "stream",
     "text": [
      "amount cannot be -ve\n"
     ]
    }
   ],
   "source": [
    "# aap apna custom exception class create kar sakte ho and usse use kar sakte ho\\\n",
    "# jab aap apna exception class create karte ho to usse main exception class se inherit karna hota hai\n",
    "class MyException(Exception):\n",
    "    def __init__(self,message):\n",
    "        print(message)\n",
    "        \n",
    "\n",
    "    \n",
    "class Bank:\n",
    "\n",
    "  def __init__(self,balance):\n",
    "    self.balance = balance\n",
    "\n",
    "  def withdraw(self,amount):\n",
    "    if amount < 0:\n",
    "      raise MyException('amount cannot be -ve')\n",
    "    if self.balance < amount:\n",
    "      raise MyException('paise nai hai tere paas')\n",
    "    self.balance = self.balance - amount\n",
    "\n",
    "obj = Bank(10000)\n",
    "try:\n",
    "  obj.withdraw(-5000)\n",
    "except MyException as e:\n",
    "  pass   # qki already humne MyException class me print kara dya hai\n",
    "else:\n",
    "  print(obj.balance)"
   ]
  },
  {
   "cell_type": "code",
   "execution_count": 2,
   "id": "b91bd34e-9218-4d13-b281-77a0e408da8f",
   "metadata": {},
   "outputs": [],
   "source": [
    "# kya fayda ye karne se "
   ]
  },
  {
   "cell_type": "code",
   "execution_count": 4,
   "id": "6177bb0b-9f30-468e-9bbd-d64daca0cd44",
   "metadata": {},
   "outputs": [
    {
     "name": "stdout",
     "output_type": "stream",
     "text": [
      "bhai teri to lag gayi\n",
      "logout\n",
      "database connection closed\n"
     ]
    }
   ],
   "source": [
    "class SecurityError(Exception):\n",
    "\n",
    "  def __init__(self,message):\n",
    "    print(message)\n",
    "\n",
    "  def logout(self):\n",
    "    print('logout')\n",
    "\n",
    "class Google:\n",
    "\n",
    "  def __init__(self,name,email,password,device):\n",
    "    self.name = name\n",
    "    self.email = email\n",
    "    self.password = password\n",
    "    self.device = device\n",
    "\n",
    "  def login(self,email,password,device):\n",
    "    if device != self.device:\n",
    "      raise SecurityError('bhai teri to lag gayi')\n",
    "    if email == self.email and password == self.password:\n",
    "      print('welcome')\n",
    "    else:\n",
    "      print('login error')\n",
    "\n",
    "\n",
    "\n",
    "obj = Google('nitish','nitish@gmail.com','1234','android')\n",
    "\n",
    "try:\n",
    "  obj.login('nitish@gmail.com','1234','windows')\n",
    "except SecurityError as e:\n",
    "  e.logout()\n",
    "else:\n",
    "  print(obj.name)\n",
    "finally:\n",
    "  print('database connection closed')\n",
    "\n"
   ]
  },
  {
   "cell_type": "code",
   "execution_count": null,
   "id": "2363ba0d-6065-49f7-9a92-b5f213cf88fd",
   "metadata": {},
   "outputs": [],
   "source": []
  }
 ],
 "metadata": {
  "kernelspec": {
   "display_name": "Python 3 (ipykernel)",
   "language": "python",
   "name": "python3"
  },
  "language_info": {
   "codemirror_mode": {
    "name": "ipython",
    "version": 3
   },
   "file_extension": ".py",
   "mimetype": "text/x-python",
   "name": "python",
   "nbconvert_exporter": "python",
   "pygments_lexer": "ipython3",
   "version": "3.12.7"
  }
 },
 "nbformat": 4,
 "nbformat_minor": 5
}
