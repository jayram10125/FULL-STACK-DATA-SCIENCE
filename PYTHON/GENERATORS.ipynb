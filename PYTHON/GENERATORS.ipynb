{
 "cells": [
  {
   "cell_type": "markdown",
   "id": "7dea026e-da85-4b8f-99bd-1772cd776d54",
   "metadata": {},
   "source": [
    "## What is a Generator\n",
    "\n",
    "Python generators are a simple way of creating iterators."
   ]
  },
  {
   "cell_type": "code",
   "execution_count": 3,
   "id": "2eaf4ad3-409d-479c-9d36-f11978aa6db9",
   "metadata": {},
   "outputs": [],
   "source": [
    "# iterable\n",
    "class mera_range:\n",
    "    def __init__ (self,start,end):\n",
    "        self.start=start\n",
    "        self.end=end\n",
    "\n",
    "    def __iter__(self):\n",
    "        return mera_range_iterator(self)\n",
    "\n",
    "#iterator\n",
    "class mera_range_iterator:\n",
    "    def __init__(self,iterable_obj):\n",
    "        self.iterable=iterable_obj\n",
    "        \n",
    "    def __iter__(self):\n",
    "        return self\n",
    "        \n",
    "    def __next__(self):\n",
    "\n",
    "        if self.iterable.start >= self.iterable.end:\n",
    "            raise StopIteration\n",
    "\n",
    "        current=self.iterable.start\n",
    "        self.iterable.start+=1\n",
    "        return current "
   ]
  },
  {
   "cell_type": "markdown",
   "id": "a03cb0df-2fae-4d8a-98a8-b1c872cd070f",
   "metadata": {},
   "source": [
    "## A simple Example of Generator"
   ]
  },
  {
   "cell_type": "code",
   "execution_count": 30,
   "id": "72b53651-ce71-4135-a303-4335e8ebe952",
   "metadata": {},
   "outputs": [],
   "source": [
    "def gen_demo():\n",
    "\n",
    "    yield \"First statement\"\n",
    "    yield \"second statement\"\n",
    "    yield \"third statement\"\n",
    "\n",
    "\n",
    "\n",
    "# normal function me return hota hai but generator me yield hota hai and there can be multiple yield statement "
   ]
  },
  {
   "cell_type": "code",
   "execution_count": 32,
   "id": "aa83957e-fe44-4aca-90a0-02c534967ce7",
   "metadata": {},
   "outputs": [
    {
     "name": "stdout",
     "output_type": "stream",
     "text": [
      "<generator object gen_demo at 0x0000025440121A60>\n"
     ]
    }
   ],
   "source": [
    "gen=gen_demo()\n",
    "print(gen)"
   ]
  },
  {
   "cell_type": "code",
   "execution_count": 34,
   "id": "78918ce5-102d-44c2-8bac-789a9048440c",
   "metadata": {},
   "outputs": [
    {
     "name": "stdout",
     "output_type": "stream",
     "text": [
      "First statement\n",
      "second statement\n",
      "third statement\n"
     ]
    },
    {
     "ename": "StopIteration",
     "evalue": "",
     "output_type": "error",
     "traceback": [
      "\u001b[1;31m---------------------------------------------------------------------------\u001b[0m",
      "\u001b[1;31mStopIteration\u001b[0m                             Traceback (most recent call last)",
      "Cell \u001b[1;32mIn[34], line 4\u001b[0m\n\u001b[0;32m      2\u001b[0m \u001b[38;5;28mprint\u001b[39m(\u001b[38;5;28mnext\u001b[39m(gen))\n\u001b[0;32m      3\u001b[0m \u001b[38;5;28mprint\u001b[39m(\u001b[38;5;28mnext\u001b[39m(gen))\n\u001b[1;32m----> 4\u001b[0m \u001b[38;5;28mprint\u001b[39m(\u001b[38;5;28;43mnext\u001b[39;49m\u001b[43m(\u001b[49m\u001b[43mgen\u001b[49m\u001b[43m)\u001b[49m)\n",
      "\u001b[1;31mStopIteration\u001b[0m: "
     ]
    }
   ],
   "source": [
    "print(next(gen))\n",
    "print(next(gen))\n",
    "print(next(gen))\n",
    "print(next(gen))"
   ]
  },
  {
   "cell_type": "code",
   "execution_count": 16,
   "id": "1ea8a534-c238-492e-b679-87cfd89f8850",
   "metadata": {},
   "outputs": [],
   "source": [
    "# jab aap call karte ho apni generator ko to wo palat ke ek generator object deta hai and aap uss generator object ke upar next \n",
    "# next laga ke item ko print kar sakte ho"
   ]
  },
  {
   "cell_type": "code",
   "execution_count": 36,
   "id": "8917b1a2-8ce6-4fc1-83f3-0d2ce4050444",
   "metadata": {},
   "outputs": [
    {
     "name": "stdout",
     "output_type": "stream",
     "text": [
      "First statement\n",
      "second statement\n",
      "third statement\n"
     ]
    }
   ],
   "source": [
    "gen=gen_demo()\n",
    "for i in gen:\n",
    "    print(i)"
   ]
  },
  {
   "cell_type": "markdown",
   "id": "6b4030b5-6fb4-4fb5-b6d9-a1da29410032",
   "metadata": {},
   "source": [
    "## python tutor Demo (yield vs return)"
   ]
  },
  {
   "cell_type": "markdown",
   "id": "741d7bff-3da8-4575-afbc-c89707ab6f73",
   "metadata": {},
   "source": [
    "## Example 2"
   ]
  },
  {
   "cell_type": "code",
   "execution_count": 40,
   "id": "87beb396-6718-4e61-94ae-2de53ccc379a",
   "metadata": {},
   "outputs": [],
   "source": [
    "def square(num):\n",
    "    for i in range(1,num+1):\n",
    "        yield i**2"
   ]
  },
  {
   "cell_type": "code",
   "execution_count": 48,
   "id": "117a87b6-bf73-4062-897e-8e17f808a477",
   "metadata": {},
   "outputs": [
    {
     "name": "stdout",
     "output_type": "stream",
     "text": [
      "1\n",
      "4\n",
      "9\n",
      "16\n",
      "25\n",
      "36\n",
      "49\n",
      "64\n",
      "81\n",
      "100\n"
     ]
    }
   ],
   "source": [
    "gen=square(10)\n",
    "\n",
    "print(next(gen))\n",
    "print(next(gen))\n",
    "print(next(gen))\n",
    "\n",
    "\n",
    "for i in  gen:\n",
    "    print(i)\n",
    "\n",
    "# aap dekhoge ki jab loop suru hua to wo 1 se suru nahi hua hai balki print statement jo 3 tak ka square print kara dya hai uske baad se suru hua hai"
   ]
  },
  {
   "cell_type": "markdown",
   "id": "b71ea692-6f19-4c6d-a77a-0463539d9f34",
   "metadata": {},
   "source": [
    "## Range Function using Generator"
   ]
  },
  {
   "cell_type": "code",
   "execution_count": 53,
   "id": "933e814c-69fa-4859-97de-c3ea10a5b395",
   "metadata": {},
   "outputs": [],
   "source": [
    "def mera_range(start,end):\n",
    "    for i in range(start,end):\n",
    "        yield i"
   ]
  },
  {
   "cell_type": "code",
   "execution_count": 62,
   "id": "0516d0bf-ab4a-41bc-ae89-e53ad85580c8",
   "metadata": {},
   "outputs": [
    {
     "name": "stdout",
     "output_type": "stream",
     "text": [
      "15\n",
      "16\n",
      "17\n",
      "18\n",
      "19\n",
      "20\n",
      "21\n",
      "22\n",
      "23\n",
      "24\n",
      "25\n"
     ]
    }
   ],
   "source": [
    "for i in mera_range(15,26):\n",
    "    print(i)"
   ]
  },
  {
   "cell_type": "markdown",
   "id": "0a0c84f8-afb4-48dc-836b-60fb09db63e2",
   "metadata": {},
   "source": [
    "## Generator Expression"
   ]
  },
  {
   "cell_type": "code",
   "execution_count": 65,
   "id": "752eb648-35ca-437c-9cda-c469704ff1c9",
   "metadata": {},
   "outputs": [
    {
     "data": {
      "text/plain": [
       "[1,\n",
       " 4,\n",
       " 9,\n",
       " 16,\n",
       " 25,\n",
       " 36,\n",
       " 49,\n",
       " 64,\n",
       " 81,\n",
       " 100,\n",
       " 121,\n",
       " 144,\n",
       " 169,\n",
       " 196,\n",
       " 225,\n",
       " 256,\n",
       " 289,\n",
       " 324,\n",
       " 361,\n",
       " 400,\n",
       " 441,\n",
       " 484,\n",
       " 529,\n",
       " 576,\n",
       " 625,\n",
       " 676,\n",
       " 729,\n",
       " 784,\n",
       " 841,\n",
       " 900,\n",
       " 961,\n",
       " 1024,\n",
       " 1089,\n",
       " 1156,\n",
       " 1225,\n",
       " 1296,\n",
       " 1369,\n",
       " 1444,\n",
       " 1521,\n",
       " 1600,\n",
       " 1681,\n",
       " 1764,\n",
       " 1849,\n",
       " 1936,\n",
       " 2025,\n",
       " 2116,\n",
       " 2209,\n",
       " 2304,\n",
       " 2401,\n",
       " 2500,\n",
       " 2601,\n",
       " 2704,\n",
       " 2809,\n",
       " 2916,\n",
       " 3025,\n",
       " 3136,\n",
       " 3249,\n",
       " 3364,\n",
       " 3481,\n",
       " 3600,\n",
       " 3721,\n",
       " 3844,\n",
       " 3969,\n",
       " 4096,\n",
       " 4225,\n",
       " 4356,\n",
       " 4489,\n",
       " 4624,\n",
       " 4761,\n",
       " 4900,\n",
       " 5041,\n",
       " 5184,\n",
       " 5329,\n",
       " 5476,\n",
       " 5625,\n",
       " 5776,\n",
       " 5929,\n",
       " 6084,\n",
       " 6241,\n",
       " 6400,\n",
       " 6561,\n",
       " 6724,\n",
       " 6889,\n",
       " 7056,\n",
       " 7225,\n",
       " 7396,\n",
       " 7569,\n",
       " 7744,\n",
       " 7921,\n",
       " 8100,\n",
       " 8281,\n",
       " 8464,\n",
       " 8649,\n",
       " 8836,\n",
       " 9025,\n",
       " 9216,\n",
       " 9409,\n",
       " 9604,\n",
       " 9801,\n",
       " 10000]"
      ]
     },
     "execution_count": 65,
     "metadata": {},
     "output_type": "execute_result"
    }
   ],
   "source": [
    "# list comprehension\n",
    "L=[i**2 for i in range (1,101)]\n",
    "L"
   ]
  },
  {
   "cell_type": "code",
   "execution_count": 69,
   "id": "5ab16dfe-1a55-44e7-b0fd-ad6afd1caa08",
   "metadata": {},
   "outputs": [
    {
     "name": "stdout",
     "output_type": "stream",
     "text": [
      "1\n",
      "4\n",
      "9\n",
      "16\n",
      "25\n",
      "36\n",
      "49\n",
      "64\n",
      "81\n",
      "100\n",
      "121\n",
      "144\n",
      "169\n",
      "196\n",
      "225\n",
      "256\n",
      "289\n",
      "324\n",
      "361\n",
      "400\n",
      "441\n",
      "484\n",
      "529\n",
      "576\n",
      "625\n",
      "676\n",
      "729\n",
      "784\n",
      "841\n",
      "900\n",
      "961\n",
      "1024\n",
      "1089\n",
      "1156\n",
      "1225\n",
      "1296\n",
      "1369\n",
      "1444\n",
      "1521\n",
      "1600\n",
      "1681\n",
      "1764\n",
      "1849\n",
      "1936\n",
      "2025\n",
      "2116\n",
      "2209\n",
      "2304\n",
      "2401\n",
      "2500\n",
      "2601\n",
      "2704\n",
      "2809\n",
      "2916\n",
      "3025\n",
      "3136\n",
      "3249\n",
      "3364\n",
      "3481\n",
      "3600\n",
      "3721\n",
      "3844\n",
      "3969\n",
      "4096\n",
      "4225\n",
      "4356\n",
      "4489\n",
      "4624\n",
      "4761\n",
      "4900\n",
      "5041\n",
      "5184\n",
      "5329\n",
      "5476\n",
      "5625\n",
      "5776\n",
      "5929\n",
      "6084\n",
      "6241\n",
      "6400\n",
      "6561\n",
      "6724\n",
      "6889\n",
      "7056\n",
      "7225\n",
      "7396\n",
      "7569\n",
      "7744\n",
      "7921\n",
      "8100\n",
      "8281\n",
      "8464\n",
      "8649\n",
      "8836\n",
      "9025\n",
      "9216\n",
      "9409\n",
      "9604\n",
      "9801\n",
      "10000\n"
     ]
    }
   ],
   "source": [
    "gen=(i**2 for i in range(1,101))\n",
    "\n",
    "for i in gen:\n",
    "    print(i)"
   ]
  },
  {
   "cell_type": "code",
   "execution_count": 71,
   "id": "80a5f6af-92c5-4bf1-8be9-1cb9f7a963d5",
   "metadata": {},
   "outputs": [
    {
     "data": {
      "text/plain": [
       "<generator object <genexpr> at 0x0000025440130EE0>"
      ]
     },
     "execution_count": 71,
     "metadata": {},
     "output_type": "execute_result"
    }
   ],
   "source": [
    "(i**2 for i in range(1,101))"
   ]
  },
  {
   "cell_type": "markdown",
   "id": "dbb5b7ff-301a-4145-91fb-a1ec04c8df7a",
   "metadata": {},
   "source": [
    "# Practical Example"
   ]
  },
  {
   "cell_type": "code",
   "execution_count": 74,
   "id": "ed8c9e39-56de-40bf-8216-7803cfa9fcd3",
   "metadata": {},
   "outputs": [],
   "source": [
    "## suppose aapko koi model train  karna hai and usme bahut sare pic hai\n",
    "#to one by one hum photo ko load karke uspe koi bhi operation perform kar sakte hain"
   ]
  },
  {
   "cell_type": "markdown",
   "id": "3321fee7-8197-426e-8273-3093de788f39",
   "metadata": {},
   "source": [
    "## Benefits of using a Generator"
   ]
  },
  {
   "cell_type": "markdown",
   "id": "0da0d0eb-656f-4adc-8842-7de42edbcfad",
   "metadata": {},
   "source": [
    "#### 1. Ease of Implementation"
   ]
  },
  {
   "cell_type": "markdown",
   "id": "0e122318-21f3-4565-bbe0-d976c5f246cc",
   "metadata": {},
   "source": [
    "#### 2. Memory Efficient"
   ]
  },
  {
   "cell_type": "code",
   "execution_count": 80,
   "id": "80fd35ef-b061-4128-8296-3983091ab979",
   "metadata": {},
   "outputs": [
    {
     "name": "stdout",
     "output_type": "stream",
     "text": [
      "Size of L in memory 800984\n",
      "Size of gen in memory 192\n"
     ]
    }
   ],
   "source": [
    "L = [x for x in range(100000)]\n",
    "gen = (x for x in range(100000))\n",
    "\n",
    "import sys\n",
    "\n",
    "print('Size of L in memory',sys.getsizeof(L))\n",
    "print('Size of gen in memory',sys.getsizeof(gen))"
   ]
  },
  {
   "cell_type": "markdown",
   "id": "3b79ade7-a85f-40f6-87ab-4a52960d5bfc",
   "metadata": {},
   "source": [
    "#### 3. Representing Infinite Streams"
   ]
  },
  {
   "cell_type": "code",
   "execution_count": 83,
   "id": "e6caf46a-c022-45da-b7a6-4a6c4f59e89e",
   "metadata": {},
   "outputs": [],
   "source": [
    "def all_even():\n",
    "    n = 0\n",
    "    while True:\n",
    "        yield n\n",
    "        n += 2"
   ]
  },
  {
   "cell_type": "code",
   "execution_count": 85,
   "id": "9c40b6bb-cb75-4a9b-80ff-15b2170532fb",
   "metadata": {},
   "outputs": [
    {
     "data": {
      "text/plain": [
       "2"
      ]
     },
     "execution_count": 85,
     "metadata": {},
     "output_type": "execute_result"
    }
   ],
   "source": [
    "even_num_gen = all_even()\n",
    "next(even_num_gen)\n",
    "next(even_num_gen)"
   ]
  },
  {
   "cell_type": "markdown",
   "id": "2949e751-1cb5-4bbf-98ee-f7f0eaa4e676",
   "metadata": {},
   "source": [
    "#### 4. Chaining Generators"
   ]
  },
  {
   "cell_type": "code",
   "execution_count": 88,
   "id": "05101d99-ddd0-4c5c-a74e-9a2f62af572d",
   "metadata": {},
   "outputs": [
    {
     "name": "stdout",
     "output_type": "stream",
     "text": [
      "4895\n"
     ]
    }
   ],
   "source": [
    "def fibonacci_numbers(nums):\n",
    "    x, y = 0, 1\n",
    "    for _ in range(nums):\n",
    "        x, y = y, x+y\n",
    "        yield x\n",
    "\n",
    "def square(nums):\n",
    "    for num in nums:\n",
    "        yield num**2\n",
    "\n",
    "print(sum(square(fibonacci_numbers(10))))"
   ]
  },
  {
   "cell_type": "code",
   "execution_count": null,
   "id": "16442298-53e5-4b30-bfee-377904cc49fc",
   "metadata": {},
   "outputs": [],
   "source": []
  }
 ],
 "metadata": {
  "kernelspec": {
   "display_name": "Python 3 (ipykernel)",
   "language": "python",
   "name": "python3"
  },
  "language_info": {
   "codemirror_mode": {
    "name": "ipython",
    "version": 3
   },
   "file_extension": ".py",
   "mimetype": "text/x-python",
   "name": "python",
   "nbconvert_exporter": "python",
   "pygments_lexer": "ipython3",
   "version": "3.12.7"
  }
 },
 "nbformat": 4,
 "nbformat_minor": 5
}
