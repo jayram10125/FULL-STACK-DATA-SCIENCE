{
 "cells": [
  {
   "cell_type": "markdown",
   "id": "2be17ef1-f221-4326-9e1d-1e925d88a0d6",
   "metadata": {},
   "source": [
    "## What is an Iteration"
   ]
  },
  {
   "cell_type": "markdown",
   "id": "1ffecca8-1f68-457d-a35a-94fde548ff2e",
   "metadata": {},
   "source": [
    "Iteration is a general term for taking each item of something, one after another. Any time you use a loop, explicit or implicit, to go over a group of items, that is iteration."
   ]
  },
  {
   "cell_type": "code",
   "execution_count": 4,
   "id": "3fda75d2-f456-440b-a1ab-a9a2e2057eef",
   "metadata": {},
   "outputs": [
    {
     "name": "stdout",
     "output_type": "stream",
     "text": [
      "1\n",
      "2\n",
      "3\n"
     ]
    }
   ],
   "source": [
    "# example\n",
    "L=[1,2,3]\n",
    "for i in L:\n",
    "    print(i)"
   ]
  },
  {
   "cell_type": "markdown",
   "id": "ac5ed33f-5b48-413c-9dd6-4fe4adc46df7",
   "metadata": {},
   "source": [
    "## What is Iterator"
   ]
  },
  {
   "cell_type": "markdown",
   "id": "4c30ec65-7a55-483a-942f-5c7b334c5d5a",
   "metadata": {},
   "source": [
    "An Iterator is an object that allows the programmer to traverse through a sequence of data without having to store the entire data in the memory"
   ]
  },
  {
   "cell_type": "code",
   "execution_count": 12,
   "id": "b84158bd-db2e-4ff8-83b2-995c4bf6ec57",
   "metadata": {},
   "outputs": [
    {
     "name": "stdout",
     "output_type": "stream",
     "text": [
      "85176\n",
      "48\n"
     ]
    }
   ],
   "source": [
    "# Example\n",
    "L=[x for x in range(1,10000)]\n",
    "# for i in L:\n",
    "    #print(i*2)\n",
    "\n",
    "import sys\n",
    "print(sys.getsizeof(L))\n",
    "\n",
    "x=range(1,100000000)\n",
    "# for i in x:\n",
    "    #print(i*2)\n",
    "\n",
    "print(sys.getsizeof(x))# ye bytes me batayega ki kitna memory use kar raha hai\n",
    "# you can see same kaam karne ke lye yadi list ka help le rahe hain to 85176 bytes and jab range ke help \n",
    "# se same kaam kar rahe hain to 48 bytes ka memeory use ho raha hai"
   ]
  },
  {
   "cell_type": "markdown",
   "id": "8667abab-56bb-4554-bd9c-0daf1ffd3c38",
   "metadata": {},
   "source": [
    "## What is Iterable"
   ]
  },
  {
   "cell_type": "markdown",
   "id": "3ac55ffe-6589-47c7-a880-2165f0ce760c",
   "metadata": {},
   "source": [
    "Iterable is an object, which one can iterate over\n",
    "\n",
    "It generates an Iterator when passed to iter() method\n",
    "\n",
    "- (yadi aap kisi object ke upar loop laga ke uske har item  ko fetch kar sakte ho to wah object iterable hota hai jaise ki ``range object`` , ``list`` etc )"
   ]
  },
  {
   "cell_type": "code",
   "execution_count": 3,
   "id": "ecd1f3b7-c7ca-4968-b41f-de5f9c1dfe4e",
   "metadata": {},
   "outputs": [],
   "source": [
    "# simply yadi aap kisi ke upar loop laga kar uske har item ko nikal sakte ho to wo iterable hai"
   ]
  },
  {
   "cell_type": "code",
   "execution_count": 7,
   "id": "e6d5f617-1dae-4727-8964-8dcca35717c1",
   "metadata": {},
   "outputs": [
    {
     "name": "stdout",
     "output_type": "stream",
     "text": [
      "<class 'list'>\n",
      "<list_iterator object at 0x0000017F8A772DA0>\n",
      "<class 'list_iterator'>\n"
     ]
    }
   ],
   "source": [
    "# Example\n",
    "\n",
    "L=[1,2,3]\n",
    "print(type(L))\n",
    "\n",
    "# L is an iterable\n",
    "\n",
    "print(iter(L))\n",
    "print(type(iter(L)))\n",
    "\n",
    "\n",
    "# iter(L)---> iterator\n",
    "\n",
    "# it prooves ki iterable ke iterator generate karta hai"
   ]
  },
  {
   "cell_type": "markdown",
   "id": "dfd46b67-5317-41f1-b9ee-20af42d9ecf9",
   "metadata": {},
   "source": [
    "## Point to remember\n",
    "- Every Iterator is also and Iterable\n",
    "- Not all Iterables are Iterators"
   ]
  },
  {
   "cell_type": "markdown",
   "id": "11a59312-89c1-487b-acef-2b32760873f3",
   "metadata": {},
   "source": [
    "## Trick\n",
    "- Every Iterable has an iter function\n",
    "- Every Iterator has both iter function as well as a next function"
   ]
  },
  {
   "cell_type": "code",
   "execution_count": 13,
   "id": "07c60826-a203-4899-85b1-0bdc2e6484f0",
   "metadata": {},
   "outputs": [
    {
     "ename": "TypeError",
     "evalue": "'int' object is not iterable",
     "output_type": "error",
     "traceback": [
      "\u001b[1;31m---------------------------------------------------------------------------\u001b[0m",
      "\u001b[1;31mTypeError\u001b[0m                                 Traceback (most recent call last)",
      "Cell \u001b[1;32mIn[13], line 4\u001b[0m\n\u001b[0;32m      1\u001b[0m \u001b[38;5;66;03m# simply yadi check karna hai ki koi iterable hai ki nahi to loop chala ke dekh lo\u001b[39;00m\n\u001b[0;32m      3\u001b[0m a\u001b[38;5;241m=\u001b[39m\u001b[38;5;241m2\u001b[39m\n\u001b[1;32m----> 4\u001b[0m \u001b[38;5;28;43;01mfor\u001b[39;49;00m\u001b[43m \u001b[49m\u001b[43mi\u001b[49m\u001b[43m \u001b[49m\u001b[38;5;129;43;01min\u001b[39;49;00m\u001b[43m \u001b[49m\u001b[43ma\u001b[49m\u001b[43m:\u001b[49m\n\u001b[0;32m      5\u001b[0m \u001b[43m    \u001b[49m\u001b[38;5;28;43mprint\u001b[39;49m\u001b[43m(\u001b[49m\u001b[43mi\u001b[49m\u001b[43m)\u001b[49m\n",
      "\u001b[1;31mTypeError\u001b[0m: 'int' object is not iterable"
     ]
    }
   ],
   "source": [
    "# simply yadi check karna hai ki koi iterable hai ki nahi to loop chala ke dekh lo\n",
    "\n",
    "a=2\n",
    "for i in a:\n",
    "    print(i)\n",
    "\n",
    "\n",
    "\n",
    "# clearly you can see ki a (int) object iterable nahi hai"
   ]
  },
  {
   "cell_type": "code",
   "execution_count": 15,
   "id": "7b43191e-418c-49ed-af26-4dfb1801c272",
   "metadata": {},
   "outputs": [
    {
     "name": "stdout",
     "output_type": "stream",
     "text": [
      "1\n",
      "2\n",
      "3\n"
     ]
    }
   ],
   "source": [
    "L=[1,2,3]\n",
    "for i in L:\n",
    "    print(i)\n",
    "\n",
    "\n",
    "# yaha error nahi aaya means ki List iterable hai"
   ]
  },
  {
   "cell_type": "code",
   "execution_count": 17,
   "id": "52a973ae-3f09-4008-9c7f-d4bf3389c24e",
   "metadata": {},
   "outputs": [
    {
     "data": {
      "text/plain": [
       "['__abs__',\n",
       " '__add__',\n",
       " '__and__',\n",
       " '__bool__',\n",
       " '__ceil__',\n",
       " '__class__',\n",
       " '__delattr__',\n",
       " '__dir__',\n",
       " '__divmod__',\n",
       " '__doc__',\n",
       " '__eq__',\n",
       " '__float__',\n",
       " '__floor__',\n",
       " '__floordiv__',\n",
       " '__format__',\n",
       " '__ge__',\n",
       " '__getattribute__',\n",
       " '__getnewargs__',\n",
       " '__getstate__',\n",
       " '__gt__',\n",
       " '__hash__',\n",
       " '__index__',\n",
       " '__init__',\n",
       " '__init_subclass__',\n",
       " '__int__',\n",
       " '__invert__',\n",
       " '__le__',\n",
       " '__lshift__',\n",
       " '__lt__',\n",
       " '__mod__',\n",
       " '__mul__',\n",
       " '__ne__',\n",
       " '__neg__',\n",
       " '__new__',\n",
       " '__or__',\n",
       " '__pos__',\n",
       " '__pow__',\n",
       " '__radd__',\n",
       " '__rand__',\n",
       " '__rdivmod__',\n",
       " '__reduce__',\n",
       " '__reduce_ex__',\n",
       " '__repr__',\n",
       " '__rfloordiv__',\n",
       " '__rlshift__',\n",
       " '__rmod__',\n",
       " '__rmul__',\n",
       " '__ror__',\n",
       " '__round__',\n",
       " '__rpow__',\n",
       " '__rrshift__',\n",
       " '__rshift__',\n",
       " '__rsub__',\n",
       " '__rtruediv__',\n",
       " '__rxor__',\n",
       " '__setattr__',\n",
       " '__sizeof__',\n",
       " '__str__',\n",
       " '__sub__',\n",
       " '__subclasshook__',\n",
       " '__truediv__',\n",
       " '__trunc__',\n",
       " '__xor__',\n",
       " 'as_integer_ratio',\n",
       " 'bit_count',\n",
       " 'bit_length',\n",
       " 'conjugate',\n",
       " 'denominator',\n",
       " 'from_bytes',\n",
       " 'imag',\n",
       " 'is_integer',\n",
       " 'numerator',\n",
       " 'real',\n",
       " 'to_bytes']"
      ]
     },
     "execution_count": 17,
     "metadata": {},
     "output_type": "execute_result"
    }
   ],
   "source": [
    "# Another method to check ki iterable hai ki nahi\n",
    "\n",
    "a=2\n",
    "dir(a)\n",
    "\n",
    "# dir object ko call karo usse sare magic meethod print ho jayega abb check karo yadi usme 'iter' magic method hai to wo object \n",
    "#iterable hai otherwise nahi hai"
   ]
  },
  {
   "cell_type": "code",
   "execution_count": 19,
   "id": "756a5b0a-5593-4ca7-9d51-c31069067474",
   "metadata": {},
   "outputs": [
    {
     "data": {
      "text/plain": [
       "['__add__',\n",
       " '__class__',\n",
       " '__class_getitem__',\n",
       " '__contains__',\n",
       " '__delattr__',\n",
       " '__delitem__',\n",
       " '__dir__',\n",
       " '__doc__',\n",
       " '__eq__',\n",
       " '__format__',\n",
       " '__ge__',\n",
       " '__getattribute__',\n",
       " '__getitem__',\n",
       " '__getstate__',\n",
       " '__gt__',\n",
       " '__hash__',\n",
       " '__iadd__',\n",
       " '__imul__',\n",
       " '__init__',\n",
       " '__init_subclass__',\n",
       " '__iter__',\n",
       " '__le__',\n",
       " '__len__',\n",
       " '__lt__',\n",
       " '__mul__',\n",
       " '__ne__',\n",
       " '__new__',\n",
       " '__reduce__',\n",
       " '__reduce_ex__',\n",
       " '__repr__',\n",
       " '__reversed__',\n",
       " '__rmul__',\n",
       " '__setattr__',\n",
       " '__setitem__',\n",
       " '__sizeof__',\n",
       " '__str__',\n",
       " '__subclasshook__',\n",
       " 'append',\n",
       " 'clear',\n",
       " 'copy',\n",
       " 'count',\n",
       " 'extend',\n",
       " 'index',\n",
       " 'insert',\n",
       " 'pop',\n",
       " 'remove',\n",
       " 'reverse',\n",
       " 'sort']"
      ]
     },
     "execution_count": 19,
     "metadata": {},
     "output_type": "execute_result"
    }
   ],
   "source": [
    "L=[1,2,3]\n",
    "dir(L)"
   ]
  },
  {
   "cell_type": "code",
   "execution_count": 21,
   "id": "ae9c427a-b51c-4dfb-8125-0d0c35cd5042",
   "metadata": {},
   "outputs": [
    {
     "data": {
      "text/plain": [
       "['__abs__',\n",
       " '__add__',\n",
       " '__and__',\n",
       " '__bool__',\n",
       " '__ceil__',\n",
       " '__class__',\n",
       " '__delattr__',\n",
       " '__dir__',\n",
       " '__divmod__',\n",
       " '__doc__',\n",
       " '__eq__',\n",
       " '__float__',\n",
       " '__floor__',\n",
       " '__floordiv__',\n",
       " '__format__',\n",
       " '__ge__',\n",
       " '__getattribute__',\n",
       " '__getnewargs__',\n",
       " '__getstate__',\n",
       " '__gt__',\n",
       " '__hash__',\n",
       " '__index__',\n",
       " '__init__',\n",
       " '__init_subclass__',\n",
       " '__int__',\n",
       " '__invert__',\n",
       " '__le__',\n",
       " '__lshift__',\n",
       " '__lt__',\n",
       " '__mod__',\n",
       " '__mul__',\n",
       " '__ne__',\n",
       " '__neg__',\n",
       " '__new__',\n",
       " '__or__',\n",
       " '__pos__',\n",
       " '__pow__',\n",
       " '__radd__',\n",
       " '__rand__',\n",
       " '__rdivmod__',\n",
       " '__reduce__',\n",
       " '__reduce_ex__',\n",
       " '__repr__',\n",
       " '__rfloordiv__',\n",
       " '__rlshift__',\n",
       " '__rmod__',\n",
       " '__rmul__',\n",
       " '__ror__',\n",
       " '__round__',\n",
       " '__rpow__',\n",
       " '__rrshift__',\n",
       " '__rshift__',\n",
       " '__rsub__',\n",
       " '__rtruediv__',\n",
       " '__rxor__',\n",
       " '__setattr__',\n",
       " '__sizeof__',\n",
       " '__str__',\n",
       " '__sub__',\n",
       " '__subclasshook__',\n",
       " '__truediv__',\n",
       " '__trunc__',\n",
       " '__xor__',\n",
       " 'as_integer_ratio',\n",
       " 'bit_count',\n",
       " 'bit_length',\n",
       " 'conjugate',\n",
       " 'denominator',\n",
       " 'from_bytes',\n",
       " 'imag',\n",
       " 'is_integer',\n",
       " 'numerator',\n",
       " 'real',\n",
       " 'to_bytes']"
      ]
     },
     "execution_count": 21,
     "metadata": {},
     "output_type": "execute_result"
    }
   ],
   "source": [
    "T=(1,2,3)\n",
    "dir(a)"
   ]
  },
  {
   "cell_type": "code",
   "execution_count": 23,
   "id": "86465856-d56c-4289-b569-b61ac05fc547",
   "metadata": {},
   "outputs": [
    {
     "data": {
      "text/plain": [
       "['__abs__',\n",
       " '__add__',\n",
       " '__and__',\n",
       " '__bool__',\n",
       " '__ceil__',\n",
       " '__class__',\n",
       " '__delattr__',\n",
       " '__dir__',\n",
       " '__divmod__',\n",
       " '__doc__',\n",
       " '__eq__',\n",
       " '__float__',\n",
       " '__floor__',\n",
       " '__floordiv__',\n",
       " '__format__',\n",
       " '__ge__',\n",
       " '__getattribute__',\n",
       " '__getnewargs__',\n",
       " '__getstate__',\n",
       " '__gt__',\n",
       " '__hash__',\n",
       " '__index__',\n",
       " '__init__',\n",
       " '__init_subclass__',\n",
       " '__int__',\n",
       " '__invert__',\n",
       " '__le__',\n",
       " '__lshift__',\n",
       " '__lt__',\n",
       " '__mod__',\n",
       " '__mul__',\n",
       " '__ne__',\n",
       " '__neg__',\n",
       " '__new__',\n",
       " '__or__',\n",
       " '__pos__',\n",
       " '__pow__',\n",
       " '__radd__',\n",
       " '__rand__',\n",
       " '__rdivmod__',\n",
       " '__reduce__',\n",
       " '__reduce_ex__',\n",
       " '__repr__',\n",
       " '__rfloordiv__',\n",
       " '__rlshift__',\n",
       " '__rmod__',\n",
       " '__rmul__',\n",
       " '__ror__',\n",
       " '__round__',\n",
       " '__rpow__',\n",
       " '__rrshift__',\n",
       " '__rshift__',\n",
       " '__rsub__',\n",
       " '__rtruediv__',\n",
       " '__rxor__',\n",
       " '__setattr__',\n",
       " '__sizeof__',\n",
       " '__str__',\n",
       " '__sub__',\n",
       " '__subclasshook__',\n",
       " '__truediv__',\n",
       " '__trunc__',\n",
       " '__xor__',\n",
       " 'as_integer_ratio',\n",
       " 'bit_count',\n",
       " 'bit_length',\n",
       " 'conjugate',\n",
       " 'denominator',\n",
       " 'from_bytes',\n",
       " 'imag',\n",
       " 'is_integer',\n",
       " 'numerator',\n",
       " 'real',\n",
       " 'to_bytes']"
      ]
     },
     "execution_count": 23,
     "metadata": {},
     "output_type": "execute_result"
    }
   ],
   "source": [
    "# now trick to check ki koi object iterator hai ki nahi\n",
    "\n",
    "#--> dir method ko call karo and check ki yadi uske anddar 'iter and next' dono magic method available hai to wo iterator hai\n",
    "\n",
    "# Example\n",
    "\n",
    "L=[1,2,3]\n",
    "\n",
    "#L is not an iterator\n",
    "\n",
    "dir(a)\n",
    "\n",
    "\n",
    "# you can see iske andar iter to hai hai but next nahi hai means ye ek iterator nahi hai"
   ]
  },
  {
   "cell_type": "code",
   "execution_count": 29,
   "id": "7101b803-0b85-4b90-8b24-c39398331a26",
   "metadata": {},
   "outputs": [
    {
     "data": {
      "text/plain": [
       "['__class__',\n",
       " '__delattr__',\n",
       " '__dir__',\n",
       " '__doc__',\n",
       " '__eq__',\n",
       " '__format__',\n",
       " '__ge__',\n",
       " '__getattribute__',\n",
       " '__getstate__',\n",
       " '__gt__',\n",
       " '__hash__',\n",
       " '__init__',\n",
       " '__init_subclass__',\n",
       " '__iter__',\n",
       " '__le__',\n",
       " '__length_hint__',\n",
       " '__lt__',\n",
       " '__ne__',\n",
       " '__new__',\n",
       " '__next__',\n",
       " '__reduce__',\n",
       " '__reduce_ex__',\n",
       " '__repr__',\n",
       " '__setattr__',\n",
       " '__setstate__',\n",
       " '__sizeof__',\n",
       " '__str__',\n",
       " '__subclasshook__']"
      ]
     },
     "execution_count": 29,
     "metadata": {},
     "output_type": "execute_result"
    }
   ],
   "source": [
    "L=[1,2,3]\n",
    "\n",
    "# L is not an iterator\n",
    "\n",
    "iter_L=iter(L)\n",
    "dir(iter_L)\n",
    "\n",
    "# iter_L is an iterator---> qki iske andar \"iter and next \" dono hai"
   ]
  },
  {
   "cell_type": "markdown",
   "id": "6d1b9143-02d6-4896-bc92-dd60e51f8daf",
   "metadata": {},
   "source": [
    "## Understanding how for loop works"
   ]
  },
  {
   "cell_type": "code",
   "execution_count": 32,
   "id": "cb2c8d60-c816-4482-a7a6-b032215cdbd9",
   "metadata": {},
   "outputs": [
    {
     "name": "stdout",
     "output_type": "stream",
     "text": [
      "1\n",
      "2\n",
      "3\n"
     ]
    }
   ],
   "source": [
    "num = [1,2,3]\n",
    "\n",
    "for i in num:\n",
    "    print(i)"
   ]
  },
  {
   "cell_type": "code",
   "execution_count": 36,
   "id": "e176a7ae-87dd-4043-a749-24c675bac7a4",
   "metadata": {},
   "outputs": [
    {
     "name": "stdout",
     "output_type": "stream",
     "text": [
      "19\n",
      "32\n",
      "63\n"
     ]
    },
    {
     "ename": "StopIteration",
     "evalue": "",
     "output_type": "error",
     "traceback": [
      "\u001b[1;31m---------------------------------------------------------------------------\u001b[0m",
      "\u001b[1;31mStopIteration\u001b[0m                             Traceback (most recent call last)",
      "Cell \u001b[1;32mIn[36], line 14\u001b[0m\n\u001b[0;32m     12\u001b[0m \u001b[38;5;28mprint\u001b[39m(\u001b[38;5;28mnext\u001b[39m(iter_num))\n\u001b[0;32m     13\u001b[0m \u001b[38;5;28mprint\u001b[39m(\u001b[38;5;28mnext\u001b[39m(iter_num))\n\u001b[1;32m---> 14\u001b[0m \u001b[38;5;28mprint\u001b[39m(\u001b[38;5;28;43mnext\u001b[39;49m\u001b[43m(\u001b[49m\u001b[43miter_num\u001b[49m\u001b[43m)\u001b[49m)\n",
      "\u001b[1;31mStopIteration\u001b[0m: "
     ]
    }
   ],
   "source": [
    "num=[19,32,63]\n",
    "## step-1--> `` fetch the iterator\n",
    "\n",
    "# sabse pahle iterable se iterator ko fetch karta hai\n",
    "\n",
    "iter_num=iter(num)\n",
    "\n",
    "## step-2 --> next\n",
    "# uske baad next ko call karta hai\n",
    "\n",
    "print(next(iter_num))\n",
    "print(next(iter_num))\n",
    "print(next(iter_num))\n",
    "print(next(iter_num))   # iss line se error aayega qki abb koi element hai hi nahi"
   ]
  },
  {
   "cell_type": "markdown",
   "id": "b981497a-3c84-41f1-97f9-084b3cec7662",
   "metadata": {},
   "source": [
    "## Making ouw own for loop"
   ]
  },
  {
   "cell_type": "code",
   "execution_count": 51,
   "id": "a9a5069b-6474-451e-a516-5fc6b0a50a4d",
   "metadata": {},
   "outputs": [],
   "source": [
    "def mera_khudka_for_loop(iterable):\n",
    "\n",
    "    iterator=iter(iterable)\n",
    "    while True:\n",
    "\n",
    "        try:\n",
    "            print(next(iterator))\n",
    "        except StopIteration:\n",
    "            break"
   ]
  },
  {
   "cell_type": "code",
   "execution_count": 53,
   "id": "cb2d1833-6606-434a-97ed-e88e611b8a78",
   "metadata": {},
   "outputs": [],
   "source": [
    "a=[1,2,3]\n",
    "b=range(1,11)\n",
    "c=(1,2,3)\n",
    "d={1,2,3}\n",
    "e={0:1,1:1}\n"
   ]
  },
  {
   "cell_type": "code",
   "execution_count": 55,
   "id": "b94a37c5-1485-4cd1-a83b-39a339eba575",
   "metadata": {},
   "outputs": [
    {
     "name": "stdout",
     "output_type": "stream",
     "text": [
      "0\n",
      "1\n"
     ]
    }
   ],
   "source": [
    "mera_khudka_for_loop(e)"
   ]
  },
  {
   "cell_type": "code",
   "execution_count": 57,
   "id": "6953d740-97be-4df2-9623-1bf7ebeac4f0",
   "metadata": {},
   "outputs": [
    {
     "name": "stdout",
     "output_type": "stream",
     "text": [
      "1\n",
      "2\n",
      "3\n"
     ]
    }
   ],
   "source": [
    "mera_khudka_for_loop(c)"
   ]
  },
  {
   "cell_type": "code",
   "execution_count": 59,
   "id": "ff524f73-adcd-4fc8-bdfb-2a096ea8de5e",
   "metadata": {},
   "outputs": [
    {
     "name": "stdout",
     "output_type": "stream",
     "text": [
      "1\n",
      "2\n",
      "3\n"
     ]
    }
   ],
   "source": [
    "mera_khudka_for_loop(a)"
   ]
  },
  {
   "cell_type": "code",
   "execution_count": 61,
   "id": "6d563a10-98e4-4540-a794-e208a797d0fd",
   "metadata": {},
   "outputs": [
    {
     "name": "stdout",
     "output_type": "stream",
     "text": [
      "1\n",
      "2\n",
      "3\n",
      "4\n",
      "5\n",
      "6\n",
      "7\n",
      "8\n",
      "9\n",
      "10\n"
     ]
    }
   ],
   "source": [
    "mera_khudka_for_loop(b)"
   ]
  },
  {
   "cell_type": "code",
   "execution_count": 63,
   "id": "0f13a62a-842b-47c7-83af-c888497291d4",
   "metadata": {},
   "outputs": [
    {
     "name": "stdout",
     "output_type": "stream",
     "text": [
      "1\n",
      "2\n",
      "3\n"
     ]
    }
   ],
   "source": [
    "mera_khudka_for_loop(d)"
   ]
  },
  {
   "cell_type": "markdown",
   "id": "25060d3b-c422-45a7-ad37-a5dbee8f53cc",
   "metadata": {},
   "source": [
    "## A confusing point"
   ]
  },
  {
   "cell_type": "code",
   "execution_count": 3,
   "id": "44f3e800-f295-47e1-a850-2f5aa6afe7eb",
   "metadata": {},
   "outputs": [
    {
     "name": "stdout",
     "output_type": "stream",
     "text": [
      "1765174461728 Address of iterator 1\n",
      "1765174461728 Address of iterator 2\n"
     ]
    }
   ],
   "source": [
    "num=[1,2,3]\n",
    "iter_obj=iter(num)\n",
    "\n",
    "print(id(iter_obj),'Address of iterator 1')\n",
    "\n",
    "iter_obj2 = iter(iter_obj)\n",
    "print(id(iter_obj2),'Address of iterator 2')\n",
    "\n"
   ]
  },
  {
   "cell_type": "code",
   "execution_count": 5,
   "id": "05de14d0-0141-4f92-a7c3-4405972a9cb3",
   "metadata": {},
   "outputs": [],
   "source": [
    "# dono ka address same hai matlab ki iterator ke upat iter chalane se jo iterator milta hai wo wahi khud hota hai"
   ]
  },
  {
   "cell_type": "markdown",
   "id": "3fc285c3-a7ec-47b0-8817-bdec5201dc65",
   "metadata": {},
   "source": [
    "## Let's create our own range() function"
   ]
  },
  {
   "cell_type": "code",
   "execution_count": 14,
   "id": "21b86834-de48-4d59-9fe4-b9e6351bfdb4",
   "metadata": {},
   "outputs": [],
   "source": [
    "class mera_range:\n",
    "    def __init__ (self,start,end):\n",
    "        self.start=start\n",
    "        self.end=end\n",
    "\n",
    "    def __iter__(self):\n",
    "        return mera_range_iterator(self)\n",
    "    "
   ]
  },
  {
   "cell_type": "code",
   "execution_count": 16,
   "id": "0421a473-7b10-494c-a90a-c5f25508164e",
   "metadata": {},
   "outputs": [],
   "source": [
    "class mera_range_iterator:\n",
    "    def __init__(self,iterable_obj):\n",
    "        self.iterable=iterable_obj\n",
    "        \n",
    "    def __iter__(self):\n",
    "        return self\n",
    "        \n",
    "    def __next__(self):\n",
    "\n",
    "        if self.iterable.start >= self.iterable.end:\n",
    "            raise StopIteration\n",
    "\n",
    "        current=self.iterable.start\n",
    "        self.iterable.start+=1\n",
    "        return current "
   ]
  },
  {
   "cell_type": "code",
   "execution_count": 18,
   "id": "814ea009-bd21-4a4c-91df-31b502dd62ee",
   "metadata": {},
   "outputs": [
    {
     "name": "stdout",
     "output_type": "stream",
     "text": [
      "1\n",
      "2\n",
      "3\n",
      "4\n",
      "5\n",
      "6\n",
      "7\n",
      "8\n",
      "9\n",
      "10\n"
     ]
    }
   ],
   "source": [
    "for i in mera_range(1,11):\n",
    "    print(i)"
   ]
  },
  {
   "cell_type": "markdown",
   "id": "e87e4051-abb7-4391-a42a-7a8e7b1507a4",
   "metadata": {},
   "source": [
    "suppose aapke pass bahut bada image ka data hai hai suppose 20 gb ka but aapke passs memory hai 8 gb ka hi to aap kaise data ko \n",
    "memory me load karoge to yaha pe iterator ka help le sakte ho wo one by one image ko pakdega and memory me storre karte jayega"
   ]
  }
 ],
 "metadata": {
  "kernelspec": {
   "display_name": "Python 3 (ipykernel)",
   "language": "python",
   "name": "python3"
  },
  "language_info": {
   "codemirror_mode": {
    "name": "ipython",
    "version": 3
   },
   "file_extension": ".py",
   "mimetype": "text/x-python",
   "name": "python",
   "nbconvert_exporter": "python",
   "pygments_lexer": "ipython3",
   "version": "3.12.7"
  }
 },
 "nbformat": 4,
 "nbformat_minor": 5
}
