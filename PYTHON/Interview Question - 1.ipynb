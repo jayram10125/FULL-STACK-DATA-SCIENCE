{
 "cells": [
  {
   "cell_type": "markdown",
   "id": "1350f3c4-8a1e-4a4e-8844-27827d6fe9fa",
   "metadata": {},
   "source": [
    "# Python interview questions & answers for L-1 ,L-2,L-3"
   ]
  },
  {
   "cell_type": "markdown",
   "id": "d733dc50-ccfc-43dc-9164-7b13ee359fec",
   "metadata": {},
   "source": [
    "| Question No. | Question |\n",
    "| :--: | :-- |\n",
    "| 1 | What is Python? What are the benefits of using Python? |\n",
    "| 2 | What is a dynamically typed language? |\n",
    "| 3 | What is an Interpreted language? |\n",
    "| 4 | What is PEP 8 and why is it important? |\n",
    "| 5 | What are the common built-in data types in Python? |\n",
    "| 6 | Explain the ternary operator in Python. |\n",
    "| 7 | What Does the ‘is’ Operator Do? |\n",
    "| 8 | Disadvantages of Python. |\n",
    "| 9 | How strings are stored in Python? |\n",
    "| 10 | What is Zen of Python? |\n",
    "| 11 | Identity operator (is) vs ==? |\n",
    "| 12 | What does _ variables represent in Python? |\n",
    "| 13 | Modules vs packages vs Library |\n",
    "| 14 | Why 0.3 – 0.2 is not equal to 0.1 in Python? |\n",
    "| 15 | Python Docstrings |"
   ]
  },
  {
   "cell_type": "markdown",
   "id": "9bbf23be-381d-40e4-890c-a54f926d66ab",
   "metadata": {},
   "source": [
    "### **`1. What is Python? What are the benefits of using Python?`**\n",
    "\n",
    "Python is a high-level, interpreted, general-purpose programming language. Being a general-purpose language, it can be used to build almost any type of application with the right tools/libraries. Additionally, python supports objects, modules, threads, exception-handling, and automatic memory management which help in modelling real-world problems and building applications to solve these problems.\n",
    "\n",
    "**Benefits of using Python:**\n",
    "- Python is a general-purpose programming language that has a simple, easy-to-learn syntax that emphasizes readability and therefore reduces the cost of program maintenance. Moreover, the language is capable of scripting, is completely open-source, and supports third-party packages encouraging modularity and code reuse.\n",
    "- Its high-level data structures, combined with dynamic typing and dynamic binding, attract a huge community of developers for Rapid Application Development and deployment."
   ]
  },
  {
   "cell_type": "markdown",
   "id": "b57b51e5-dea3-4873-b2cc-06076b234423",
   "metadata": {},
   "source": [
    "### **`2. What is a dynamically typed language?`**\n",
    "\n",
    "Before we understand a dynamically typed language, we should learn about what typing is. **Typing** refers to type-checking in programming languages. In a **strongly-typed** language, such as Python, **\"1\" + 2** will result in a type error since these languages don't allow for \"type-coercion\" (implicit conversion of data types). On the other hand, a **weakly-typed** language, such as Javascript, will simply output **\"12\"** as result.\n",
    "\n",
    "Type-checking can be done at two stages:\n",
    "- **Static -** Data Types are checked before execution.\n",
    "- **Dynamic -** Data Types are checked during execution.\n",
    "Python is an interpreted language, executes each statement line by line and thus type-checking is done on the fly, during execution. Hence, Python is a Dynamically Typed Language.\n",
    "\n",
    "Read more - https://www.techtarget.com/whatis/definition/strongly-typed#:~:text=In%20computer%20programming%2C%20a%20programming,types%20of%20objects%20and%20variables."
   ]
  },
  {
   "cell_type": "markdown",
   "id": "ebf87875-a2e0-4179-bb46-7d3712ec8a6e",
   "metadata": {},
   "source": [
    "### **`3. What is an Interpreted language?`**\n",
    "\n",
    "An Interpreted language executes its statements line by line. Languages such as Python, Javascript, R, PHP, and Ruby are prime examples of Interpreted languages. Programs written in an interpreted language runs directly from the source code, with no intermediary compilation step."
   ]
  },
  {
   "cell_type": "markdown",
   "id": "036da62c-61a4-46de-a91f-d5e99885a684",
   "metadata": {},
   "source": [
    "### **`4. What is PEP 8 and why is it important?`**\n",
    "\n",
    "PEP stands for **Python Enhancement Proposal**. A PEP is an official design document providing information to the Python community, or describing a new feature for Python or its processes. **PEP 8** is especially important since it documents the style guidelines for Python Code. Apparently contributing to the Python open-source community requires you to follow these style guidelines sincerely and strictly.\n",
    "\n",
    "Read more - https://realpython.com/python-pep8/#:~:text=PEP%208%2C%20sometimes%20spelled%20PEP8,and%20consistency%20of%20Python%20code."
   ]
  },
  {
   "cell_type": "markdown",
   "id": "1e65e69f-9cc3-4ad1-90ff-5830e086f656",
   "metadata": {},
   "source": [
    "### **`5. What are the common built-in data types in Python?`**\n",
    "\n",
    "There are several built-in data types in Python. Although, Python doesn't require data types to be defined explicitly during variable declarations type errors are likely to occur if the knowledge of data types and their compatibility with each other are neglected. Python provides `type()` and `isinstance()` functions to check the type of these variables. These data types can be grouped into the following categories-\n",
    "\n",
    "1. **None Type:** **None** keywork represents the null values in Python. Boolean equality operation can be performed using these NoneType objects.\n",
    "\n",
    "2. **Numeric Type:** There are three distinct numeric types - `integers`, `floating-point numbers` and `complex numbers`. Additionally, `booleans` are a sub-type of integers.\n",
    "\n",
    "3. **Sequence Types:** According to Python Docs, there are three basic Sequence Types - `lists`, `tuples`, and `range` objects. Sequence types have the `in` and `not in` operators defined for their traversing their elements. These operators share the same priority as the comparison operations.\n",
    "\n",
    "4. **Mapping Types:** A mapping object can map hashable values to random objects in Python. Mappings objects are mutable and there is currently only one standard mapping type, the `dictionary`.\n",
    "\n",
    "5. **Set Types:** Currently, Python has two built-in set types - `set` and `frozenset`. `set` type is mutable and supports methods like *add()* and *remove()*. `frozenset` type is immutable and can't be modified after creation.\n",
    "\n",
    "6. **Callable Types:** Callable types are the types to which function call can be applied. They can be **user-defined functions, instance methods, generator functions**, and some other **built-in functions, methods** and **classes**.\n",
    "Refer to the documentation at [docs.python.org](https://docs.python.org/3/reference/datamodel.html) for a detailed view of the callable types.\n"
   ]
  },
  {
   "cell_type": "markdown",
   "id": "19bebabb-1235-44a1-93b2-68e108f88bd2",
   "metadata": {},
   "source": [
    "###`Q.6. Operator Precedence.`\n",
    "\n",
    "https://www.programiz.com/python-programming/precedence-associativity"
   ]
  },
  {
   "cell_type": "markdown",
   "id": "f83efbd4-f6fb-4ed2-9f09-c5cbd8ccbdad",
   "metadata": {},
   "source": [
    "###`Q.7. Explain the ternary operator in Python.`\n",
    "<br>Unlike C++, we don’t have ?: in Python, but we have this:\n",
    "\n",
    "\n",
    " [on true] if [expression] else [on false]\n",
    "\n",
    "\n",
    "\n",
    "If the expression is True, the statement under [on true] is executed. Else, that under [on false] is executed.\n",
    "\n",
    "Below is how you would use it:\n",
    "\n",
    "\n",
    "```\n",
    "a,b=2,3 \n",
    "min=a if a<b else b\n",
    "print(min)\n",
    "```\n",
    "\n",
    "Above will print 2."
   ]
  },
  {
   "cell_type": "code",
   "execution_count": 18,
   "id": "4e84a344-3b82-424b-bec3-3eaf8af5c48c",
   "metadata": {},
   "outputs": [
    {
     "name": "stdout",
     "output_type": "stream",
     "text": [
      "Bye\n"
     ]
    }
   ],
   "source": [
    "# Run this cell to see result.\n",
    "a,b=14,12\n",
    "print(\"Hi\") if a<b else print(\"Bye\")"
   ]
  },
  {
   "cell_type": "markdown",
   "id": "3d14e3cf-0821-499a-b0d9-6f489672568e",
   "metadata": {},
   "source": [
    "### `Q 8. What Does the ‘is’ Operator Do?`\n",
    "\n",
    "Identity operators<br>\n",
    "In Python, is and is not are used to check if two values are located on the same part of the memory. Two variables that are equal does not imply that they are identical."
   ]
  },
  {
   "cell_type": "code",
   "execution_count": 23,
   "id": "722f66e1-de17-44f0-b608-39af91d34d31",
   "metadata": {},
   "outputs": [
    {
     "data": {
      "text/plain": [
       "140720901204408"
      ]
     },
     "execution_count": 23,
     "metadata": {},
     "output_type": "execute_result"
    }
   ],
   "source": [
    "a=1\n",
    "id(a)"
   ]
  },
  {
   "cell_type": "code",
   "execution_count": 25,
   "id": "143b2742-a623-4a64-909a-10660f6d1fb1",
   "metadata": {},
   "outputs": [
    {
     "data": {
      "text/plain": [
       "140720901204440"
      ]
     },
     "execution_count": 25,
     "metadata": {},
     "output_type": "execute_result"
    }
   ],
   "source": [
    "a=2\n",
    "id(a)"
   ]
  },
  {
   "cell_type": "code",
   "execution_count": 27,
   "id": "45431e75-9987-488d-bf61-d9f6525e3de7",
   "metadata": {},
   "outputs": [
    {
     "data": {
      "text/plain": [
       "True"
      ]
     },
     "execution_count": 27,
     "metadata": {},
     "output_type": "execute_result"
    }
   ],
   "source": [
    "a=1\n",
    "b=1\n",
    "a is b"
   ]
  },
  {
   "cell_type": "code",
   "execution_count": 29,
   "id": "1f849e8a-502d-407c-b5ef-48e21676027f",
   "metadata": {},
   "outputs": [
    {
     "data": {
      "text/plain": [
       "140720901204408"
      ]
     },
     "execution_count": 29,
     "metadata": {},
     "output_type": "execute_result"
    }
   ],
   "source": [
    "id(a)"
   ]
  },
  {
   "cell_type": "code",
   "execution_count": 31,
   "id": "530be011-6323-4942-a930-fe78766f43fe",
   "metadata": {},
   "outputs": [
    {
     "data": {
      "text/plain": [
       "140720901204408"
      ]
     },
     "execution_count": 31,
     "metadata": {},
     "output_type": "execute_result"
    }
   ],
   "source": [
    "id(b)"
   ]
  },
  {
   "cell_type": "code",
   "execution_count": 33,
   "id": "ff7babe0-70d4-4720-96a6-fe8e3543919a",
   "metadata": {},
   "outputs": [],
   "source": [
    "# basically is operator memory address ko compare karta hai iff same then return True otherwise false"
   ]
  },
  {
   "cell_type": "code",
   "execution_count": 39,
   "id": "9ecef464-bfab-4a75-a50b-966e2bd04d91",
   "metadata": {},
   "outputs": [
    {
     "data": {
      "text/plain": [
       "True"
      ]
     },
     "execution_count": 39,
     "metadata": {},
     "output_type": "execute_result"
    }
   ],
   "source": [
    "a=256\n",
    "b=256\n",
    "\n",
    "a is b"
   ]
  },
  {
   "cell_type": "code",
   "execution_count": 41,
   "id": "4175ed00-0bd8-460e-8830-22dad5123ec9",
   "metadata": {},
   "outputs": [
    {
     "data": {
      "text/plain": [
       "False"
      ]
     },
     "execution_count": 41,
     "metadata": {},
     "output_type": "execute_result"
    }
   ],
   "source": [
    "a=257\n",
    "b=257\n",
    "\n",
    "a is b"
   ]
  },
  {
   "cell_type": "code",
   "execution_count": null,
   "id": "3aea1310-ac45-4291-bd3a-e4a135176aac",
   "metadata": {},
   "outputs": [],
   "source": [
    "# ye kya hai --> \n",
    "# jab aap -5 to 256 tak ke range ko  store karenge to wo same memory address pe store hoga\n",
    "# qki ye sab common number hai jo ki python ko lagta hai ki isse maximum time use kya jata hai that's why jab python on hota hai to ye number\n",
    "# ko pahle se hi memory me daal deta hai jab hum ek variable banate hain to wo bass pahle se available value ko refer karta hai\n",
    "\n",
    "\n",
    "### python deep dive ek video campus x channel pe available hai dekh lo aur aache se clear ho jayega"
   ]
  },
  {
   "cell_type": "code",
   "execution_count": 45,
   "id": "fac5aeaa-d17e-4477-b151-689675f4053b",
   "metadata": {},
   "outputs": [
    {
     "data": {
      "text/plain": [
       "2820460797872"
      ]
     },
     "execution_count": 45,
     "metadata": {},
     "output_type": "execute_result"
    }
   ],
   "source": [
    "id(a)"
   ]
  },
  {
   "cell_type": "code",
   "execution_count": 47,
   "id": "c1e31ebd-9ca3-43d9-bb3b-1298ff69ee4c",
   "metadata": {},
   "outputs": [
    {
     "data": {
      "text/plain": [
       "2820460799504"
      ]
     },
     "execution_count": 47,
     "metadata": {},
     "output_type": "execute_result"
    }
   ],
   "source": [
    "id(b)"
   ]
  },
  {
   "cell_type": "code",
   "execution_count": 43,
   "id": "4b281e10-73ea-4639-bfbc-3d0c149deb5f",
   "metadata": {},
   "outputs": [
    {
     "data": {
      "text/plain": [
       "True"
      ]
     },
     "execution_count": 43,
     "metadata": {},
     "output_type": "execute_result"
    }
   ],
   "source": [
    "a==b"
   ]
  },
  {
   "cell_type": "markdown",
   "id": "2853d567-2c66-4e18-82a9-b98ce3401ad8",
   "metadata": {},
   "source": [
    "### `Q 9: Disadvantages of Python.`\n",
    "\n",
    "https://www.geeksforgeeks.org/disadvantages-of-python"
   ]
  },
  {
   "cell_type": "markdown",
   "id": "6356f356-1c2a-405f-bc74-f9d5c2804e60",
   "metadata": {},
   "source": [
    "### `Q10 How strings are stored in Python?`\n",
    "- https://stackoverflow.com/questions/19224059/how-strings-are-stored-in-python-memory-model\n",
    "- https://www.quora.com/How-are-strings-stored-internally-in-Python-3\n",
    "- https://betterprogramming.pub/an-interviewers-favorite-question-how-are-python-strings-stored-in-internal-memory-ac0eaef9d9c2"
   ]
  },
  {
   "cell_type": "markdown",
   "id": "362cd1e9-e43d-462a-a617-d0be4645ca61",
   "metadata": {},
   "source": [
    "### `Q10 What is Zen of Python?`\n",
    "\n",
    "\n",
    "\n",
    "\n",
    "\n",
    "The Zen of Python is a collection of 19 \"guiding principles\" for writing computer programs that influence the design of the Python programming language.\n",
    "https://en.wikipedia.org/wiki/Zen_of_Python\n",
    "\n",
    "* Beautiful is better than ugly.\n",
    "* Explicit is better than implicit.\n",
    "* Simple is better than complex.\n",
    "* Complex is better than complicated.\n",
    "* Flat is better than nested.\n",
    "* Sparse is better than dense.\n",
    "* Readability counts.\n",
    "* Special cases aren't special enough to break the rules.\n",
    "* Although practicality beats purity.\n",
    "* Errors should never pass silently.\n",
    "* Unless explicitly silenced.\n",
    "* In the face of ambiguity, refuse the temptation to guess.\n",
    "* There should be one-- and preferably only one --obvious way to do it.\n",
    "* Although that way may not be obvious at first unless you're Dutch.\n",
    "* Now is better than never.\n",
    "* Although never is often better than *right* now.\n",
    "* If the implementation is hard to explain, it's a bad idea.\n",
    "* If the implementation is easy to explain, it may be a good idea.\n",
    "* Namespaces are one honking great idea -- let's do more of those!\n",
    "\n",
    "Explained in detail here - https://inventwithpython.com/blog/2018/08/17/the-zen-of-python-explained/"
   ]
  },
  {
   "cell_type": "code",
   "execution_count": 53,
   "id": "0a34229c-22b5-4d5d-a15e-faf23d56050d",
   "metadata": {},
   "outputs": [
    {
     "name": "stdout",
     "output_type": "stream",
     "text": [
      "The Zen of Python, by Tim Peters\n",
      "\n",
      "Beautiful is better than ugly.\n",
      "Explicit is better than implicit.\n",
      "Simple is better than complex.\n",
      "Complex is better than complicated.\n",
      "Flat is better than nested.\n",
      "Sparse is better than dense.\n",
      "Readability counts.\n",
      "Special cases aren't special enough to break the rules.\n",
      "Although practicality beats purity.\n",
      "Errors should never pass silently.\n",
      "Unless explicitly silenced.\n",
      "In the face of ambiguity, refuse the temptation to guess.\n",
      "There should be one-- and preferably only one --obvious way to do it.\n",
      "Although that way may not be obvious at first unless you're Dutch.\n",
      "Now is better than never.\n",
      "Although never is often better than *right* now.\n",
      "If the implementation is hard to explain, it's a bad idea.\n",
      "If the implementation is easy to explain, it may be a good idea.\n",
      "Namespaces are one honking great idea -- let's do more of those!\n"
     ]
    }
   ],
   "source": [
    "import this"
   ]
  },
  {
   "cell_type": "markdown",
   "id": "04215eec-6c08-4a91-99c6-77b5719a7554",
   "metadata": {},
   "source": [
    "### `Q11 Identity operator (is) vs ==?`\n",
    "\n",
    "->> Here’s the main difference between python “==” vs “is:”\n",
    "\n",
    "Identity operators: The “is” and “is not” keywords are called identity operators that compare objects based on their identity.\n",
    "Equality operator: The “==” and “!=” are called equality operators that compare the objects based on their values. \n"
   ]
  },
  {
   "cell_type": "code",
   "execution_count": null,
   "id": "ad2d75f9-a6d5-4607-8a01-09e4e2fb38c7",
   "metadata": {},
   "outputs": [],
   "source": [
    "# Case 4:\n",
    "# Here variable s is assigned a list, \n",
    "# and q assigned a list values same as s but on slicing of list a new list is generated\n",
    "s=[1,2,3]\n",
    "p=s    # p same memory address (jo ki s ka hai) ko point karega  \n",
    "# cloning\n",
    "q=s[:]   # q me content to same rahega but ye another memory location pe banega \n",
    "print(\"id of p\", id(p))\n",
    "print(\"Id of s\", id(s))\n",
    "print(\"id of q\", id(q))\n",
    "print(\"Comapare- s == q\", s==q)\n",
    "print(\"Identity- s is q\", s is q)\n",
    "print(\"Identity- s is p\", s is p)\n",
    "print(\"Comapare- s == p\", s==p)"
   ]
  },
  {
   "cell_type": "code",
   "execution_count": 57,
   "id": "0a01b0e3-bb4a-4990-9425-2e1d9c474a6c",
   "metadata": {},
   "outputs": [
    {
     "name": "stdout",
     "output_type": "stream",
     "text": [
      "[1, 2, 3, 4]\n",
      "[1, 2, 3, 4]\n"
     ]
    }
   ],
   "source": [
    "a=[1,2,3]\n",
    "b=a\n",
    "a.append(4)\n",
    "print(a)\n",
    "print(b)   # lo b me to kuch add hi nahi kye hain but ye to b ko bhi change kar dya"
   ]
  },
  {
   "cell_type": "markdown",
   "id": "cbb6942b-e29b-4bea-9152-90c16fb0848c",
   "metadata": {},
   "source": [
    "### `Q12 What does _ variables represent in Python?`\n",
    "\n",
    "[GssksForGeeks Article](https://www.geeksforgeeks.org/underscore-_-python)\n",
    "\n",
    "Underscore _ is considered as \"I don't Care\" or \"Throwaway\" variable in Python\n",
    "\n",
    "\n",
    "* The underscore _ is used for ignoring the specific values. If you don’t need the specific values or the values are not used, just assign the values to underscore.\n",
    "\n",
    "** Ignore a value when unpacking\n",
    "\n",
    "** Ignore the index"
   ]
  },
  {
   "cell_type": "code",
   "execution_count": 60,
   "id": "9cc81444-fd65-48ad-a35f-6a7689359998",
   "metadata": {},
   "outputs": [
    {
     "name": "stdout",
     "output_type": "stream",
     "text": [
      "x- 1\n",
      "y- 3\n"
     ]
    }
   ],
   "source": [
    "# Ignore a value when unpacking   => agar aapko kahi pe uss value ki need hi nahi hai to usse aap underscore me assign kar do\n",
    "x, _, y = (1, 2, 3)\n",
    "\n",
    "print(\"x-\",x)\n",
    "print(\"y-\", y)"
   ]
  },
  {
   "cell_type": "code",
   "execution_count": 62,
   "id": "b6f6dd3f-7c8c-4b4c-a9e3-d831167a64c0",
   "metadata": {},
   "outputs": [
    {
     "name": "stdout",
     "output_type": "stream",
     "text": [
      "hello\n",
      "hello\n",
      "hello\n",
      "hello\n",
      "hello\n"
     ]
    }
   ],
   "source": [
    "#Ignore the index\n",
    "\n",
    "# Say we want to print hello 5 times, we don't need index value\n",
    "\n",
    "for _ in range(5):\n",
    "    print('hello')  # yaha i varible use nahi kye kyuki uska koi use nahi hai so hum _ se kaam chala sakte hain"
   ]
  },
  {
   "cell_type": "markdown",
   "id": "17414d2e-0081-4c92-b953-634b67d54687",
   "metadata": {},
   "source": [
    "### `Q13 Modules vs packages vs Library`"
   ]
  },
  {
   "cell_type": "markdown",
   "id": "994d4813-110b-45f5-b154-c53266030f69",
   "metadata": {},
   "source": [
    "Python uses some terms that you may not be familiar with if you’re coming from a different language. Among these are modules, packages, and libraries.\n",
    "\n",
    "* A **module** is a Python file that’s intended to be imported into scripts or other modules. It often defines members like classes, functions, and variables intended to be used in other files that import it.\n",
    "\n",
    "* A **package** is a collection of related modules that work together to provide certain functionality. These modules are contained within a folder and can be imported just like any other modules. This folder will often contain a special `__init__` file that tells Python it’s a package, potentially containing more modules nested within subfolders\n",
    "\n",
    "* A **library** is an umbrella term that loosely means “a bundle of code.” These can have tens or even hundreds of individual modules that can provide a wide range of functionality. Matplotlib is a plotting library. The Python Standard Library contains hundreds of modules for performing common tasks, like sending emails or reading JSON data. What’s special about the Standard Library is that it comes bundled with your installation of Python, so you can use its modules without having to download them from anywhere.\n",
    "\n",
    "These are not strict definitions. Many people feel these terms are somewhat open to interpretation. Script and module are terms that you may hear used interchangeably.\n",
    "\n",
    "https://stackoverflow.com/questions/19198166/whats-the-difference-between-a-module-and-a-library-in-python\n",
    "\n",
    "https://www.geeksforgeeks.org/what-is-the-difference-between-pythons-module-package-and-library/"
   ]
  },
  {
   "cell_type": "markdown",
   "id": "4924e4d1-3815-46cd-86a0-fe039ffea3ad",
   "metadata": {},
   "source": [
    "### `Q14 Why 0.3 – 0.2 is not equal to 0.1 in Python?`"
   ]
  },
  {
   "cell_type": "markdown",
   "id": "a4aafed4-625a-498f-9d0d-bb37c11f6733",
   "metadata": {},
   "source": [
    "The reason behind it is called “*precision*”, and it’s due to the fact that computers do not compute in Decimal, but in Binary. Computers do not use a base 10 system, they use a base 2 system (also called Binary code).\n",
    "\n",
    "https://www.geeksforgeeks.org/why-0-3-0-2-is-not-equal-to-0-1-in-python/"
   ]
  },
  {
   "cell_type": "code",
   "execution_count": 68,
   "id": "e504350e-fb43-4fe7-911d-8fc847a9ab6f",
   "metadata": {},
   "outputs": [
    {
     "name": "stdout",
     "output_type": "stream",
     "text": [
      "0.09999999999999998\n",
      "False\n"
     ]
    }
   ],
   "source": [
    "# code\n",
    "print(0.3 - 0.2)\n",
    "print(0.3 - 0.2 == 0.1)"
   ]
  },
  {
   "cell_type": "markdown",
   "id": "7b431f3e-2f60-4e54-8964-e1bdce83c8dd",
   "metadata": {},
   "source": [
    "### `Q 15 - Python Docstrings`\n",
    "\n",
    "https://www.geeksforgeeks.org/python-docstrings"
   ]
  },
  {
   "cell_type": "code",
   "execution_count": 76,
   "id": "9c4b5f0d-d54b-4104-a164-64fdc33bd4ab",
   "metadata": {},
   "outputs": [
    {
     "name": "stdout",
     "output_type": "stream",
     "text": [
      "hello\n"
     ]
    }
   ],
   "source": [
    "print('hello')"
   ]
  },
  {
   "cell_type": "code",
   "execution_count": 78,
   "id": "a62ff1e8-9ae2-4e5c-bd35-ac65dec44fd3",
   "metadata": {},
   "outputs": [
    {
     "data": {
      "text/plain": [
       "int"
      ]
     },
     "execution_count": 78,
     "metadata": {},
     "output_type": "execute_result"
    }
   ],
   "source": [
    "type(3)"
   ]
  },
  {
   "cell_type": "code",
   "execution_count": 80,
   "id": "9cf262a2-56b8-4bc3-a9cd-617f6c3c5df3",
   "metadata": {},
   "outputs": [
    {
     "data": {
      "text/plain": [
       "'Prints the values to a stream, or to sys.stdout by default.\\n\\n  sep\\n    string inserted between values, default a space.\\n  end\\n    string appended after the last value, default a newline.\\n  file\\n    a file-like object (stream); defaults to the current sys.stdout.\\n  flush\\n    whether to forcibly flush the stream.'"
      ]
     },
     "execution_count": 80,
     "metadata": {},
     "output_type": "execute_result"
    }
   ],
   "source": [
    "print.__doc__"
   ]
  },
  {
   "cell_type": "code",
   "execution_count": 82,
   "id": "585fad2e-65ac-418a-a546-b4881c857d09",
   "metadata": {},
   "outputs": [
    {
     "name": "stdout",
     "output_type": "stream",
     "text": [
      "Prints the values to a stream, or to sys.stdout by default.\n",
      "\n",
      "  sep\n",
      "    string inserted between values, default a space.\n",
      "  end\n",
      "    string appended after the last value, default a newline.\n",
      "  file\n",
      "    a file-like object (stream); defaults to the current sys.stdout.\n",
      "  flush\n",
      "    whether to forcibly flush the stream.\n"
     ]
    }
   ],
   "source": [
    "print(print.__doc__)"
   ]
  },
  {
   "cell_type": "code",
   "execution_count": null,
   "id": "4895be9c-6c3b-4768-bee8-c4f223bcc3cf",
   "metadata": {},
   "outputs": [],
   "source": []
  },
  {
   "cell_type": "code",
   "execution_count": 93,
   "id": "70fba7f9-e4e2-480f-84dd-67df4b8d441a",
   "metadata": {},
   "outputs": [
    {
     "data": {
      "text/plain": [
       "-4"
      ]
     },
     "execution_count": 93,
     "metadata": {},
     "output_type": "execute_result"
    }
   ],
   "source": [
    "# why ~3  return -4 \n",
    "~3"
   ]
  },
  {
   "cell_type": "code",
   "execution_count": null,
   "id": "983f3fe6-3e88-43ab-8ac2-cd55049ec288",
   "metadata": {},
   "outputs": [],
   "source": []
  },
  {
   "cell_type": "code",
   "execution_count": 98,
   "id": "5ff98556-dfcb-43ce-a42a-3153ee6f7843",
   "metadata": {},
   "outputs": [
    {
     "data": {
      "text/plain": [
       "'Have'"
      ]
     },
     "execution_count": 98,
     "metadata": {},
     "output_type": "execute_result"
    }
   ],
   "source": [
    "##\n",
    "s='have'\n",
    "s.capitalize()  # ye original me change nahi karta hai phir se s ko print karane ke baad suru bala hi result aata hai"
   ]
  },
  {
   "cell_type": "code",
   "execution_count": 100,
   "id": "b6aa98c9-9512-4eb2-b4ab-39769858f118",
   "metadata": {},
   "outputs": [
    {
     "data": {
      "text/plain": [
       "'have'"
      ]
     },
     "execution_count": 100,
     "metadata": {},
     "output_type": "execute_result"
    }
   ],
   "source": [
    "s"
   ]
  },
  {
   "cell_type": "code",
   "execution_count": 102,
   "id": "279cc240-9a73-413c-ad32-7636c175e42e",
   "metadata": {},
   "outputs": [
    {
     "name": "stdout",
     "output_type": "stream",
     "text": [
      "hello\n",
      "world\n"
     ]
    },
    {
     "data": {
      "text/plain": [
       "(None, None)"
      ]
     },
     "execution_count": 102,
     "metadata": {},
     "output_type": "execute_result"
    }
   ],
   "source": [
    "##\n",
    "print('hello'),print('world')   # print function actually none return karta hai islye ye tuple ke form me print ho raha hai"
   ]
  },
  {
   "cell_type": "code",
   "execution_count": 104,
   "id": "8dcf98f9-caaa-4fa8-b894-6b40458a90c0",
   "metadata": {},
   "outputs": [
    {
     "name": "stdout",
     "output_type": "stream",
     "text": [
      "hello\n",
      "world\n"
     ]
    }
   ],
   "source": [
    "a,b = print('hello'),print('world')"
   ]
  },
  {
   "cell_type": "code",
   "execution_count": 106,
   "id": "4e859bc1-e090-4e18-9939-411c2622c1c1",
   "metadata": {},
   "outputs": [
    {
     "name": "stdout",
     "output_type": "stream",
     "text": [
      "None None\n"
     ]
    }
   ],
   "source": [
    "print(a,b) # a and b me none store ho gya qki print none return karta hai"
   ]
  },
  {
   "cell_type": "code",
   "execution_count": 108,
   "id": "6ab1a976-a596-489d-a8e7-3e75af99eea3",
   "metadata": {},
   "outputs": [],
   "source": [
    "# difference b/w range() and xrange()  --> google karo jake"
   ]
  },
  {
   "cell_type": "code",
   "execution_count": 110,
   "id": "84f5d357-9d96-4fa2-b597-e82d05c49b85",
   "metadata": {},
   "outputs": [],
   "source": [
    "#how python string stores   --> padho jake\n"
   ]
  },
  {
   "cell_type": "code",
   "execution_count": 112,
   "id": "44681537-b5ad-4b0d-9acd-87307429496d",
   "metadata": {},
   "outputs": [
    {
     "name": "stdout",
     "output_type": "stream",
     "text": [
      "3 3 3 3 "
     ]
    }
   ],
   "source": [
    "for i in range(1, 5):     # dry run karke check karo jakee \n",
    "    i = 3\n",
    "    print(i, end=' ')"
   ]
  },
  {
   "cell_type": "markdown",
   "id": "dd2b22f8-ea4f-45f2-b178-6a27525bb9be",
   "metadata": {},
   "source": [
    "https://github.com/campusx-official/dsmp-2022-23/issues/5"
   ]
  },
  {
   "cell_type": "code",
   "execution_count": null,
   "id": "69024197-0a55-4abb-ac6c-e41a8058b7fb",
   "metadata": {},
   "outputs": [],
   "source": []
  }
 ],
 "metadata": {
  "kernelspec": {
   "display_name": "Python 3 (ipykernel)",
   "language": "python",
   "name": "python3"
  },
  "language_info": {
   "codemirror_mode": {
    "name": "ipython",
    "version": 3
   },
   "file_extension": ".py",
   "mimetype": "text/x-python",
   "name": "python",
   "nbconvert_exporter": "python",
   "pygments_lexer": "ipython3",
   "version": "3.12.7"
  }
 },
 "nbformat": 4,
 "nbformat_minor": 5
}
