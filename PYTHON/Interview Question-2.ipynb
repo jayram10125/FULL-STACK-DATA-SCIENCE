{
 "cells": [
  {
   "cell_type": "markdown",
   "id": "8284d570-8c54-4057-87a7-d16f6270ce5c",
   "metadata": {},
   "source": [
    "| Question No. | Question |\n",
    "| :--: | :-- |\n",
    "| 1 | What is aliasing?  |\n",
    "| 2 | What is garbage collection?  |\n",
    "| 3 | What is mutability and why is it dangerous in certain scenarios? |\n",
    "| 4 | What is cloning? |\n",
    "| 5 | Differentiate between deep and shallow copies |\n",
    "| 6 | How nested lists are stored in memory? |\n",
    "| 7 | How strings are stored in memory |\n",
    "| 8 | Why tuples take less memory than lists? |\n",
    "| 9 | How set index position is decided? |\n",
    "| 10 | Why mutable types are not allowed in sets/dicts |"
   ]
  },
  {
   "cell_type": "code",
   "execution_count": 5,
   "id": "e673c104-d879-4c44-a3ae-958b92967df5",
   "metadata": {},
   "outputs": [
    {
     "ename": "NameError",
     "evalue": "name 'a' is not defined",
     "output_type": "error",
     "traceback": [
      "\u001b[1;31m---------------------------------------------------------------------------\u001b[0m",
      "\u001b[1;31mNameError\u001b[0m                                 Traceback (most recent call last)",
      "Cell \u001b[1;32mIn[5], line 1\u001b[0m\n\u001b[1;32m----> 1\u001b[0m \u001b[43ma\u001b[49m   \u001b[38;5;66;03m# error ko dhyan se padho name 'a' is not defined =\u001b[39;00m\n",
      "\u001b[1;31mNameError\u001b[0m: name 'a' is not defined"
     ]
    }
   ],
   "source": [
    "a   # error ko dhyan se padho name 'a' is not defined => matbal ki python variable ko name bulata hai"
   ]
  },
  {
   "cell_type": "code",
   "execution_count": 7,
   "id": "dae0e638-6eac-42ff-b40b-8b3488308e49",
   "metadata": {},
   "outputs": [],
   "source": [
    "a=4"
   ]
  },
  {
   "cell_type": "code",
   "execution_count": 9,
   "id": "a0f4acbb-4595-4b47-b791-bc11ebf4970a",
   "metadata": {},
   "outputs": [
    {
     "data": {
      "text/plain": [
       "140720820857368"
      ]
     },
     "execution_count": 9,
     "metadata": {},
     "output_type": "execute_result"
    }
   ],
   "source": [
    "id(a)"
   ]
  },
  {
   "cell_type": "code",
   "execution_count": 11,
   "id": "cc883545-e543-4a4f-ac07-6fad213f0cf2",
   "metadata": {},
   "outputs": [
    {
     "data": {
      "text/plain": [
       "140720820857368"
      ]
     },
     "execution_count": 11,
     "metadata": {},
     "output_type": "execute_result"
    }
   ],
   "source": [
    "id(4)"
   ]
  },
  {
   "cell_type": "code",
   "execution_count": 13,
   "id": "9a4042ad-47b6-421f-9c44-3596bbfa31aa",
   "metadata": {},
   "outputs": [],
   "source": [
    "# a jaha point kar raha hai wo address aur 4 ka address dono same hai it shows ki a address ko point karta hai"
   ]
  },
  {
   "cell_type": "code",
   "execution_count": 15,
   "id": "3c92edb4-38c9-4dc8-afdf-c607213fdd86",
   "metadata": {},
   "outputs": [
    {
     "data": {
      "text/plain": [
       "'0x7ffc1e8a2a18'"
      ]
     },
     "execution_count": 15,
     "metadata": {},
     "output_type": "execute_result"
    }
   ],
   "source": [
    "hex(140720820857368)  # hex format me convert kar sakte ho"
   ]
  },
  {
   "cell_type": "markdown",
   "id": "d3989f86-02c2-4983-8a44-e5c02924e1ff",
   "metadata": {},
   "source": [
    "### What is aliasing?\n",
    "\n",
    "- aliasing is a memory optimization technique (agar do variable ka same value hai to dono variable ek ko jagah point karega jisse ki extra space kharch hone se bach jayega)"
   ]
  },
  {
   "cell_type": "code",
   "execution_count": 18,
   "id": "ec01c027-23ec-4fa6-822a-bfaecdfbccc2",
   "metadata": {},
   "outputs": [],
   "source": [
    "a=4\n",
    "b=a"
   ]
  },
  {
   "cell_type": "code",
   "execution_count": 20,
   "id": "cf95c517-142a-44a1-a257-7c7f0bce2da8",
   "metadata": {},
   "outputs": [
    {
     "name": "stdout",
     "output_type": "stream",
     "text": [
      "140720820857368\n",
      "140720820857368\n"
     ]
    }
   ],
   "source": [
    "print(id(a))\n",
    "print(id(b))    # you can see dono ka address same hai"
   ]
  },
  {
   "cell_type": "code",
   "execution_count": 22,
   "id": "cc4aec29-0e05-4f8c-8742-1351e400a222",
   "metadata": {},
   "outputs": [
    {
     "name": "stdout",
     "output_type": "stream",
     "text": [
      "140720820857368\n"
     ]
    }
   ],
   "source": [
    "c=b\n",
    "print(id(c))"
   ]
  },
  {
   "cell_type": "code",
   "execution_count": 29,
   "id": "c7b76673-7c63-43f6-8317-b1fedc2acec4",
   "metadata": {},
   "outputs": [
    {
     "name": "stdout",
     "output_type": "stream",
     "text": [
      "140720820857432\n",
      "140720820857432\n"
     ]
    }
   ],
   "source": [
    "\n",
    "x=6\n",
    "y=6\n",
    "print(id(x))\n",
    "print(id(y))"
   ]
  },
  {
   "cell_type": "code",
   "execution_count": 31,
   "id": "17910b0c-90a4-4805-ba52-9f3eb8716ee0",
   "metadata": {},
   "outputs": [],
   "source": [
    "# sidhi si baat aliasing memory bachane ka tarika hai(memory optimize karne ka tarika)"
   ]
  },
  {
   "cell_type": "code",
   "execution_count": 33,
   "id": "6b75912c-64b8-443e-845d-7c66093dbf06",
   "metadata": {},
   "outputs": [],
   "source": [
    "del a"
   ]
  },
  {
   "cell_type": "code",
   "execution_count": 35,
   "id": "a4429dac-df07-4f66-8c44-a3bae95f31b5",
   "metadata": {},
   "outputs": [
    {
     "ename": "NameError",
     "evalue": "name 'a' is not defined",
     "output_type": "error",
     "traceback": [
      "\u001b[1;31m---------------------------------------------------------------------------\u001b[0m",
      "\u001b[1;31mNameError\u001b[0m                                 Traceback (most recent call last)",
      "Cell \u001b[1;32mIn[35], line 1\u001b[0m\n\u001b[1;32m----> 1\u001b[0m \u001b[43ma\u001b[49m\n",
      "\u001b[1;31mNameError\u001b[0m: name 'a' is not defined"
     ]
    }
   ],
   "source": [
    "a"
   ]
  },
  {
   "cell_type": "code",
   "execution_count": 37,
   "id": "da5189af-1b90-4a25-8e35-f0612757516f",
   "metadata": {},
   "outputs": [
    {
     "name": "stdout",
     "output_type": "stream",
     "text": [
      "4\n"
     ]
    }
   ],
   "source": [
    "print(b)   # basically jab delete karte hain to memory se data delete nahi balki reference delete ho jata hai"
   ]
  },
  {
   "cell_type": "code",
   "execution_count": 39,
   "id": "d5b50bc0-ee92-44ad-b3ad-33b0b9eded15",
   "metadata": {},
   "outputs": [],
   "source": [
    "del b"
   ]
  },
  {
   "cell_type": "code",
   "execution_count": 41,
   "id": "bcd4082b-f828-4c09-9d1c-1a2b697b7ac5",
   "metadata": {},
   "outputs": [
    {
     "name": "stdout",
     "output_type": "stream",
     "text": [
      "4\n"
     ]
    }
   ],
   "source": [
    "print(c)  # b ka reference delete ho gya but c to abhi bhi reference kar hi raha hai "
   ]
  },
  {
   "cell_type": "markdown",
   "id": "94afeac8-ace3-4fb9-986f-a48f28f12bb4",
   "metadata": {},
   "source": [
    "### What is garbage collection?"
   ]
  },
  {
   "cell_type": "code",
   "execution_count": 44,
   "id": "0b3594d7-8f11-4de4-adf0-9d582ee03858",
   "metadata": {},
   "outputs": [],
   "source": [
    "a = 'DSMP 2022 - 23'\n",
    "b=a\n",
    "c=b"
   ]
  },
  {
   "cell_type": "code",
   "execution_count": 46,
   "id": "36a0d283-6610-4792-ad43-3cd017b030ec",
   "metadata": {},
   "outputs": [
    {
     "data": {
      "text/plain": [
       "3"
      ]
     },
     "execution_count": 46,
     "metadata": {},
     "output_type": "execute_result"
    }
   ],
   "source": [
    "import sys\n",
    "sys.getrefcount('DSMP 2022 - 23')     # ye batata hai ki same location ko total kitne variable point kar raha hai"
   ]
  },
  {
   "cell_type": "code",
   "execution_count": 48,
   "id": "85b01106-c149-4e0a-9257-fba933a16d28",
   "metadata": {},
   "outputs": [],
   "source": [
    "del a\n",
    "del b\n",
    "del c"
   ]
  },
  {
   "cell_type": "code",
   "execution_count": 50,
   "id": "ccbc0ea2-49e3-42a7-8a65-c9b5290a34fa",
   "metadata": {},
   "outputs": [
    {
     "data": {
      "text/plain": [
       "2122268427248"
      ]
     },
     "execution_count": 50,
     "metadata": {},
     "output_type": "execute_result"
    }
   ],
   "source": [
    "id('DSMP 2022 - 23') # abhi bhi ye string memory me store hai lekin koi bhi variable isse use nahi kar raha hai to ye memory ko faltu me occupy karke\n",
    "                     # rakha hai to isi ko memory se delete karne ka kaam karta hai garbage collector and ye garbage collection kahlata hai"
   ]
  },
  {
   "cell_type": "code",
   "execution_count": null,
   "id": "a88546cc-c01e-4448-8a96-fefb92c23a31",
   "metadata": {},
   "outputs": [],
   "source": []
  }
 ],
 "metadata": {
  "kernelspec": {
   "display_name": "Python 3 (ipykernel)",
   "language": "python",
   "name": "python3"
  },
  "language_info": {
   "codemirror_mode": {
    "name": "ipython",
    "version": 3
   },
   "file_extension": ".py",
   "mimetype": "text/x-python",
   "name": "python",
   "nbconvert_exporter": "python",
   "pygments_lexer": "ipython3",
   "version": "3.12.7"
  }
 },
 "nbformat": 4,
 "nbformat_minor": 5
}
