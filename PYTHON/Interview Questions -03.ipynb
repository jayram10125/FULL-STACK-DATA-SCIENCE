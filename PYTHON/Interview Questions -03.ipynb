{
 "cells": [
  {
   "cell_type": "markdown",
   "id": "3ae9b43c-d655-4719-a887-2302553f9d9b",
   "metadata": {},
   "source": [
    "# Week-3"
   ]
  },
  {
   "cell_type": "markdown",
   "id": "49eedff1-db08-4515-a2f5-6908512d2293",
   "metadata": {},
   "source": [
    "- How indexing works in sets\n",
    "- Why dict key cant be mutable data types\n",
    "- Enumerate\n",
    "- destructor\n",
    "- dir/isinstance/issubclass\n",
    "- classmethod vs staticmethod\n",
    "- The diamond problem\n",
    "- What’s the meaning of single and double underscores in Python variable and method names\n",
    "- Magic Methods (repr vs str)\n",
    "- How can objects be stored in sets even though they are mutable"
   ]
  },
  {
   "cell_type": "code",
   "execution_count": 12,
   "id": "bc0cd410-4cd3-48ce-aa7b-ae93c23a0294",
   "metadata": {},
   "outputs": [
    {
     "data": {
      "text/plain": [
       "{11, 21, 34, 39, 56}"
      ]
     },
     "execution_count": 12,
     "metadata": {},
     "output_type": "execute_result"
    }
   ],
   "source": [
    "# How indexing works in sets\n",
    "s={21,34,11,56,39}\n",
    "s"
   ]
  },
  {
   "cell_type": "code",
   "execution_count": null,
   "id": "c6aac8de-f05a-49c6-9d14-c00ff7fc59e4",
   "metadata": {},
   "outputs": [],
   "source": []
  }
 ],
 "metadata": {
  "kernelspec": {
   "display_name": "Python 3 (ipykernel)",
   "language": "python",
   "name": "python3"
  },
  "language_info": {
   "codemirror_mode": {
    "name": "ipython",
    "version": 3
   },
   "file_extension": ".py",
   "mimetype": "text/x-python",
   "name": "python",
   "nbconvert_exporter": "python",
   "pygments_lexer": "ipython3",
   "version": "3.12.7"
  }
 },
 "nbformat": 4,
 "nbformat_minor": 5
}
