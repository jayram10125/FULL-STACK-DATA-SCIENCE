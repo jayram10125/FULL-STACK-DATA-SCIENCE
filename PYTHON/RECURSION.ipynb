{
 "cells": [
  {
   "cell_type": "code",
   "execution_count": 3,
   "id": "910fdb15-976b-461f-84e8-a60256498774",
   "metadata": {},
   "outputs": [
    {
     "name": "stdout",
     "output_type": "stream",
     "text": [
      "12\n"
     ]
    }
   ],
   "source": [
    "def multiply(a,b):\n",
    "    result=0\n",
    "    for i in range(b):\n",
    "        result=result+a\n",
    "\n",
    "    print(result)\n",
    "\n",
    "multiply(3,4)\n",
    "\n"
   ]
  },
  {
   "cell_type": "code",
   "execution_count": 5,
   "id": "8b9116dc-90aa-4d9d-8ccb-46ede535aee9",
   "metadata": {},
   "outputs": [],
   "source": [
    "# 3*4\n",
    "# 3+3+3+3\n",
    "\n",
    "# 3+3*3\n",
    "# 3+3+3*2\n",
    "# 3+3+3+3*1"
   ]
  },
  {
   "cell_type": "code",
   "execution_count": 9,
   "id": "729e2e19-58cd-4f7b-94de-87182be65419",
   "metadata": {},
   "outputs": [
    {
     "name": "stdout",
     "output_type": "stream",
     "text": [
      "12\n"
     ]
    }
   ],
   "source": [
    "def mul(a,b):\n",
    "    if b==1:\n",
    "        return a\n",
    "    else:\n",
    "        return a+mul(a,b-1)\n",
    "\n",
    "print(mul(3,4))\n",
    "    "
   ]
  },
  {
   "cell_type": "code",
   "execution_count": 11,
   "id": "3f4c334f-9d27-4720-9f13-9d3f2893ae70",
   "metadata": {},
   "outputs": [
    {
     "name": "stdout",
     "output_type": "stream",
     "text": [
      "palindrome\n",
      "palindrome\n",
      "not palin\n"
     ]
    }
   ],
   "source": [
    "# check an string is palindrome or not\n",
    "\n",
    "def palin(text):\n",
    "    if len(text) <=1:\n",
    "        print('palindrome')\n",
    "    else:\n",
    "        if text[0]==text[-1]:\n",
    "            palin(text[1:-1])\n",
    "        else:\n",
    "            print('not palin')\n",
    "\n",
    "\n",
    "palin('madam')\n",
    "palin('malayalam')\n",
    "palin(\"bhakk\")"
   ]
  },
  {
   "cell_type": "code",
   "execution_count": 13,
   "id": "fdba73dd-51fc-4a09-a021-9940dfbfac1a",
   "metadata": {},
   "outputs": [],
   "source": [
    "# if 2 newborn rabbits are put in a pen , how many rabbits will be in the pen after 1 year?\n",
    "# Assume that rabbits... always produce one male and one female offspring ... can reproduce once every month \n",
    "# ... can rreproduce once they are one month old... never die\n",
    "# it is nothing but a fibbonacci series -> 0th day pe 0 pair , 1st month ke end me 1 pair, 2nd month ke end me 2 pair, 3rd-> 3, 4th->5 ... \n",
    "# isi problem se fibonacci series ka invention hua "
   ]
  },
  {
   "cell_type": "code",
   "execution_count": 19,
   "id": "7fca7161-9643-4f59-a799-af75ab6956d8",
   "metadata": {},
   "outputs": [
    {
     "name": "stdout",
     "output_type": "stream",
     "text": [
      "75025\n"
     ]
    }
   ],
   "source": [
    "def fib(m):\n",
    "    if m==0 or m==1:\n",
    "        return 1\n",
    "    else:\n",
    "        return fib(m-1) + fib(m-2)\n",
    "\n",
    "print(fib(24))"
   ]
  },
  {
   "cell_type": "code",
   "execution_count": 23,
   "id": "daaf9900-d23c-4e29-bf4c-30d609cd620b",
   "metadata": {},
   "outputs": [
    {
     "name": "stdout",
     "output_type": "stream",
     "text": [
      "24157817\n",
      "7.407278776168823\n"
     ]
    }
   ],
   "source": [
    "import time\n",
    "def fib(m):\n",
    "    if m==0 or m==1:\n",
    "        return 1\n",
    "    else:\n",
    "        return fib(m-1) + fib(m-2)\n",
    "start=time.time()\n",
    "print(fib(36))\n",
    "print(time.time()-start)"
   ]
  },
  {
   "cell_type": "code",
   "execution_count": null,
   "id": "d117fa59-932f-4df0-bede-0b0dc249651c",
   "metadata": {},
   "outputs": [],
   "source": [
    "# how we can manage time --> using dynamic programming"
   ]
  }
 ],
 "metadata": {
  "kernelspec": {
   "display_name": "Python 3 (ipykernel)",
   "language": "python",
   "name": "python3"
  },
  "language_info": {
   "codemirror_mode": {
    "name": "ipython",
    "version": 3
   },
   "file_extension": ".py",
   "mimetype": "text/x-python",
   "name": "python",
   "nbconvert_exporter": "python",
   "pygments_lexer": "ipython3",
   "version": "3.12.7"
  }
 },
 "nbformat": 4,
 "nbformat_minor": 5
}
