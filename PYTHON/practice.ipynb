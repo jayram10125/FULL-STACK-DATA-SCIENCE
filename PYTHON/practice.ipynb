{
 "cells": [
  {
   "cell_type": "code",
   "execution_count": 2,
   "id": "ad869a50",
   "metadata": {},
   "outputs": [
    {
     "name": "stdout",
     "output_type": "stream",
     "text": [
      "the sum of three digit number is :  6\n"
     ]
    }
   ],
   "source": [
    "# program -Find the sum of 3 digit number entered by the user\n",
    "\n",
    "\n",
    "a = int(input(\"Enter a three digit number : \"))\n",
    "sum=0\n",
    "rem=a%10\n",
    "sum=sum+rem\n",
    "a=a//10\n",
    "rem=a%10\n",
    "sum=sum+rem\n",
    "a=a//10\n",
    "rem=a%10\n",
    "sum=sum+rem\n",
    "a=a//10\n",
    "print(\"the sum of three digit number is : \",sum)"
   ]
  },
  {
   "cell_type": "code",
   "execution_count": 4,
   "id": "767118ff",
   "metadata": {},
   "outputs": [
    {
     "name": "stdout",
     "output_type": "stream",
     "text": [
      "40\n",
      "enter a lower number : \n",
      "30\n",
      "enter a lower number : \n",
      "20\n",
      "enter a higher numbr : \n",
      "25\n",
      "enter a lower number : \n",
      "22\n",
      "enter a higher numbr : \n",
      "24\n",
      "!you guesses the number in  6 attempts!\n"
     ]
    }
   ],
   "source": [
    "# random number gussing game\n",
    "import random\n",
    "n=random.randint(1,50)\n",
    "count=0\n",
    "a=int(input(\"guess a number between 1 and 50:\"))\n",
    "print(a)\n",
    "count+=1\n",
    "while 1:\n",
    "    if a>n:\n",
    "        print(\"enter a lower number : \")\n",
    "        a=int(input())\n",
    "        print(a)\n",
    "        count+=1\n",
    "        if a==n:\n",
    "            print(\"!you guesses the number in \",count,\"attempts!\")\n",
    "            break\n",
    "      \n",
    "    elif a<n:\n",
    "        print(\"enter a higher numbr : \")\n",
    "        a=int(input())\n",
    "        print(a)\n",
    "        count+=1\n",
    "        if a==n:\n",
    "            print(\"!you guesses the number in \",count,\"attempts!\")\n",
    "            break\n",
    "    else:\n",
    "        print(\"!you guesses the number in \",count,\"attempts!\")\n",
    "        break\n",
    "\n",
    "    "
   ]
  },
  {
   "cell_type": "code",
   "execution_count": 6,
   "id": "eac7165a",
   "metadata": {},
   "outputs": [
    {
     "name": "stdout",
     "output_type": "stream",
     "text": [
      "population of  10 th year is :  10000\n",
      "population of  9 th year is :  9090.90909090909\n",
      "population of  8 th year is :  8264.462809917353\n",
      "population of  7 th year is :  7513.148009015775\n",
      "population of  6 th year is :  6830.134553650703\n",
      "population of  5 th year is :  6209.213230591548\n",
      "population of  4 th year is :  5644.739300537771\n",
      "population of  3 th year is :  5131.5811823070635\n",
      "population of  2 th year is :  4665.07380209733\n",
      "population of  1 th year is :  4240.976183724845\n"
     ]
    }
   ],
   "source": [
    "# the current population of a town is 10000. the population of the town is increasing at the rate of 10% per year .you have to write a program to find out the population at the end of each of the last 10 years\n",
    "population = 10000\n",
    "for i in range(10,0,-1):\n",
    "    print(\"population of \",i ,\"th year is : \",population)\n",
    "    population = population/1.1\n"
   ]
  },
  {
   "cell_type": "code",
   "execution_count": null,
   "id": "b45b9395",
   "metadata": {},
   "outputs": [],
   "source": []
  },
  {
   "cell_type": "markdown",
   "id": "b811ebae",
   "metadata": {},
   "source": [
    "# Sequence sum\n",
    "1/1! + 2/2! +3/3!+...."
   ]
  },
  {
   "cell_type": "code",
   "execution_count": 8,
   "id": "d2e3db77",
   "metadata": {},
   "outputs": [
    {
     "name": "stdout",
     "output_type": "stream",
     "text": [
      "2.708333333333333\n"
     ]
    }
   ],
   "source": [
    "n=int(input(\"enter a number : \"))\n",
    "fact=1\n",
    "res=0\n",
    "for i in range (1,n+1):\n",
    "    fact*=i\n",
    "    res=res+(i/fact)\n",
    "\n",
    "print(res)"
   ]
  },
  {
   "cell_type": "code",
   "execution_count": 9,
   "id": "9e9ceca0",
   "metadata": {},
   "outputs": [
    {
     "data": {
      "text/plain": [
       "2.708333333333333"
      ]
     },
     "execution_count": 9,
     "metadata": {},
     "output_type": "execute_result"
    }
   ],
   "source": [
    "1+1+(1/2)+(1/6)+(1/24)\n"
   ]
  },
  {
   "cell_type": "markdown",
   "id": "9faf8749",
   "metadata": {},
   "source": [
    " *<br>\n",
    " **<br>\n",
    " ***<br>\n",
    " ****<br>"
   ]
  },
  {
   "cell_type": "code",
   "execution_count": 12,
   "id": "bde7e7bc",
   "metadata": {},
   "outputs": [
    {
     "name": "stdout",
     "output_type": "stream",
     "text": [
      "*\n",
      "**\n",
      "***\n",
      "****\n"
     ]
    }
   ],
   "source": [
    "n=int(input('enter the number of rows:'))\n",
    "for i in range(1,n+1):\n",
    "    for j in range(i):\n",
    "        print(\"*\",end='')\n",
    "    print()"
   ]
  },
  {
   "cell_type": "code",
   "execution_count": null,
   "id": "a128ea05",
   "metadata": {},
   "outputs": [],
   "source": []
  },
  {
   "cell_type": "markdown",
   "id": "cb5c183f",
   "metadata": {},
   "source": [
    "# pattern 2\n",
    "1<br>\n",
    "121<br>\n",
    "12321<br>\n",
    "1234321<br>"
   ]
  },
  {
   "cell_type": "code",
   "execution_count": 21,
   "id": "4b54d1f6",
   "metadata": {},
   "outputs": [
    {
     "name": "stdout",
     "output_type": "stream",
     "text": [
      "1\n",
      "121\n",
      "12321\n",
      "1234321\n",
      "123454321\n"
     ]
    }
   ],
   "source": [
    "n=int(input(\"enter number of rows: \"))\n",
    "for i in range(1,n+1):\n",
    "    for j in range(1,i+1):\n",
    "        print(j,end=\"\")\n",
    "    for k in range(i-1,0,-1):\n",
    "        print(k,end=\"\")\n",
    "    print()"
   ]
  },
  {
   "cell_type": "markdown",
   "id": "25650b79",
   "metadata": {},
   "source": [
    "# ques\n",
    "- print series of prime number"
   ]
  },
  {
   "cell_type": "code",
   "execution_count": 22,
   "id": "705328b9",
   "metadata": {},
   "outputs": [
    {
     "name": "stdout",
     "output_type": "stream",
     "text": [
      "2\n",
      "3\n",
      "5\n",
      "7\n",
      "11\n",
      "13\n",
      "17\n",
      "19\n",
      "23\n",
      "29\n",
      "31\n",
      "37\n",
      "41\n",
      "43\n",
      "47\n"
     ]
    }
   ],
   "source": [
    "n=int(input(\"enter a number:\"))\n",
    "for i in range(2,n+1):\n",
    "    for j in range(2,i):\n",
    "        if i%j==0:\n",
    "            break\n",
    "    else:\n",
    "        print(i)   "
   ]
  },
  {
   "cell_type": "code",
   "execution_count": null,
   "id": "d279ac30",
   "metadata": {},
   "outputs": [
    {
     "name": "stdout",
     "output_type": "stream",
     "text": [
      "True\n"
     ]
    }
   ],
   "source": []
  },
  {
   "cell_type": "code",
   "execution_count": null,
   "id": "1497273c",
   "metadata": {},
   "outputs": [],
   "source": []
  }
 ],
 "metadata": {
  "kernelspec": {
   "display_name": ".venv",
   "language": "python",
   "name": "python3"
  },
  "language_info": {
   "codemirror_mode": {
    "name": "ipython",
    "version": 3
   },
   "file_extension": ".py",
   "mimetype": "text/x-python",
   "name": "python",
   "nbconvert_exporter": "python",
   "pygments_lexer": "ipython3",
   "version": "3.12.5"
  }
 },
 "nbformat": 4,
 "nbformat_minor": 5
}
