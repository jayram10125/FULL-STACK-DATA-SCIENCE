{
 "cells": [
  {
   "cell_type": "markdown",
   "id": "1c355997",
   "metadata": {},
   "source": [
    "### `Problem 1`: Write a program that will give you in hand monthly salary after deduction on CTC - HRA(10%), DA(5%), PF(3%) and taxes deduction as below:\n",
    "\n",
    "> Salary(Lakhs) : Tax(%)\n",
    "\n",
    "*   Below 5 : 0%\n",
    "*   5-10 : 10%\n",
    "*   10-20 : 20%\n",
    "*   aboove 20 : 30%"
   ]
  },
  {
   "cell_type": "code",
   "execution_count": 3,
   "id": "4b80138b",
   "metadata": {},
   "outputs": [
    {
     "name": "stdout",
     "output_type": "stream",
     "text": [
      "in hand salary =  1850000.0\n"
     ]
    }
   ],
   "source": [
    "ctc=int(input(\"enter the ctc:\"))\n",
    "deduction=(ctc*((10+5+3)/100))\n",
    "tax=0\n",
    "if ctc<500000:\n",
    "    tax=0\n",
    "elif ctc>500000 and ctc<=1000000:\n",
    "    tax = 500000*(10/100)\n",
    "elif ctc>1000000 and ctc<=2000000:\n",
    "    tax = 500000*(10/100) + 1000000*(10/100)\n",
    "else:\n",
    "    tax = (500000*(10/100)) + (1000000*(10/100)) + ((ctc-2000000)*(10/100))\n",
    "print(\"in hand salary = \",ctc-(deduction + tax))\n"
   ]
  },
  {
   "cell_type": "markdown",
   "id": "a42980d2",
   "metadata": {},
   "source": [
    "### `Problem 2`: Write a program that take a user input of three angles and will find out whether it can form a triangle or not."
   ]
  },
  {
   "cell_type": "code",
   "execution_count": 5,
   "id": "e75a9752",
   "metadata": {},
   "outputs": [
    {
     "name": "stdout",
     "output_type": "stream",
     "text": [
      "can form a triangle\n"
     ]
    }
   ],
   "source": [
    "a=int(input(\"enter first angle : \"))\n",
    "b=int(input(\"enter second angle : \"))\n",
    "c=int(input(\"enter third angle : \"))\n",
    "if (a+b+c)==180:\n",
    "    print(\"can form a triangle\")\n",
    "else:\n",
    "    print(\"can't form a triangle\")\n",
    "\n",
    "\n"
   ]
  },
  {
   "cell_type": "markdown",
   "id": "28fb341d",
   "metadata": {},
   "source": [
    "### `Problem 3`: Write a program that will take user input of cost price and selling price and determines whether its a loss or a profit."
   ]
  },
  {
   "cell_type": "code",
   "execution_count": 6,
   "id": "f97f865f",
   "metadata": {},
   "outputs": [
    {
     "name": "stdout",
     "output_type": "stream",
     "text": [
      "profit 20\n"
     ]
    }
   ],
   "source": [
    "cp = int(input('enterr cost price : '))\n",
    "sp = int(input('enter selling price : '))\n",
    "if sp>cp:\n",
    "    print(\"profit\",(sp-cp))\n",
    "elif sp<cp:\n",
    "    print(\"loss : \",(cp-sp))\n",
    "else:\n",
    "    print(\"neither loss nor profit\")"
   ]
  },
  {
   "cell_type": "markdown",
   "id": "87b06e1c",
   "metadata": {},
   "source": [
    "### `Problem 4`: Write a menu-driven program - \n",
    "1. cm to ft \n",
    "2. km to miles \n",
    "3. USD to INR \n",
    "4. exit"
   ]
  },
  {
   "cell_type": "code",
   "execution_count": 2,
   "id": "9c1193e2",
   "metadata": {},
   "outputs": [
    {
     "name": "stdout",
     "output_type": "stream",
     "text": [
      "select your choice : \n",
      " 1.cm to ft\n",
      " 2.km to miles\n",
      " 3.USD to INR\n",
      " 4.exit\n",
      "Amount in rupies is :  1057.44\n"
     ]
    }
   ],
   "source": [
    "print(\"select your choice : \\n 1.cm to ft\\n 2.km to miles\\n 3.USD to INR\\n 4.exit\")\n",
    "while True:\n",
    "    choice = int(input(\"Enter you Choice(1,2,3,4) : \"))\n",
    "    if choice == 1:\n",
    "        cm = int(input(\"Enter length in cm : \"))\n",
    "        ft = cm/30.48\n",
    "        print(\"length in ft is : \",ft)\n",
    "    elif choice == 2:\n",
    "        km = int(input(\"Enter length in km : \"))\n",
    "        miles = km/1.609\n",
    "        print(\"length in miles is : \",miles)\n",
    "    elif choice == 3:\n",
    "        USD = int(input(\"Enter Amount in USD : \"))\n",
    "        rs = USD * 88.12\n",
    "        print(\"Amount in rupies is : \",rs)\n",
    "    elif choice==4:\n",
    "        break\n",
    "    else:\n",
    "        print(\"invalid chice please enter a perfect choice\")\n",
    "\n"
   ]
  },
  {
   "cell_type": "markdown",
   "id": "8e97909d",
   "metadata": {},
   "source": [
    "### `Problem 5` - Exercise 12: Display Fibonacci series up to 10 terms.\n",
    "\n",
    "*Note: The Fibonacci Sequence is a series of numbers. The next number is found by adding up the two numbers before it. The first two numbers are 0 and 1. For example, 0, 1, 1, 2, 3, 5, 8, 13, 21. The next number in this series above is 13+21 = 34*"
   ]
  },
  {
   "cell_type": "code",
   "execution_count": null,
   "id": "493046a3",
   "metadata": {},
   "outputs": [],
   "source": []
  }
 ],
 "metadata": {
  "kernelspec": {
   "display_name": ".venv",
   "language": "python",
   "name": "python3"
  },
  "language_info": {
   "codemirror_mode": {
    "name": "ipython",
    "version": 3
   },
   "file_extension": ".py",
   "mimetype": "text/x-python",
   "name": "python",
   "nbconvert_exporter": "python",
   "pygments_lexer": "ipython3",
   "version": "3.12.5"
  }
 },
 "nbformat": 4,
 "nbformat_minor": 5
}
